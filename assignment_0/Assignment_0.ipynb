{
 "cells": [
  {
   "cell_type": "markdown",
   "metadata": {
    "id": "BckUOSXHptwv"
   },
   "source": [
    "## ECBM E4040 Neural Networks and Deep Learning \n",
    "### Columbia University, Fall 2022."
   ]
  },
  {
   "cell_type": "markdown",
   "metadata": {
    "id": "OTCbBGu2ptwz"
   },
   "source": [
    "# ECBM E4040 - Assignment 0 "
   ]
  },
  {
   "cell_type": "markdown",
   "metadata": {
    "id": "0ybyMSAPptw2"
   },
   "source": [
    "The assignment is distributed as a Jupyter notebook called Assignment 0.ipynb from a Github repository (or as a zip file).  Additional instructions and support material for the assignment can be found in file README.md which comes with the assignment and in a set of webpages under https://ecbme4040.github.io. The assignment uses TensorFlow version 2.4. \n",
    "\n",
    "The simplest way to initially see the content of the jupyter notebook file Assignment 0.ipynb is to use Google Colab in the cloud: (i) Use your UNI@columbia.edu account to log into Colab (https://colab.research.google.com/notebooks/intro.ipynb); (ii) Upload Assignment 0.ipynb, explore and run the file. \n",
    "\n",
    "For students who are formally registered into this class at the end of the add/drop period, the assignment requires that students complete the tasks from this Jupyter Notebook while running it on the Google Cloud (GCP) custom image (not Colab, Colab is only a temporary execution method).\n",
    "\n",
    "Detailed instructions on how to submit this assignment/homework will be posted after the add/drop period."
   ]
  },
  {
   "cell_type": "markdown",
   "metadata": {
    "id": "erLmkACPptw4"
   },
   "source": [
    "## Welcome to ECBM E4040 Neural Networks & Deep Learning \n",
    "\n",
    "This course teaches theory, concepts, modeling and programming techniques. The assignments are focused on practical coding for creating, testing and running deep learning models.\n",
    "\n",
    "The __Assignment 0__ introduces our programming environment and tools, and basic TensorFlow operations.\n",
    "\n",
    "The assignment consists of the following components:\n",
    "* Programming environment setup - Google Compute Engine/local machine, Python, TensorFlow.\n",
    "* Using Jupyter Notebook\n",
    "* TensorFlow basics\n",
    "* A demo of a program written in TensorFlow\n",
    "\n",
    "<p style='color:red'>Cells marked with <strong>'TODO'</strong> need to be completed by students, as a part of the assignment.</p>\n",
    "\n",
    "Please consult TAs or post your problems/issues on Ed Discucssion."
   ]
  },
  {
   "cell_type": "markdown",
   "metadata": {
    "id": "H9x7wOPtptw6"
   },
   "source": [
    "## Part 1 - Setting up the Programming Environment\n",
    "\n",
    "For this course, we use __Python__ as the programming language, and [__TensorFlow__](https://www.tensorflow.org) as the deep learning framework. \n",
    "\n",
    "Our course website (https://ecbme4040.github.io/) provides a number of tutorials:\n",
    "* Local Environment Setup\n",
    "* Google Compute Engine (GCE) Setup on the Google Cloud Platform (GCP)\n",
    "* Python Tutorial\n",
    "* TensorFlow Tutorial\n",
    "* Linux Tutorial\n",
    "* Git Commands\n",
    "* Google Colab"
   ]
  },
  {
   "cell_type": "markdown",
   "metadata": {
    "id": "lMsvsV_oSw0C"
   },
   "source": [
    "<p style='color:red'><strong>TODO:</strong></p>\n",
    "\n",
    "This list shows the big picture for what students need to do to complete the assignment. Later cells in this Jupyter notebook describe the details of the operations that need to be executed as TODO items.\n",
    "\n",
    "* Create an account on Github, and familiarize yourself both with git operations and with Github \n",
    "\n",
    "* Execute Assignment0.ipynb in Colab: Fetch the Assignment0.ipynb file (from Github), upload it to Google Colab, and execute it inside the Colab environment. To do this, you need to understand python, and the operation of jupyter notebooks. This step is useful for a quick first execution. Keep the modified Jupyter notebook with your solutions.\n",
    "\n",
    "* Create your own Google Cloud project and virtual machine (VM) instance in the Google Cloud Platform, by following the tutorial on Google Compute Engine (GCE) Setup. This will be the main and the required mode of operation for all future assignments. Note: working with Google Cloud requires funding - you can initially use the $300 that everyone gets from Google, after the add/drop period you will be given codes/coupons from the instructors.\n",
    "\n",
    "* Execute (again) the Assignment0.ipynb within your VM in the Google Cloud. Save the resulting Jupyter Notebook. Take screenshots of the VM instance from the Google Cloud project dashboard. Take a screenshot of the Jupyter notebook when launched from google cloud. The screenshots will need to be submitted as a part of the homework to document that you have successfully launched a cloud instance. The modified Jupyter notebook which contains the populate \"TODO/SOLUTIONS\" portions of the code needs to be submitted.\n",
    "\n",
    "* __(Optional)__ Set up your local laptop deep learning environment, following the tutorial on the Local Environment Setup. Since the use of Google Cloud requires funding, it is often useful to debug your code locally on a laptop, and to run it remotely in Google Cloud VM.\n",
    "\n",
    "* __(Optional)__ Knowledge of Python, Linux and Git operations are needed for this course. Doing the tutorials is optional, depending on your prior knowledge of these topics.\n",
    "\n",
    "* __(Optional)__ Tutorials on TensorFlow are extensive. As you progress with this course, they are an excellent complement to our class."
   ]
  },
  {
   "cell_type": "markdown",
   "metadata": {
    "id": "h0-p84qHptw8"
   },
   "source": [
    "## Part 2 - How to use Jupyter Notebook - Basics\n",
    "\n",
    "Jupyter Notebook is an interactive Python programming interface. Jupyter Notebook files have a postfix _.ipynb_, and each file is made up of several blocks of code which are called __cells__. Each cell can be configured as a __coding cell__ or a __Markdown text cell__. Google colab is the easiest installation-free platform to run and familiarize oneself with Jupyter Notebook operations.\n",
    "\n",
    "Basic instructions:\n",
    "\n",
    "* The menu bars are located on the top of a notebook.\n",
    "* To execute a cell, select it, and press `ctrl+Enter`. (You may also try `shift+Enter` and `alt+Enter` to see the difference).\n",
    "* To switch between code and Markdown, select a cell, and select the mode you want in the dropdown menu in the menu bar.\n",
    "\n",
    "A full guide to Jupyter Notebook can be accessed in the _Help_ menu in the menu bar. \n"
   ]
  },
  {
   "cell_type": "code",
   "execution_count": 1,
   "metadata": {
    "colab": {
     "base_uri": "https://localhost:8080/"
    },
    "id": "ih8-yaIcptw-",
    "outputId": "d117cce9-b5ad-4dbd-c3d0-a93ac1154cc9"
   },
   "outputs": [
    {
     "name": "stdout",
     "output_type": "stream",
     "text": [
      "Hello Jupyter!\n"
     ]
    }
   ],
   "source": [
    "# To test that you understand how to use a coding cell, make this cell output a string 'Hello Jupyter!'. \n",
    "# We've written the code, all you need to do is to execute it.\n",
    "print('Hello Jupyter!')"
   ]
  },
  {
   "cell_type": "markdown",
   "metadata": {
    "id": "HHIrOHgHptxN"
   },
   "source": [
    "## Part 3 - TensorFlow Basics\n",
    "\n",
    "TensorFlow is one of the most popular deep learning frameworks. Originally created by Google, it has received a lot of community support. TensorFlow versions before v2.0 (until summer 2019) contained a number of detailed functions for construction of deep learning (neural network) models, and relied on a two-step process for model creation and execution. \n",
    "TensorFlow versions 2.0 and beyond focus on simplicity and ease of use, with updates like eager execution, intuitive Keras-based higher-level APIs, and flexible model building on any platform.\n",
    "\n",
    "In this part, we look at some basic TensorFlow concepts and operations."
   ]
  },
  {
   "cell_type": "code",
   "execution_count": 2,
   "metadata": {
    "colab": {
     "base_uri": "https://localhost:8080/"
    },
    "id": "ZA_ETQgWSw0N",
    "outputId": "78ff870c-bbb3-4bbe-84ae-c354fc18b537"
   },
   "outputs": [
    {
     "name": "stdout",
     "output_type": "stream",
     "text": [
      "Requirement already satisfied: matplotlib in /home/ecbm4040/envTF24/lib/python3.6/site-packages (3.3.4)\n",
      "Requirement already satisfied: python-dateutil>=2.1 in /home/ecbm4040/envTF24/lib/python3.6/site-packages (from matplotlib) (2.8.2)\n",
      "Requirement already satisfied: pillow>=6.2.0 in /home/ecbm4040/envTF24/lib/python3.6/site-packages (from matplotlib) (8.3.2)\n",
      "Requirement already satisfied: pyparsing!=2.0.4,!=2.1.2,!=2.1.6,>=2.0.3 in /home/ecbm4040/envTF24/lib/python3.6/site-packages (from matplotlib) (2.4.7)\n",
      "Requirement already satisfied: cycler>=0.10 in /home/ecbm4040/envTF24/lib/python3.6/site-packages (from matplotlib) (0.10.0)\n",
      "Requirement already satisfied: numpy>=1.15 in /home/ecbm4040/envTF24/lib/python3.6/site-packages (from matplotlib) (1.19.5)\n",
      "Requirement already satisfied: kiwisolver>=1.0.1 in /home/ecbm4040/envTF24/lib/python3.6/site-packages (from matplotlib) (1.3.1)\n",
      "Requirement already satisfied: six in /home/ecbm4040/envTF24/lib/python3.6/site-packages (from cycler>=0.10->matplotlib) (1.15.0)\n",
      "\u001b[33mWARNING: You are using pip version 21.2.4; however, version 21.3.1 is available.\n",
      "You should consider upgrading via the '/home/ecbm4040/envTF24/bin/python3 -m pip install --upgrade pip' command.\u001b[0m\n",
      "matplotlib installed\n"
     ]
    }
   ],
   "source": [
    "# This cell installs matplotlib tool, directly from Jupyter Notebook. \n",
    "# Run this cell just once after removing the '#' sign before the command.\n",
    "!pip install --upgrade matplotlib\n",
    "print(\"matplotlib installed\")"
   ]
  },
  {
   "cell_type": "code",
   "execution_count": 3,
   "metadata": {
    "colab": {
     "base_uri": "https://localhost:8080/"
    },
    "id": "Zfw8_AOlptxP",
    "outputId": "43af9a2d-8d9a-4600-86e4-c3c820bbbb28"
   },
   "outputs": [
    {
     "name": "stdout",
     "output_type": "stream",
     "text": [
      "TensorFlow Version=\n",
      "2.4.0\n"
     ]
    }
   ],
   "source": [
    "# Activating TensorFlow in Jupyter Notebook\n",
    "\n",
    "# Disable some warnings, to simplify the output when running the cells\n",
    "import warnings\n",
    "warnings.simplefilter(action='ignore', category=FutureWarning)\n",
    "import numpy as np\n",
    "\n",
    "# Import the TensorFlow module\n",
    "import tensorflow as tf\n",
    "\n",
    "print('TensorFlow Version=')\n",
    "print(tf.__version__)\n",
    "\n",
    "# The following modules will be used in later parts of the assignment.\n",
    "# Make sure that you install the latest version of numpy and matplotlib \n",
    "#(inside your conda workspace). Alternatively, inside your virtual environment, use \"conda install numpy\" \n",
    "# and \"conda install matplotlib\" and restart the jupyter notebook. \n",
    "import numpy as np\n",
    "# import input_data\n",
    "%matplotlib inline\n",
    "from matplotlib import pyplot as plt\n",
    "import time"
   ]
  },
  {
   "cell_type": "markdown",
   "metadata": {
    "id": "xqIRW2wcptxY"
   },
   "source": [
    "#### 1. Use of string constant with TensorFlow"
   ]
  },
  {
   "cell_type": "markdown",
   "metadata": {
    "id": "FxB4Oqtvptxa"
   },
   "source": [
    "In TensorFlow 2.0 the concept of sessions (as in versions before 2.0) has been deprecated. Now, variables are accessible instantly (as compared to after sess.run), making this flow \"more pythonic in style\"."
   ]
  },
  {
   "cell_type": "code",
   "execution_count": 4,
   "metadata": {
    "colab": {
     "base_uri": "https://localhost:8080/"
    },
    "id": "sGS6SiZJptxc",
    "outputId": "77b1122f-d875-4976-a9ce-cf58b91612a7"
   },
   "outputs": [
    {
     "name": "stdout",
     "output_type": "stream",
     "text": [
      "Hello TensorFlow!\n"
     ]
    }
   ],
   "source": [
    "# Example\n",
    "# Define a string constant\n",
    "string = tf.constant('Hello TensorFlow!')\n",
    "tf.print(string)"
   ]
  },
  {
   "cell_type": "markdown",
   "metadata": {
    "id": "IE5Yd4Oeptxl"
   },
   "source": [
    "<p style='color:red'><strong>TODO:</strong></p>"
   ]
  },
  {
   "cell_type": "markdown",
   "metadata": {
    "id": "T4Y9UjDmebdo"
   },
   "source": [
    "Follow the example above and use TensorFlow to output the string 'YOUR_NAME:YOUR_UNI'. "
   ]
  },
  {
   "cell_type": "markdown",
   "metadata": {
    "id": "YlQaSaBwSw0e"
   },
   "source": [
    "<p style='color:red'><strong>SOLUTION (enter a new cell below):</strong></p>"
   ]
  },
  {
   "cell_type": "code",
   "execution_count": 5,
   "metadata": {
    "colab": {
     "base_uri": "https://localhost:8080/"
    },
    "id": "4lIlv1fVk6qI",
    "outputId": "6a688d94-0fb5-4794-e8d9-338672b40d3d"
   },
   "outputs": [
    {
     "name": "stdout",
     "output_type": "stream",
     "text": [
      "Zhihao Yi: zy2523\n"
     ]
    }
   ],
   "source": [
    "name = tf.constant('Zhihao Yi: zy2523')\n",
    "tf.print(name)"
   ]
  },
  {
   "cell_type": "markdown",
   "metadata": {
    "id": "LSBsfBIQptx3"
   },
   "source": [
    "#### 2. Basic math in TensorFlow"
   ]
  },
  {
   "cell_type": "code",
   "execution_count": 6,
   "metadata": {
    "colab": {
     "base_uri": "https://localhost:8080/"
    },
    "id": "Gy6l7PvLptx4",
    "outputId": "3a2dfaf6-3aec-4bc3-e67f-10a180f031f9"
   },
   "outputs": [
    {
     "name": "stdout",
     "output_type": "stream",
     "text": [
      "a: 10\n",
      "b: 20\n",
      "addition: 30\n",
      "subtraction: -10\n"
     ]
    }
   ],
   "source": [
    "# Example\n",
    "\n",
    "# Define 2 constant nodes. It is a good habit to name your nodes. \n",
    "# The name of the nodes will appear in the TensorBoard graph.\n",
    "a = tf.constant(10, dtype=tf.float32, name='a')\n",
    "b = tf.constant(20, dtype=tf.float32, name='b')\n",
    "\n",
    "# Addition and subtraction\n",
    "add = tf.add(a, b, name='add') # same as a+b\n",
    "sub = tf.subtract(a, b, name='sub') # same as a-b\n",
    "\n",
    "# There is no need for the session to run these operations (as in TensorFlow 1.*)\n",
    "tf.print(\"a:\", a)\n",
    "tf.print(\"b:\", b)\n",
    "tf.print(\"addition:\", add)\n",
    "tf.print(\"subtraction:\", sub)"
   ]
  },
  {
   "cell_type": "markdown",
   "metadata": {
    "id": "-BKpajYGptx-"
   },
   "source": [
    "<p style='color:red'><strong>TODO:</strong></p>"
   ]
  },
  {
   "cell_type": "code",
   "execution_count": 7,
   "metadata": {
    "id": "9qEfh9YOptyA"
   },
   "outputs": [],
   "source": [
    "# Visit https://www.tensorflow.org/api_guides/python/math_ops \n",
    "# Find proper operations to calculate \n",
    "# a*b (multiplication), a/b (division), a^b (power) and log(a) (natural logarithm),\n",
    "# and demonstrate their uses by printing their results.\n",
    "# (Note: 'a' and 'b' are defined in the previous cell, you should use them directly.)"
   ]
  },
  {
   "cell_type": "markdown",
   "metadata": {
    "id": "07VHHDK8Sw0n"
   },
   "source": [
    "<p style='color:red'><strong>SOLUTION (enter a new cell below):</strong></p>"
   ]
  },
  {
   "cell_type": "code",
   "execution_count": 8,
   "metadata": {
    "colab": {
     "base_uri": "https://localhost:8080/"
    },
    "id": "NSq04yQeK76x",
    "outputId": "926dda3a-c7ae-4b8a-9f1c-d598776abfa5"
   },
   "outputs": [
    {
     "name": "stdout",
     "output_type": "stream",
     "text": [
      "multiplication: 200\n",
      "division: 0.5\n",
      "power: 9.99999932e+19\n",
      "log(a): 2.30258512\n"
     ]
    }
   ],
   "source": [
    "mult = tf.multiply(a, b, name='mult')\n",
    "divi = tf.divide(a, b, name='divi')\n",
    "power = tf.pow(a, b, name='power')\n",
    "log = tf.math.log(a, name='log')\n",
    "tf.print(\"multiplication:\", mult)\n",
    "tf.print(\"division:\", divi)\n",
    "tf.print(\"power:\", power)\n",
    "tf.print(\"log(a):\", log)"
   ]
  },
  {
   "cell_type": "markdown",
   "metadata": {
    "id": "AUY_auy5ptyF"
   },
   "source": [
    "#### 3. Constant tensor, sequences and random numbers in TensorFlow"
   ]
  },
  {
   "cell_type": "code",
   "execution_count": 9,
   "metadata": {
    "colab": {
     "base_uri": "https://localhost:8080/"
    },
    "id": "eJH7b1ZLptyG",
    "outputId": "57a984c8-378e-4909-9f76-8eb014903220"
   },
   "outputs": [
    {
     "name": "stdout",
     "output_type": "stream",
     "text": [
      "0 array:\n",
      " [[0 0 0]\n",
      " [0 0 0]]\n",
      "1 array:\n",
      " [[1 1 1]\n",
      " [1 1 1]]\n",
      "0 inferred:\n",
      " [[0 0 0]\n",
      " [0 0 0]]\n",
      "1 inferred:\n",
      " [[1 1 1]\n",
      " [1 1 1]]\n",
      "linear sequence:\n",
      " [0 1.25 2.5 3.75 5]\n",
      "range:\n",
      " [0 1 2 ... 4 5 6]\n",
      "Random normal:\n",
      " [2.5325563 6.13428354 2.24487114 1.32184446 1.8722688]\n"
     ]
    }
   ],
   "source": [
    "# In TensorFlow, a tensor is an n-dimensional array. \n",
    "# 0-d tensor is a scalar. 1-d tensor is a vector, and so on.\n",
    "\n",
    "# We can use TF functions to create all-zero and all-one tensors.\n",
    "zero_array = tf.zeros(shape=[2,3], dtype=tf.float32, name='zero_array')\n",
    "one_array = tf.ones(shape=[2,3], dtype=tf.float32, name='one_array')\n",
    "\n",
    "# Or use a template to infer the shape.\n",
    "template = tf.constant([[1,2,3],[4,5,6]], dtype=tf.float32, name='template') # Has [2,3] shape\n",
    "zero_like = tf.zeros_like(template, name='zero_like')\n",
    "one_like = tf.ones_like(template, name='one_like')\n",
    "\n",
    "# Some sequence generating functions\n",
    "lin_seq = tf.linspace(start=0.0, stop=5.0, num=5, name='lin_seq')\n",
    "lin_range = tf.range(start=0, limit=7, delta=1, name='lin_range')\n",
    "\n",
    "# A random number function\n",
    "norm = tf.random.normal(shape=[5], mean=3, stddev=2.0)\n",
    "\n",
    "# Printing out\n",
    "tf.print('0 array:\\n', zero_array)\n",
    "tf.print('1 array:\\n', one_array)\n",
    "tf.print('0 inferred:\\n', zero_like)\n",
    "tf.print('1 inferred:\\n', one_like)\n",
    "tf.print('linear sequence:\\n', lin_seq)\n",
    "tf.print('range:\\n', lin_range)\n",
    "tf.print('Random normal:\\n', norm)"
   ]
  },
  {
   "cell_type": "markdown",
   "metadata": {
    "id": "kzQd8aDBptyJ"
   },
   "source": [
    "<p style='color:red'><strong>TODO:</strong></p>"
   ]
  },
  {
   "cell_type": "code",
   "execution_count": 10,
   "metadata": {
    "id": "AB9Yzp_RptyJ"
   },
   "outputs": [],
   "source": [
    "# 1: Generate a 3*3 matrix filled with 7s. \n",
    "# 2: Generate a sequence start from -6.0 to 7.0 (left inclusive), with step size of 1.0.\n",
    "# 3: Generate another 3*3 matrix with normal distribution. Choose any mean and stddev you like.\n",
    "# Hint: Visit https://www.tensorflow.org/api_guides/python/constant_op"
   ]
  },
  {
   "cell_type": "markdown",
   "metadata": {
    "id": "drGeb7roSw0u"
   },
   "source": [
    "<p style='color:red'><strong>SOLUTION (enter a new cell below):</strong></p>"
   ]
  },
  {
   "cell_type": "code",
   "execution_count": 11,
   "metadata": {
    "colab": {
     "base_uri": "https://localhost:8080/"
    },
    "id": "y0zsYpEUqUd7",
    "outputId": "d0000c94-f80f-4584-c56f-84abd9320db9"
   },
   "outputs": [
    {
     "name": "stdout",
     "output_type": "stream",
     "text": [
      "3x3 matrix:\n",
      " [[7 7 7]\n",
      " [7 7 7]\n",
      " [7 7 7]]\n",
      "-6 to 7 linspace:\n",
      " [-6 -5 -4 ... 4 5 6]\n",
      "normal distribution:\n",
      " [[5.45485544 5.83281374 5.92778158]\n",
      " [7.04440784 8.45873928 8.11988544]\n",
      " [7.09794617 6.25012445 6.61116505]]\n"
     ]
    }
   ],
   "source": [
    "seven_array = tf.ones(shape=[3,3], dtype=tf.float32, name='seven_array')\n",
    "seven_array = seven_array * 7\n",
    "lin = tf.range(start=-6, limit=7, delta=1)\n",
    "nor_dis = tf.random.normal(shape=[3,3], mean=7, stddev=1)\n",
    "tf.print('3x3 matrix:\\n', seven_array)\n",
    "tf.print('-6 to 7 linspace:\\n', lin)\n",
    "tf.print('normal distribution:\\n', nor_dis)"
   ]
  },
  {
   "cell_type": "markdown",
   "metadata": {
    "id": "ap_VdFtBptyM"
   },
   "source": [
    "#### 4. Variables in TensorFlow"
   ]
  },
  {
   "cell_type": "code",
   "execution_count": 12,
   "metadata": {
    "colab": {
     "base_uri": "https://localhost:8080/"
    },
    "id": "1tCS_YQIptyN",
    "outputId": "0df3408e-dea5-4d69-a04f-f8eb3bbad7b4"
   },
   "outputs": [
    {
     "name": "stdout",
     "output_type": "stream",
     "text": [
      "initial value: [2 3]\n",
      "assigned value: [4 5]\n",
      "add: [5 6]\n"
     ]
    }
   ],
   "source": [
    "# The values of constants (previously described) can not be changed. \n",
    "# For TensorFlow variables, their values can be updated during the training of a network.\n",
    "\n",
    "initial_value = tf.Variable([2,3], dtype=tf.float32) # You need to give an initial value to the variable.\n",
    "tf.print(\"initial value:\", initial_value)\n",
    "\n",
    "# Several ops that can be used to change the value of a variable. \n",
    "# Note that they all become nodes in the graph.\n",
    "new_value = initial_value.assign([4,5])\n",
    "tf.print(\"assigned value:\", new_value)\n",
    "add = initial_value.assign_add([1,1])\n",
    "tf.print(\"add:\", add)"
   ]
  },
  {
   "cell_type": "markdown",
   "metadata": {
    "id": "DWZqSEN8ptyP"
   },
   "source": [
    "<p style='color:red'><strong>TODO:</strong></p>"
   ]
  },
  {
   "cell_type": "code",
   "execution_count": 13,
   "metadata": {
    "id": "m9FXFIoZptyQ"
   },
   "outputs": [],
   "source": [
    "# Create a 3*3 tensor variable (the initial values don't matter).\n",
    "# Assign values from 1 to 9 to it and than add 1 to each assigned value in the 3*3 tensor.\n",
    "# Print out the initial values and print out the new values after the assign operation."
   ]
  },
  {
   "cell_type": "markdown",
   "metadata": {
    "id": "EWF-hV1wSw02"
   },
   "source": [
    "<p style='color:red'><strong>SOLUTION (enter a new cell below):</strong></p>"
   ]
  },
  {
   "cell_type": "code",
   "execution_count": 14,
   "metadata": {
    "colab": {
     "base_uri": "https://localhost:8080/"
    },
    "id": "H_j1N5vNEYWw",
    "outputId": "8d16f7cd-68ef-463f-b31d-db1ab854c212"
   },
   "outputs": [
    {
     "name": "stdout",
     "output_type": "stream",
     "text": [
      "tensor matrix:\n",
      " [[1 1 1]\n",
      " [1 1 1]\n",
      " [1 1 1]]\n",
      "assigned tensor matrix:\n",
      " [[1 2 3]\n",
      " [4 5 6]\n",
      " [7 8 9]]\n",
      "new tensor matrix:\n",
      " [[2 3 4]\n",
      " [5 6 7]\n",
      " [8 9 10]]\n"
     ]
    }
   ],
   "source": [
    "tensor = tf.Variable(tf.ones(shape=[3,3]), dtype=tf.float32)\n",
    "tf.print('tensor matrix:\\n', tensor)\n",
    "assigned_tensor = tensor.assign([[1,2,3],[4,5,6],[7,8,9]])\n",
    "tf.print('assigned tensor matrix:\\n', assigned_tensor)\n",
    "new_tensor = assigned_tensor.assign_add(tf.ones(shape=[3,3]))\n",
    "tf.print('new tensor matrix:\\n', new_tensor)"
   ]
  },
  {
   "cell_type": "markdown",
   "metadata": {
    "id": "qrPrL1vuptyX"
   },
   "source": [
    "#### 5. Data type impact"
   ]
  },
  {
   "cell_type": "code",
   "execution_count": 15,
   "metadata": {
    "colab": {
     "base_uri": "https://localhost:8080/"
    },
    "id": "i0Hi6z_PptyX",
    "outputId": "70acc0c1-6905-48ee-93bb-a6e81f93086c"
   },
   "outputs": [
    {
     "name": "stdout",
     "output_type": "stream",
     "text": [
      "float32 result: \n",
      " [[ 1.4400002  4.84      10.240001 ]\n",
      " [17.639997  27.039999  38.44     ]]\n",
      "float64 result: \n",
      " [[ 1.44  4.84 10.24]\n",
      " [17.64 27.04 38.44]]\n"
     ]
    }
   ],
   "source": [
    "# In TensorFlow, the float type of data includes float32 and float64. \n",
    "# In later assignments, \n",
    "# you should always consider float32 as the first choice for sake of efficiency, \n",
    "# even though the precision is lower than for float64.\n",
    "\n",
    "# Here we compare the precision difference between these two types.\n",
    "A32 = tf.Variable([[1,2,3], [4,5,6]], dtype=tf.float32)\n",
    "B32 = (A32 + 0.2)**2\n",
    "A64 = tf.Variable([[1,2,3], [4,5,6]], dtype=tf.float64)\n",
    "B64 = (A64 + 0.2)**2\n",
    "\n",
    "tf.print('float32 result: \\n {}'.format(B32))\n",
    "tf.print('float64 result: \\n {}'.format(B64))"
   ]
  },
  {
   "cell_type": "markdown",
   "metadata": {
    "id": "Uqv2PgZWu_tR"
   },
   "source": [
    "#### 6. Distance calculation"
   ]
  },
  {
   "cell_type": "markdown",
   "metadata": {
    "id": "690gKbVd5fZT"
   },
   "source": [
    "The conventional way to measure the distance between two points in a N-dimensional space is to use the Euclidean distance, which is defined as:\n",
    "\n",
    "Given two points $p$ and $q$, the Euclidean distance between the two is given by $d(p, q)$\n",
    "$$\n",
    "d(p, q) = \\sqrt{\\sum_{i=1}^{n}(q_i - p_i)^2}\n",
    "$$\n",
    "\n",
    "In terms of Linear Algebra, the associated norm is called the Euclidean norm. The vectorized notation for the Euclidean norm of a vector $x = (x_1, x_2, ... x_n)$ is written as:\n",
    "$$\n",
    "||x||_2 = \\sqrt{x_1^2 + ... + x_n^2}\n",
    "$$\n",
    "which is valid for the n-dimensional vector space $R^n$.\n",
    "\n",
    "Broadly speaking, the so called Euclidean norm is one of a class of Lebesgue (L-p) space norms, called L-p norms. The Euclidean norm is in fact the L-2 norm. The L-p norms are defined in similar fashion to the L-2 norm. Indeed, they are generalized from the L-2 norm as follows:\n",
    "\n",
    "For a real number p>=1, the p-norm/L-p norm of vector x is defined as:\n",
    "$$\n",
    "||x||_p = (|x_1|^p + |x_2|^p + ... + |x_n|^p)^{1/p}\n",
    "$$\n",
    "One can see that for $p=2$, we get the L-2/Euclidean norm.\n",
    "\n",
    "In this course, we will also encounter the L-1 norm, often called the Manhattan distance or the taxicab-metric. For a vector $x = (x_1, ... x_n)$, the L-1 norm simplifies due to $p=1$ as:\n",
    "$$\n",
    "||x||_1 = |x_1| + |x_2| + ... + |x_n|\n",
    "$$\n",
    "\n",
    "In keeping with this notation, the L-1 distance between two vectors $p$ and $q$ can be therefore be written as:\n",
    "$$\n",
    "d(p, q) = ||p - q||_1 = \\sum_{i=1}^n|p_i - q_i|\n",
    "$$\n",
    "\n",
    "**NOTE**: \n",
    "The p-norms (e.g. Manhattan norm, Euclidean norm) are actually vector norms and are defined on vectors only. \n",
    "\n",
    "When you call the np.linalg.norm function on a matrix with ord=1 you are computing the matrix norm with order 1, which gives you the maximum of all the sums along the columns, and that's actually the correct norm for the matrix in theory. (in the case of the two matrices given below, this is 2)\n",
    "\n",
    "Therefore, TensorFlow is abusing the definition a little bit here. So for the purposes of the below TODO task, pretend that you are asked to compute the 1-norm of each row of the difference and add all those up (which in this case is 6)"
   ]
  },
  {
   "cell_type": "code",
   "execution_count": 16,
   "metadata": {
    "colab": {
     "base_uri": "https://localhost:8080/"
    },
    "id": "3wUaL-C3vC-1",
    "outputId": "0d1d6217-df5a-43b5-8eef-1eec124a0007"
   },
   "outputs": [
    {
     "name": "stdout",
     "output_type": "stream",
     "text": [
      "Euclidean distance: 3.1622777\n",
      "Manhattan distance: 6\n"
     ]
    }
   ],
   "source": [
    "# Distance Calculation \n",
    "#\n",
    "# Create a tensor among the following types : float32, float64, complex64, complex128\n",
    "# Mentioned link details the meaning of each variable : https://www.tensorflow.org/api_docs/python/tf/norm\n",
    "\n",
    "# create two tensors of shape 2x3.\n",
    "tensor_a = tf.constant([[1,2,3], [3,2,1]], dtype=tf.float32, name='template')\n",
    "tensor_b = tf.constant([[1,1,1], [1,1,1]], dtype=tf.float32, name='template')\n",
    "\n",
    "# 1. Calculating euclidean distance or the l2 norm.\n",
    "\n",
    "eucledian_distance = tf.norm(tensor_a - tensor_b, ord='euclidean', axis=None, keepdims=None)\n",
    "tf.print(\"Euclidean distance:\", eucledian_distance)\n",
    "\n",
    "\n",
    "# 2. Calculating the Manhattan distance\n",
    "manhattan_distance = tf.norm(tensor_a - tensor_b, ord=1, axis=None, keepdims=None)\n",
    "tf.print(\"Manhattan distance:\", manhattan_distance)"
   ]
  },
  {
   "cell_type": "markdown",
   "metadata": {
    "id": "2PQdsHs-vMkO"
   },
   "source": [
    "<p style='color:red'><strong>TODO:</strong></p>"
   ]
  },
  {
   "cell_type": "code",
   "execution_count": 17,
   "metadata": {
    "id": "GOXfmigrvJt-"
   },
   "outputs": [],
   "source": [
    "# Create two functions using numpy which will return the euclidean distance and manhattan distance\n",
    "# between the above mentioned tensors.\n",
    "# Print out their outputs."
   ]
  },
  {
   "cell_type": "markdown",
   "metadata": {
    "id": "eAn055uiSw1A"
   },
   "source": [
    "<p style='color:red'><strong>SOLUTION (enter a new cell below):</strong></p>"
   ]
  },
  {
   "cell_type": "code",
   "execution_count": 18,
   "metadata": {
    "colab": {
     "base_uri": "https://localhost:8080/"
    },
    "id": "MbzOmSP8k6qP",
    "outputId": "1341d390-6ac4-4460-f732-540a72c6522e"
   },
   "outputs": [
    {
     "name": "stdout",
     "output_type": "stream",
     "text": [
      "Euclidean distance:  3.1622777\n",
      "Manhattan distance:  6.0\n"
     ]
    }
   ],
   "source": [
    "# euclidean distance\n",
    "square = np.square(tensor_a - tensor_b)\n",
    "eucl = np.sqrt(np.sum(square))\n",
    "tf.print('Euclidean distance: ', eucl)\n",
    "# manhattan distance\n",
    "diff = np.absolute(tensor_a - tensor_b)\n",
    "manh = np.sum(diff)\n",
    "tf.print('Manhattan distance: ', manh)"
   ]
  },
  {
   "cell_type": "markdown",
   "metadata": {
    "id": "sTiqq8_5wCUh"
   },
   "source": [
    "We have introduced only the basic TensorFlow operations and concepts. We recommend that you visit the TensorFlow tutorial link for many more https://www.tensorflow.org/tutorials. You will need them to be able to efficiently build and execute deep learning models."
   ]
  },
  {
   "cell_type": "markdown",
   "metadata": {
    "id": "HC0SVT8owOVP"
   },
   "source": [
    "## Part 4 - TensorFlow Demos\n",
    "Part 4 of this assignment consists of a demo. All you need to do is to run the demos and observe the results. This is meant to give you an idea of how TensorFlow is used.\n",
    "\n",
    "Please run the code and look at the outputs. We do not ask you to fully understand the model at this point. However, it would be a good practice if you searched [www.tensorflow.org](https://www.tensorflow.org) to examine the functions which are used in the code. They will be really helpful when you start programming by yourself."
   ]
  },
  {
   "cell_type": "markdown",
   "metadata": {
    "id": "UtBIkiexwTPz"
   },
   "source": [
    "### Demo1: Multiclass Logistic Regression\n",
    "#### Loading and preparing the MNIST dataset"
   ]
  },
  {
   "cell_type": "code",
   "execution_count": 19,
   "metadata": {
    "colab": {
     "base_uri": "https://localhost:8080/"
    },
    "id": "l215pkxyeLJo",
    "outputId": "952c966c-b477-4f07-87c3-e923a9eee808"
   },
   "outputs": [
    {
     "name": "stdout",
     "output_type": "stream",
     "text": [
      "Cell executed. Move to the next cell\n"
     ]
    }
   ],
   "source": [
    "# Multi-class Logistic Regression\n",
    "\n",
    "from tensorflow.keras.datasets import mnist\n",
    "\n",
    "(x_train, y_train), (x_test, y_test) = mnist.load_data()\n",
    "\n",
    "# Convert to float32.\n",
    "\n",
    "x_train, x_test = np.array(x_train, np.float32), np.array(x_test, np.float32)\n",
    "\n",
    "# Flatten images to 1-D vector of 784 features (28*28).\n",
    "num_features = 784 \n",
    "x_train, x_test = x_train.reshape([-1, num_features]), x_test.reshape([-1, num_features])\n",
    "\n",
    "# Normalize images value from [0, 255] to [0, 1].\n",
    "\n",
    "x_train, x_test = x_train / 255., x_test / 255. \n",
    "print(\"Cell executed. Move to the next cell\")"
   ]
  },
  {
   "cell_type": "markdown",
   "metadata": {
    "id": "rqE8eRYPSw1D"
   },
   "source": [
    "#### Setting up hyperparameters and dataset parameters"
   ]
  },
  {
   "cell_type": "code",
   "execution_count": 20,
   "metadata": {
    "colab": {
     "base_uri": "https://localhost:8080/"
    },
    "id": "DGiHxRa-Sw1E",
    "outputId": "00ad5d9d-579b-4418-d44a-f6ed31e6f70c"
   },
   "outputs": [
    {
     "name": "stdout",
     "output_type": "stream",
     "text": [
      "Cell executed. Move to the next cell\n"
     ]
    }
   ],
   "source": [
    "# MNIST dataset parameters.\n",
    "\n",
    "num_classes = 10 # 0 to 9 digits\n",
    "num_features = 784 # 28*28\n",
    "\n",
    "# Training parameters.\n",
    "\n",
    "learning_rate = 0.01\n",
    "training_steps = 1000\n",
    "batch_size = 256\n",
    "display_step = 50\n",
    "print(\"Cell executed. Move to the next cell\")"
   ]
  },
  {
   "cell_type": "markdown",
   "metadata": {
    "id": "TdS7dXufSw1F"
   },
   "source": [
    "#### Shuffling and Batching the data"
   ]
  },
  {
   "cell_type": "code",
   "execution_count": 21,
   "metadata": {
    "colab": {
     "base_uri": "https://localhost:8080/"
    },
    "id": "bFYK4LijSw1G",
    "outputId": "8aa10fbb-8e55-42b0-b066-809d23c226f5"
   },
   "outputs": [
    {
     "name": "stdout",
     "output_type": "stream",
     "text": [
      "Cell executed. Move to the next cell\n"
     ]
    }
   ],
   "source": [
    "# Using tf.data API to shuffle and batch data.\n",
    "\n",
    "train_data=tf.data.Dataset.from_tensor_slices((x_train,y_train))\n",
    "\n",
    "train_data=train_data.repeat().shuffle(5000).batch(batch_size).prefetch(1)\n",
    "print(\"Cell executed. Move to the next cell\")"
   ]
  },
  {
   "cell_type": "markdown",
   "metadata": {
    "id": "nlczIrIGSw1I"
   },
   "source": [
    "#### Initializing weights and biases"
   ]
  },
  {
   "cell_type": "code",
   "execution_count": 22,
   "metadata": {
    "colab": {
     "base_uri": "https://localhost:8080/"
    },
    "id": "CRj1SLvzSw1I",
    "outputId": "bb389e57-3e0d-424f-97e5-41400046952e"
   },
   "outputs": [
    {
     "name": "stdout",
     "output_type": "stream",
     "text": [
      "Cell executed. Move to the next cell\n"
     ]
    }
   ],
   "source": [
    "# Weight of shape [784, 10], the 28*28 image features, and a total number of classes.\n",
    "W = tf.Variable(tf.ones([num_features, num_classes]), name=\"weight\")\n",
    "\n",
    "# Bias of shape [10], the total number of classes.\n",
    "b = tf.Variable(tf.zeros([num_classes]), name=\"bias\")\n",
    "print(\"Cell executed. Move to the next cell\")"
   ]
  },
  {
   "cell_type": "markdown",
   "metadata": {
    "id": "bsi9KCsYSw1K"
   },
   "source": [
    "#### Defining Logistic Regression and Cost function"
   ]
  },
  {
   "cell_type": "code",
   "execution_count": 23,
   "metadata": {
    "colab": {
     "base_uri": "https://localhost:8080/"
    },
    "id": "BaOKjAZoSw1K",
    "outputId": "59470dfb-33f4-4062-8b7f-4769858a3a03"
   },
   "outputs": [
    {
     "name": "stdout",
     "output_type": "stream",
     "text": [
      "Cell executed. Move to the next cell\n"
     ]
    }
   ],
   "source": [
    "# Logistic regression (xW + b).\n",
    "def logistic_regression(x):\n",
    "    # Apply softmax to normalize the logits to a probability distribution.\n",
    "    return tf.nn.softmax(tf.matmul(x, W) + b)\n",
    "\n",
    "# Cross-Entropy loss function.\n",
    "def cross_entropy(y_pred, y_true):\n",
    "    # Encode label to an one hot vector.\n",
    "    y_true = tf.one_hot(y_true, depth=num_classes)\n",
    "\n",
    "    # Clip prediction values to avoid log(0) error.\n",
    "    y_pred = tf.clip_by_value(y_pred, 1e-9, 1.)\n",
    "\n",
    "    # Compute cross-entropy.\n",
    "    return tf.reduce_mean(-tf.reduce_sum(y_true * tf.math.log(y_pred), axis=1))\n",
    "\n",
    "print(\"Cell executed. Move to the next cell\")"
   ]
  },
  {
   "cell_type": "markdown",
   "metadata": {
    "id": "Wa53EQ-OSw1L"
   },
   "source": [
    "#### Defining Optimizers and Accuracy Metrics"
   ]
  },
  {
   "cell_type": "code",
   "execution_count": 24,
   "metadata": {
    "colab": {
     "base_uri": "https://localhost:8080/"
    },
    "id": "tcgF_CtpSw1M",
    "outputId": "23958ef3-5629-468a-a8c2-441ef7a2bb30"
   },
   "outputs": [
    {
     "name": "stdout",
     "output_type": "stream",
     "text": [
      "Cell executed. Move to the next cell\n"
     ]
    }
   ],
   "source": [
    "# Accuracy metric.\n",
    "def accuracy(y_pred, y_true):\n",
    "    # Predicted class is the index of the highest score in prediction vector (i.e. argmax).\n",
    "\n",
    "    correct_prediction = tf.equal(tf.argmax(y_pred, 1), tf.cast(y_true, tf.int64))\n",
    "\n",
    "    return tf.reduce_mean(tf.cast(correct_prediction, tf.float32))\n",
    "\n",
    "# Stochastic gradient descent optimizer.\n",
    "optimizer = tf.optimizers.SGD(learning_rate)\n",
    "print(\"Cell executed. Move to the next cell\")"
   ]
  },
  {
   "cell_type": "markdown",
   "metadata": {
    "id": "ph2IWd6YSw1N"
   },
   "source": [
    "#### Optimization process and Updating Weights and Biases"
   ]
  },
  {
   "cell_type": "code",
   "execution_count": 25,
   "metadata": {
    "colab": {
     "base_uri": "https://localhost:8080/"
    },
    "id": "I-Zs0aACSw1O",
    "outputId": "ff7f6c69-0bb1-47dc-cfd9-21b4cc51a729"
   },
   "outputs": [
    {
     "name": "stdout",
     "output_type": "stream",
     "text": [
      "Cell executed. Move to the next cell\n"
     ]
    }
   ],
   "source": [
    "# Optimization process. \n",
    "\n",
    "def run_optimization(x, y):\n",
    "    # Wrap computation inside a GradientTape for automatic differentiation.\n",
    "    with tf.GradientTape() as g:\n",
    "        pred = logistic_regression(x)\n",
    "        loss = cross_entropy(pred, y)\n",
    "    # Compute gradients.\n",
    "    gradients = g.gradient(loss, [W, b])\n",
    "\n",
    "    # Update W and b following gradients.\n",
    "    optimizer.apply_gradients(zip(gradients, [W, b]))\n",
    "    \n",
    "    \n",
    "# printf\n",
    "print(\"Cell executed. Move to the next cell\")\n"
   ]
  },
  {
   "cell_type": "markdown",
   "metadata": {
    "id": "XAlXhsl0Sw1P"
   },
   "source": [
    "#### Training loop"
   ]
  },
  {
   "cell_type": "code",
   "execution_count": 26,
   "metadata": {
    "colab": {
     "base_uri": "https://localhost:8080/"
    },
    "id": "bPtoLWX4Sw1P",
    "outputId": "5e1a8079-03cf-42ca-8dd6-f3456d9367d2"
   },
   "outputs": [
    {
     "name": "stdout",
     "output_type": "stream",
     "text": [
      "This cell should run and show output for 1000 steps. Running ...\n",
      "step: 50, loss: 1.860966, accuracy: 0.746094\n",
      "step: 100, loss: 1.579381, accuracy: 0.757812\n",
      "step: 150, loss: 1.350572, accuracy: 0.812500\n",
      "step: 200, loss: 1.198314, accuracy: 0.828125\n",
      "step: 250, loss: 1.003427, accuracy: 0.855469\n",
      "step: 300, loss: 1.037262, accuracy: 0.812500\n",
      "step: 350, loss: 0.940923, accuracy: 0.867188\n",
      "step: 400, loss: 0.947955, accuracy: 0.796875\n",
      "step: 450, loss: 0.824929, accuracy: 0.886719\n",
      "step: 500, loss: 0.820009, accuracy: 0.812500\n",
      "step: 550, loss: 0.771532, accuracy: 0.839844\n",
      "step: 600, loss: 0.759377, accuracy: 0.843750\n",
      "step: 650, loss: 0.689003, accuracy: 0.863281\n",
      "step: 700, loss: 0.687271, accuracy: 0.851562\n",
      "step: 750, loss: 0.671059, accuracy: 0.863281\n",
      "step: 800, loss: 0.625561, accuracy: 0.871094\n",
      "step: 850, loss: 0.625850, accuracy: 0.886719\n",
      "step: 900, loss: 0.671438, accuracy: 0.820312\n",
      "step: 950, loss: 0.556568, accuracy: 0.878906\n",
      "step: 1000, loss: 0.672025, accuracy: 0.843750\n",
      "Cell executed. Move to the next cell\n"
     ]
    }
   ],
   "source": [
    "# Run training for the given number of steps.\n",
    "\n",
    "print(\"This cell should run and show output for 1000 steps. Running ...\")\n",
    "\n",
    "for step, (batch_x, batch_y) in enumerate(train_data.take(training_steps), 1):\n",
    "    # Run the optimization to update W and b values.\n",
    "    run_optimization(batch_x, batch_y)\n",
    "    if step % display_step == 0:\n",
    "        pred = logistic_regression(batch_x)\n",
    "        loss = cross_entropy(pred, batch_y)\n",
    "        acc = accuracy(pred, batch_y)\n",
    "        print(\"step: %i, loss: %f, accuracy: %f\" % (step, loss, acc))\n",
    "        \n",
    "print(\"Cell executed. Move to the next cell\")"
   ]
  },
  {
   "cell_type": "markdown",
   "metadata": {
    "id": "AJ3nnz3ySw1R"
   },
   "source": [
    "#### Testing model accuracy using the testing data"
   ]
  },
  {
   "cell_type": "code",
   "execution_count": 27,
   "metadata": {
    "colab": {
     "base_uri": "https://localhost:8080/"
    },
    "id": "HfNo8-FaSw1R",
    "outputId": "8771c375-6ba5-4f1a-b4f1-e04c635e436b"
   },
   "outputs": [
    {
     "name": "stdout",
     "output_type": "stream",
     "text": [
      "Test Accuracy: 0.870200\n"
     ]
    }
   ],
   "source": [
    "# Test model on validation set.\n",
    "pred = logistic_regression(x_test)\n",
    "print(\"Test Accuracy: %f\" % accuracy(pred, y_test))"
   ]
  },
  {
   "cell_type": "markdown",
   "metadata": {
    "id": "yw34fVUVweHt"
   },
   "source": [
    "## Part 5 - Organizing the Code for Development of Deep Learning Models\n",
    "This assignment was distributed as a collection of directories and files (either through the github/bitbucket or a collection of files in a *.zip package).\n",
    "The organization of directories and files is described in the corresponding README file, and illustrated below as well:\n",
    "<p style='color:red'><strong>TODO Study the organization of directories and files for this assignment</strong></p>\n",
    " - In particular examine the way in which Jupyter notebook files and utility python files are distributed across directories. Students will be required to follow this (or very similar) directory structure for their assignments and projects. For every project/assignment, a similar tree structure needs to be generated and appended to the README.md file.\n",
    "\n",
    "A typical organization of the top directory can be seen at the end of the README.md file."
   ]
  },
  {
   "cell_type": "markdown",
   "metadata": {
    "id": "ZHZ-42frSw1T"
   },
   "source": [
    "### Steps to create and visualize the tree-like directory structure:\n",
    "<p style='color:red'><strong>1. For Linux:</strong></p>\n",
    "\n",
    "a. Go to the directory for which you want to create and visualize the tree structure for.\n",
    "\n",
    "b. Type : !tree ./ >> README.md in the jupyter notebook - This will append the tree to the README.md file in the same directory.\n",
    "\n",
    "c.  After running the above command make the following change:\n",
    "\n",
    "- Manually enclose the whole appended text in 3 single quotes (inverted quote ```) at the top and the bottom with the same indentation. (Look at the the example mentioned below)\n",
    " \n",
    "<p style='color:red'><strong>2. For Windows:</strong></p>\n",
    "\n",
    "a. Go to the directory that you want the tree structure for.\n",
    "\n",
    "b. Type : !tree ./ /f /a >> README.md in the jupyter notebook - This will append the tree to the README.md file in the same directory.\n",
    "\n",
    "c.  After running the above command make below mentioned changes:\n",
    "\n",
    "- Go to the README.md and remove the below mentioned lines \n",
    "\"Folder PATH listing for volume DATA\n",
    "Volume serial number is 0A8A-1CBE\n",
    "D:\\CA_4040\\MASTER_BRANCH\\E4040-2020FALL-ASSIGNMENTSALL-INSTRUCTORVERSION\\ASSIGNMENT0.SOLUTION\"\n",
    "\n",
    "- Then, manually enclose the whole appended text within 3 single quotes (inverted quote ```) at the top and the bottom with the same indentation. (Look at the the example mentioned below)\n",
    "\n",
    "d. NOTE:The two chevrons >> are used to append the output of a command to the bottom of a file (instead of one chevron which overwrites the file).\n"
   ]
  },
  {
   "cell_type": "markdown",
   "metadata": {
    "id": "5Klm1x5fSw1T"
   },
   "source": [
    "## Submission of the Assignment\n",
    "The method of the submission and the naming are described in the README.md file, distributed in Github. For formal submission, additional instructions will be provided a few days before the assignment is due."
   ]
  },
  {
   "cell_type": "markdown",
   "metadata": {
    "id": "N6y2_8vww0oN"
   },
   "source": [
    "## End of the assignment"
   ]
  },
  {
   "cell_type": "code",
   "execution_count": 28,
   "metadata": {
    "colab": {
     "base_uri": "https://localhost:8080/"
    },
    "id": "eiD_rvHLk6qU",
    "outputId": "b9b33e63-954a-4404-f53d-7fb1bc46de6d"
   },
   "outputs": [
    {
     "name": "stdout",
     "output_type": "stream",
     "text": [
      "Reading package lists... Done\n",
      "Building dependency tree       \n",
      "Reading state information... Done\n",
      "tree is already the newest version (1.7.0-5).\n",
      "The following package was automatically installed and is no longer required:\n",
      "  libnuma1\n",
      "Use 'sudo apt autoremove' to remove it.\n",
      "0 upgraded, 0 newly installed, 0 to remove and 54 not upgraded.\n"
     ]
    }
   ],
   "source": [
    "!sudo apt-get install tree\n",
    "!tree ./ >> README.md"
   ]
  },
  {
   "cell_type": "code",
   "execution_count": null,
   "metadata": {},
   "outputs": [],
   "source": []
  }
 ],
 "metadata": {
  "colab": {
   "collapsed_sections": [],
   "provenance": []
  },
  "kernelspec": {
   "display_name": "Python 3",
   "language": "python",
   "name": "python3"
  },
  "language_info": {
   "codemirror_mode": {
    "name": "ipython",
    "version": 3
   },
   "file_extension": ".py",
   "mimetype": "text/x-python",
   "name": "python",
   "nbconvert_exporter": "python",
   "pygments_lexer": "ipython3",
   "version": "3.6.9"
  }
 },
 "nbformat": 4,
 "nbformat_minor": 1
}
