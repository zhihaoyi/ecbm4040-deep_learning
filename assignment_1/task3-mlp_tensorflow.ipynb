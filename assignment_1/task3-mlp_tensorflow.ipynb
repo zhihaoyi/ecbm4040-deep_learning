{
 "cells": [
  {
   "cell_type": "markdown",
   "metadata": {},
   "source": [
    "## Columbia University\n",
    "### ECBM E4040 Neural Networks and Deep Learning. Fall 2022."
   ]
  },
  {
   "cell_type": "markdown",
   "metadata": {
    "colab_type": "text",
    "id": "Qe6yTh55trpQ"
   },
   "source": [
    "# Assignment 1, Task 3: Multilayer Perceptron (MLP)\n",
    "This is the third part of the assignment. You will get to implement MLP using tensorflow"
   ]
  },
  {
   "cell_type": "code",
   "execution_count": 1,
   "metadata": {
    "colab": {},
    "colab_type": "code",
    "id": "7Vs2WYIFtrpS",
    "tags": []
   },
   "outputs": [],
   "source": [
    "# Import modules\n",
    "from __future__ import print_function\n",
    "import tensorflow as tf\n",
    "import numpy as np\n",
    "import time\n",
    "import os\n",
    "import matplotlib.pyplot as plt\n",
    "import pickle\n",
    "\n",
    "from tensorflow.keras.datasets import fashion_mnist\n",
    "\n",
    "# Plot configurations\n",
    "%matplotlib inline\n",
    "\n",
    "# Notebook auto reloads code. (Ref: http://stackoverflow.com/questions/1907993/autoreload-of-modules-in-ipython)\n",
    "%load_ext autoreload\n",
    "%autoreload 2"
   ]
  },
  {
   "cell_type": "markdown",
   "metadata": {
    "colab_type": "text",
    "id": "3gYnTjputrpV"
   },
   "source": [
    "## Load Data"
   ]
  },
  {
   "cell_type": "code",
   "execution_count": 2,
   "metadata": {
    "colab": {
     "base_uri": "https://localhost:8080/",
     "height": 168
    },
    "colab_type": "code",
    "id": "I31uJ6KltrpW",
    "outputId": "1a677958-43ca-422c-ec66-38e8cdff4283",
    "tags": []
   },
   "outputs": [
    {
     "name": "stdout",
     "output_type": "stream",
     "text": [
      "(58000, 784) (2000, 784) (10000, 784) (100, 784)\n",
      "Train data shape:  (58000, 784)\n",
      "Train labels shape:  (58000,)\n",
      "Validation data shape:  (2000, 784)\n",
      "Validation labels shape:  (2000,)\n",
      "Test data shape:  (10000, 784)\n",
      "Test labels shape:  (10000,)\n",
      "Development data shape: (100, 784)\n",
      "Development data shape (100,)\n"
     ]
    }
   ],
   "source": [
    "# Load the raw Fashion-MNIST data.\n",
    "train, test = fashion_mnist.load_data()\n",
    "\n",
    "X_train_raw, y_train = train\n",
    "X_test_raw, y_test = test\n",
    "\n",
    "X_train = X_train_raw.reshape((X_train_raw.shape[0], X_train_raw.shape[1]**2))\n",
    "X_test = X_test_raw.reshape((X_test_raw.shape[0], X_test_raw.shape[1]**2))\n",
    "\n",
    "# Data organizations:\n",
    "# Train data: 58000 samples from original training set of 60,000\n",
    "# Validation data: 2000 samples from original training set: 58,000~60,000\n",
    "# Test data: 10000 samples from original test set\n",
    "# Development data (for gradient check): 100 from the training set\n",
    "\n",
    "num_training = 58000\n",
    "num_validation = 2000\n",
    "num_dev = 100\n",
    "\n",
    "X_val = X_train[-num_validation:, :]\n",
    "y_val = y_train[-num_validation:]\n",
    "\n",
    "mask = np.random.choice(num_training, num_dev, replace=False)\n",
    "X_dev = X_train[mask]\n",
    "y_dev = y_train[mask]\n",
    "\n",
    "X_train = X_train[:num_training, :]\n",
    "y_train = y_train[:num_training]\n",
    "\n",
    "# Preprocessing: subtract the mean value across every dimension for training data\n",
    "mean_image = np.mean(X_train, axis=0)\n",
    "\n",
    "X_train = X_train.astype(np.float32) - mean_image.astype(np.float32)\n",
    "X_val = X_val.astype(np.float32) - mean_image\n",
    "X_test = X_test.astype(np.float32) - mean_image\n",
    "X_dev = X_dev.astype(np.float32) - mean_image\n",
    "\n",
    "print(X_train.shape, X_val.shape, X_test.shape, X_dev.shape)\n",
    "print('Train data shape: ', X_train.shape)\n",
    "print('Train labels shape: ', y_train.shape)\n",
    "print('Validation data shape: ', X_val.shape)\n",
    "print('Validation labels shape: ', y_val.shape)\n",
    "print('Test data shape: ', X_test.shape)\n",
    "print('Test labels shape: ', y_test.shape)\n",
    "print('Development data shape:', X_dev.shape)\n",
    "print('Development data shape', y_dev.shape)"
   ]
  },
  {
   "cell_type": "markdown",
   "metadata": {
    "colab_type": "text",
    "id": "xa_w8ZHbtrqY"
   },
   "source": [
    "## Part 1: Tensorflow MLP (15%)\n",
    "In this part, you will use tensorflow modules to implement a MLP. We provide a demo of a two-layer net, of which style is referred to https://www.tensorflow.org/guide/keras, and https://www.tensorflow.org/guide/eager. \n",
    "\n",
    "You need to implement a multi-layer with 4 layers in a similar style."
   ]
  },
  {
   "cell_type": "markdown",
   "metadata": {},
   "source": [
    "### Demo: Two-layer MLP in Tensorflow"
   ]
  },
  {
   "cell_type": "code",
   "execution_count": 3,
   "metadata": {
    "colab": {
     "base_uri": "https://localhost:8080/",
     "height": 202
    },
    "colab_type": "code",
    "id": "-0xQOzpdtrqZ",
    "outputId": "212defc2-2cd6-406f-affe-9c6c7367e87f",
    "tags": []
   },
   "outputs": [
    {
     "name": "stdout",
     "output_type": "stream",
     "text": [
      "epoch 1: valid acc = 0.7404999732971191\n",
      "epoch 2: valid acc = 0.7795000076293945\n",
      "epoch 3: valid acc = 0.8059999942779541\n",
      "epoch 4: valid acc = 0.8149999976158142\n",
      "epoch 5: valid acc = 0.828499972820282\n",
      "epoch 6: valid acc = 0.8355000019073486\n",
      "epoch 7: valid acc = 0.843500018119812\n",
      "epoch 8: valid acc = 0.8550000190734863\n",
      "epoch 9: valid acc = 0.8585000038146973\n",
      "epoch 10: valid acc = 0.8610000014305115\n",
      "epoch 11: valid acc = 0.862500011920929\n",
      "epoch 12: valid acc = 0.8659999966621399\n",
      "epoch 13: valid acc = 0.8715000152587891\n",
      "epoch 14: valid acc = 0.8744999766349792\n",
      "epoch 15: valid acc = 0.8734999895095825\n",
      "test acc = 0.8578000068664551\n"
     ]
    }
   ],
   "source": [
    "## Demo: Two-layer net in tensorflow (eager execution mode)\n",
    "hidden_dim = 300\n",
    "reg_tf = tf.constant(0.01)\n",
    "\n",
    "# define a tf.keras.Model class\n",
    "class Model(tf.keras.Model):\n",
    "    def __init__(self):\n",
    "        super(Model, self).__init__()\n",
    "        self.W1 = tf.Variable(1e-2*np.random.rand(X_train.shape[1], hidden_dim).astype('float32'))\n",
    "        self.b1 = tf.Variable(np.zeros((hidden_dim,)).astype('float32'))\n",
    "        self.W2 = tf.Variable(1e-2*np.random.rand(hidden_dim, 20).astype('float32'))\n",
    "        self.b2 = tf.Variable(np.zeros((20,)).astype('float32'))\n",
    "    def call(self, inputs):\n",
    "        \"\"\"Run the model.\"\"\"\n",
    "        h1 = tf.nn.relu(tf.matmul(inputs, self.W1) + self.b1)\n",
    "        out = tf.matmul(h1, self.W2) + self.b2\n",
    "        return out\n",
    "\n",
    "# Define and calculate loss function (Note that in eager execution, loss must be in a function)\n",
    "def loss(model, inputs, targets, reg = tf.constant(0.01)):\n",
    "    out = model(inputs)\n",
    "    cross_entropy = tf.nn.softmax_cross_entropy_with_logits(logits= out, labels=tf.one_hot(targets,20))\n",
    "    L2_loss = tf.nn.l2_loss(model.W1) + tf.nn.l2_loss(model.W2)\n",
    "    return tf.reduce_mean(cross_entropy) + reg * L2_loss\n",
    "\n",
    "# calculate gradients for all variables using tf.GradientTape\n",
    "def grad(model, inputs, targets, reg = tf.constant(0.01)):\n",
    "    with tf.GradientTape() as tape:\n",
    "        loss_value = loss(model, inputs, targets, reg=reg)\n",
    "    return tape.gradient(loss_value, [model.W1, model.b1, model.W2, model.b2])\n",
    "\n",
    "# calculate classification accuracy\n",
    "def eval_acc(model, inputs, targets):\n",
    "    correct_prediction = tf.equal(targets, tf.cast(tf.argmax(model(inputs),1), tf.uint8))\n",
    "    accuracy = tf.reduce_mean(tf.cast(correct_prediction, tf.float32))\n",
    "    return accuracy\n",
    "\n",
    "num_train = 58000\n",
    "batch_size = 500\n",
    "num_batch = num_train//batch_size\n",
    "num_epochs = 15\n",
    "model = Model()\n",
    "optimizer = tf.keras.optimizers.SGD(learning_rate=1e-3)\n",
    "\n",
    "for e in range(num_epochs):\n",
    "    for i in range(num_batch):\n",
    "        batch_xs, batch_ys = X_train[i*batch_size:(i+1)*batch_size], y_train[i*batch_size:(i+1)*batch_size]\n",
    "        x_tf = tf.Variable(batch_xs, dtype = tf.float32)\n",
    "        y_tf = tf.Variable(batch_ys, dtype = tf.uint8)\n",
    "        \n",
    "        grads = grad(model, x_tf, y_tf, reg_tf)\n",
    "        #optimization based on calculated gradients \n",
    "        optimizer.apply_gradients(zip(grads, [model.W1, model.b1, model.W2, model.b2]))\n",
    "\n",
    "    x_tf = tf.Variable(X_val, dtype = tf.float32)\n",
    "    y_tf = tf.Variable(y_val, dtype = tf.uint8)\n",
    "    accuracy = eval_acc(model, x_tf, y_tf)\n",
    "    val_acc = accuracy.numpy()\n",
    "    print('epoch {}: valid acc = {}'.format(e+1, val_acc))\n",
    "\n",
    "x_tf = tf.Variable(X_test, dtype = tf.float32)\n",
    "y_tf = tf.Variable(y_test, dtype = tf.uint8)\n",
    "accuracy = eval_acc(model, x_tf, y_tf)\n",
    "test_acc = accuracy.numpy()\n",
    "print('test acc = {}'.format(test_acc))"
   ]
  },
  {
   "cell_type": "markdown",
   "metadata": {},
   "source": [
    "### Create Deeper Network"
   ]
  },
  {
   "cell_type": "markdown",
   "metadata": {
    "colab_type": "text",
    "id": "YmSduBmytrqb"
   },
   "source": [
    "<span style=\"color:red\"><strong>TODO</strong></span>: Create your 4-layer MLP in tensorflow. Since you are going to create a deeper neural network, it is recommended to use \"list\" to store your network parameters (weights and bias). Consider using a loop to create your MLP network. Hint: Copy the above code and make necessary changes in model definition."
   ]
  },
  {
   "cell_type": "code",
   "execution_count": 4,
   "metadata": {},
   "outputs": [
    {
     "name": "stdout",
     "output_type": "stream",
     "text": [
      "epoch 1: valid acc = 0.18700000643730164\n",
      "epoch 2: valid acc = 0.18799999356269836\n",
      "epoch 3: valid acc = 0.18649999797344208\n",
      "epoch 4: valid acc = 0.1875\n",
      "epoch 5: valid acc = 0.18549999594688416\n",
      "epoch 6: valid acc = 0.18950000405311584\n",
      "epoch 7: valid acc = 0.20250000059604645\n",
      "epoch 8: valid acc = 0.22450000047683716\n",
      "epoch 9: valid acc = 0.22550000250339508\n",
      "epoch 10: valid acc = 0.3840000033378601\n",
      "epoch 11: valid acc = 0.4009999930858612\n",
      "epoch 12: valid acc = 0.3580000102519989\n",
      "epoch 13: valid acc = 0.4429999887943268\n",
      "epoch 14: valid acc = 0.46149998903274536\n",
      "epoch 15: valid acc = 0.4970000088214874\n",
      "epoch 16: valid acc = 0.5860000252723694\n",
      "epoch 17: valid acc = 0.6554999947547913\n",
      "epoch 18: valid acc = 0.6899999976158142\n",
      "epoch 19: valid acc = 0.7179999947547913\n",
      "epoch 20: valid acc = 0.7425000071525574\n",
      "epoch 21: valid acc = 0.7584999799728394\n",
      "epoch 22: valid acc = 0.7699999809265137\n",
      "epoch 23: valid acc = 0.7710000276565552\n",
      "epoch 24: valid acc = 0.7785000205039978\n",
      "epoch 25: valid acc = 0.7825000286102295\n",
      "test acc = 0.7789000272750854\n"
     ]
    }
   ],
   "source": [
    "# Create you MLP using TensorFlow functions.\n",
    "layer1_dim = 256\n",
    "layer2_dim = 128\n",
    "layer3_dim = 64\n",
    "\n",
    "reg_tf = tf.constant(0.01)\n",
    "\n",
    "# define a tf.keras.Model class\n",
    "class Model(tf.keras.Model):\n",
    "    def __init__(self):\n",
    "        super(Model, self).__init__()\n",
    "        self.W1 = tf.Variable(1e-2*np.random.rand(X_train.shape[1], layer1_dim).astype('float32'))\n",
    "        self.b1 = tf.Variable(np.zeros((layer1_dim,)).astype('float32'))\n",
    "        \n",
    "        self.W2 = tf.Variable(1e-2*np.random.rand(layer1_dim, layer2_dim).astype('float32'))\n",
    "        self.b2 = tf.Variable(np.zeros((layer2_dim,)).astype('float32'))\n",
    "        \n",
    "        self.W3 = tf.Variable(1e-2*np.random.rand(layer2_dim, layer3_dim).astype('float32'))\n",
    "        self.b3 = tf.Variable(np.zeros((layer3_dim,)).astype('float32'))\n",
    "        \n",
    "        self.W4 = tf.Variable(1e-2*np.random.rand(layer3_dim, 20).astype('float32'))\n",
    "        self.b4 = tf.Variable(np.zeros((20,)).astype('float32'))\n",
    "    def call(self, inputs):\n",
    "        \"\"\"Run the model.\"\"\"\n",
    "        h1 = tf.nn.relu(tf.matmul(inputs, self.W1) + self.b1)\n",
    "        h2 = tf.nn.relu(tf.matmul(h1, self.W2) + self.b2)\n",
    "        h3 = tf.nn.relu(tf.matmul(h2, self.W3) + self.b3)\n",
    "        out = tf.matmul(h3, self.W4) + self.b4\n",
    "        return out\n",
    "\n",
    "# Define and calculate loss function (Note that in eager execution, loss must be in a function)\n",
    "def loss(model, inputs, targets, reg = tf.constant(0.01)):\n",
    "    out = model(inputs)\n",
    "    cross_entropy = tf.nn.softmax_cross_entropy_with_logits(logits= out, labels=tf.one_hot(targets,20))\n",
    "    L2_loss = tf.nn.l2_loss(model.W1) + tf.nn.l2_loss(model.W2) + tf.nn.l2_loss(model.W3) + tf.nn.l2_loss(model.W4)\n",
    "    return tf.reduce_mean(cross_entropy) + reg * L2_loss\n",
    "\n",
    "# calculate gradients for all variables using tf.GradientTape\n",
    "def grad(model, inputs, targets, reg = tf.constant(0.01)):\n",
    "    with tf.GradientTape() as tape:\n",
    "        loss_value = loss(model, inputs, targets, reg=reg)\n",
    "    return tape.gradient(loss_value, [model.W1, model.b1, model.W2, model.b2, model.W3, model.b3, model.W4, model.b4])\n",
    "\n",
    "# calculate classification accuracy\n",
    "def eval_acc(model, inputs, targets):\n",
    "    correct_prediction = tf.equal(targets, tf.cast(tf.argmax(model(inputs),1), tf.uint8))\n",
    "    accuracy = tf.reduce_mean(tf.cast(correct_prediction, tf.float32))\n",
    "    return accuracy\n",
    "\n",
    "num_train = 58000\n",
    "batch_size = 100\n",
    "num_batch = num_train//batch_size\n",
    "num_epochs = 25\n",
    "model = Model()\n",
    "optimizer = tf.keras.optimizers.SGD(learning_rate=1e-3)\n",
    "\n",
    "for e in range(num_epochs):\n",
    "    for i in range(num_batch):\n",
    "        batch_xs, batch_ys = X_train[i*batch_size:(i+1)*batch_size], y_train[i*batch_size:(i+1)*batch_size]\n",
    "        x_tf = tf.Variable(batch_xs, dtype = tf.float32)\n",
    "        y_tf = tf.Variable(batch_ys, dtype = tf.uint8)\n",
    "        \n",
    "        grads = grad(model, x_tf, y_tf, reg_tf)\n",
    "        #optimization based on calculated gradients \n",
    "        optimizer.apply_gradients(zip(grads, [model.W1, model.b1, model.W2, model.b2, model.W3, model.b3, model.W4, model.b4]))\n",
    "\n",
    "    x_tf = tf.Variable(X_val, dtype = tf.float32)\n",
    "    y_tf = tf.Variable(y_val, dtype = tf.uint8)\n",
    "    accuracy = eval_acc(model, x_tf, y_tf)\n",
    "    val_acc = accuracy.numpy()\n",
    "    print('epoch {}: valid acc = {}'.format(e+1, val_acc))\n",
    "\n",
    "x_tf = tf.Variable(X_test, dtype = tf.float32)\n",
    "y_tf = tf.Variable(y_test, dtype = tf.uint8)\n",
    "accuracy = eval_acc(model, x_tf, y_tf)\n",
    "test_acc = accuracy.numpy()\n",
    "print('test acc = {}'.format(test_acc))"
   ]
  },
  {
   "cell_type": "markdown",
   "metadata": {},
   "source": [
    "### Introduction to TensorFlow.keras\n",
    "\n",
    "As you can see, when the network structure becomes larger, it is hard to handle variables from every layer. Here we introduce the `tf.keras` tool to build the network in a much simpler way. You may want to use it in your project."
   ]
  },
  {
   "cell_type": "markdown",
   "metadata": {},
   "source": [
    "<span style=\"color:red\"><strong>TODO</strong></span>: Follow this official example: https://www.tensorflow.org/datasets/keras_example#step_2_create_and_train_the_model to build an MLP and train it. \n",
    "\n",
    "*You should keep the same optimizer (SGD) and loss function (cross entropy) as in the previous task.*\n",
    "\n",
    "**Note:** Since we want to use our own dataset, we will not use the `tfds.load` method to load the data this time. \n",
    "\n",
    "You need to check the usage of [`model.fit()`](https://www.tensorflow.org/api_docs/python/tf/keras/Model#fit) and feed the model with our own data.\n",
    "\n",
    "**Tips:**\n",
    "* Softmax is also registered as a layer operation in tf.keras.\n",
    "* You can use `model.summary()` to visualize the model after you build it.\n",
    "* Use `verbose=2` in `model.fit()` to get similar training logs"
   ]
  },
  {
   "cell_type": "code",
   "execution_count": 5,
   "metadata": {},
   "outputs": [
    {
     "name": "stdout",
     "output_type": "stream",
     "text": [
      "Epoch 1/25\n",
      "WARNING:tensorflow:Model was constructed with shape (None, 28, 28) for input KerasTensor(type_spec=TensorSpec(shape=(None, 28, 28), dtype=tf.float32, name='flatten_input'), name='flatten_input', description=\"created by layer 'flatten_input'\"), but it was called on an input with incompatible shape (None, 784).\n",
      "WARNING:tensorflow:Model was constructed with shape (None, 28, 28) for input KerasTensor(type_spec=TensorSpec(shape=(None, 28, 28), dtype=tf.float32, name='flatten_input'), name='flatten_input', description=\"created by layer 'flatten_input'\"), but it was called on an input with incompatible shape (None, 784).\n",
      "WARNING:tensorflow:Model was constructed with shape (None, 28, 28) for input KerasTensor(type_spec=TensorSpec(shape=(None, 28, 28), dtype=tf.float32, name='flatten_input'), name='flatten_input', description=\"created by layer 'flatten_input'\"), but it was called on an input with incompatible shape (None, 784).\n",
      "1813/1813 - 3s - loss: 1.2219 - sparse_categorical_accuracy: 0.7439 - val_loss: 0.5579 - val_sparse_categorical_accuracy: 0.7975\n",
      "Epoch 2/25\n",
      "1813/1813 - 3s - loss: 0.5202 - sparse_categorical_accuracy: 0.8156 - val_loss: 0.4998 - val_sparse_categorical_accuracy: 0.8125\n",
      "Epoch 3/25\n",
      "1813/1813 - 3s - loss: 0.4466 - sparse_categorical_accuracy: 0.8372 - val_loss: 0.4561 - val_sparse_categorical_accuracy: 0.8355\n",
      "Epoch 4/25\n",
      "1813/1813 - 3s - loss: 0.4049 - sparse_categorical_accuracy: 0.8510 - val_loss: 0.4412 - val_sparse_categorical_accuracy: 0.8405\n",
      "Epoch 5/25\n",
      "1813/1813 - 3s - loss: 0.3766 - sparse_categorical_accuracy: 0.8585 - val_loss: 0.4257 - val_sparse_categorical_accuracy: 0.8430\n",
      "Epoch 6/25\n",
      "1813/1813 - 3s - loss: 0.3534 - sparse_categorical_accuracy: 0.8679 - val_loss: 0.4060 - val_sparse_categorical_accuracy: 0.8505\n",
      "Epoch 7/25\n",
      "1813/1813 - 3s - loss: 0.3351 - sparse_categorical_accuracy: 0.8746 - val_loss: 0.4248 - val_sparse_categorical_accuracy: 0.8465\n",
      "Epoch 8/25\n",
      "1813/1813 - 3s - loss: 0.3193 - sparse_categorical_accuracy: 0.8789 - val_loss: 0.4084 - val_sparse_categorical_accuracy: 0.8555\n",
      "Epoch 9/25\n",
      "1813/1813 - 3s - loss: 0.3053 - sparse_categorical_accuracy: 0.8847 - val_loss: 0.4137 - val_sparse_categorical_accuracy: 0.8565\n",
      "Epoch 10/25\n",
      "1813/1813 - 3s - loss: 0.2925 - sparse_categorical_accuracy: 0.8893 - val_loss: 0.4062 - val_sparse_categorical_accuracy: 0.8550\n",
      "Epoch 11/25\n",
      "1813/1813 - 3s - loss: 0.2806 - sparse_categorical_accuracy: 0.8934 - val_loss: 0.4066 - val_sparse_categorical_accuracy: 0.8615\n",
      "Epoch 12/25\n",
      "1813/1813 - 3s - loss: 0.2709 - sparse_categorical_accuracy: 0.8971 - val_loss: 0.4122 - val_sparse_categorical_accuracy: 0.8585\n",
      "Epoch 13/25\n",
      "1813/1813 - 3s - loss: 0.2610 - sparse_categorical_accuracy: 0.9013 - val_loss: 0.4016 - val_sparse_categorical_accuracy: 0.8675\n",
      "Epoch 14/25\n",
      "1813/1813 - 3s - loss: 0.2527 - sparse_categorical_accuracy: 0.9055 - val_loss: 0.3938 - val_sparse_categorical_accuracy: 0.8665\n",
      "Epoch 15/25\n",
      "1813/1813 - 3s - loss: 0.2443 - sparse_categorical_accuracy: 0.9075 - val_loss: 0.4008 - val_sparse_categorical_accuracy: 0.8640\n",
      "Epoch 16/25\n",
      "1813/1813 - 3s - loss: 0.2354 - sparse_categorical_accuracy: 0.9106 - val_loss: 0.4069 - val_sparse_categorical_accuracy: 0.8655\n",
      "Epoch 17/25\n",
      "1813/1813 - 3s - loss: 0.2294 - sparse_categorical_accuracy: 0.9133 - val_loss: 0.4020 - val_sparse_categorical_accuracy: 0.8645\n",
      "Epoch 18/25\n",
      "1813/1813 - 3s - loss: 0.2223 - sparse_categorical_accuracy: 0.9155 - val_loss: 0.4258 - val_sparse_categorical_accuracy: 0.8650\n",
      "Epoch 19/25\n",
      "1813/1813 - 3s - loss: 0.2139 - sparse_categorical_accuracy: 0.9191 - val_loss: 0.4280 - val_sparse_categorical_accuracy: 0.8615\n",
      "Epoch 20/25\n",
      "1813/1813 - 3s - loss: 0.2081 - sparse_categorical_accuracy: 0.9207 - val_loss: 0.4034 - val_sparse_categorical_accuracy: 0.8675\n",
      "Epoch 21/25\n",
      "1813/1813 - 3s - loss: 0.2019 - sparse_categorical_accuracy: 0.9231 - val_loss: 0.4115 - val_sparse_categorical_accuracy: 0.8740\n",
      "Epoch 22/25\n",
      "1813/1813 - 3s - loss: 0.1953 - sparse_categorical_accuracy: 0.9254 - val_loss: 0.4293 - val_sparse_categorical_accuracy: 0.8655\n",
      "Epoch 23/25\n",
      "1813/1813 - 3s - loss: 0.1890 - sparse_categorical_accuracy: 0.9287 - val_loss: 0.4184 - val_sparse_categorical_accuracy: 0.8650\n",
      "Epoch 24/25\n",
      "1813/1813 - 3s - loss: 0.1821 - sparse_categorical_accuracy: 0.9315 - val_loss: 0.4238 - val_sparse_categorical_accuracy: 0.8705\n",
      "Epoch 25/25\n",
      "1813/1813 - 3s - loss: 0.1776 - sparse_categorical_accuracy: 0.9330 - val_loss: 0.4393 - val_sparse_categorical_accuracy: 0.8695\n"
     ]
    },
    {
     "data": {
      "text/plain": [
       "<tensorflow.python.keras.callbacks.History at 0x7f1ae9f8e7f0>"
      ]
     },
     "execution_count": 5,
     "metadata": {},
     "output_type": "execute_result"
    }
   ],
   "source": [
    "#############################################################\n",
    "# TODO: build the model with tf.keras.models.Sequential\n",
    "\n",
    "model = tf.keras.models.Sequential([\n",
    "  tf.keras.layers.Flatten(input_shape=(28, 28)),\n",
    "  tf.keras.layers.Dense(256, activation='relu'),\n",
    "  tf.keras.layers.Dense(128, activation='relu'),\n",
    "  tf.keras.layers.Dense(64, activation='relu'),\n",
    "  tf.keras.layers.Dense(10, activation='softmax')\n",
    "])\n",
    "\n",
    "# END of your code\n",
    "#############################################################\n",
    "#############################################################\n",
    "# TODO: compile the model, set optimizer and loss\n",
    "\n",
    "model.compile(\n",
    "    optimizer=tf.keras.optimizers.SGD(0.001),\n",
    "    #loss = tf.nn.softmax_cross_entropy_with_logits(logits= out, labels=tf.one_hot(targets,20)),\n",
    "    loss=tf.keras.losses.SparseCategoricalCrossentropy(from_logits=True),\n",
    "    metrics=[tf.keras.metrics.SparseCategoricalAccuracy()],\n",
    ")\n",
    "\n",
    "# END of your code\n",
    "#############################################################\n",
    "#############################################################\n",
    "# TODO: train the model with our own dataset\n",
    "\n",
    "model.fit(\n",
    "    X_train,\n",
    "    y_train,\n",
    "    verbose=2,\n",
    "    epochs=25,\n",
    "    validation_data=(X_val,y_val)\n",
    ")\n",
    "\n",
    "# END of your code\n",
    "#############################################################"
   ]
  },
  {
   "cell_type": "markdown",
   "metadata": {},
   "source": [
    "## Part 2: t-SNE (5%)\n",
    "\n",
    "t-SNE is is a machine learning algorithm for nonlinear dimensionality reduction developed by Geoffrey Hinton and Laurens van der Maaten. It is also a good way of visualizing high-dimensional data in 2D. We show its application for CIFAR100. Later it will be re-used in a CNN network. Experimenting with t-SNE can be fun. One thing to try is to visualize the output of each layer of MLP to observe the differences.\n",
    "\n",
    "<p style=\"line-height: 1.2;\">[1] Maaten, Laurens van der, and Geoffrey Hinton. \"Visualizing data using t-SNE.\" Journal of Machine Learning Research 9.Nov (2008): 2579-2605.</p>\n",
    "<p style=\"line-height: 1.2;\">[2] Adaptive learning rate scheme by Jacobs https://www.willamette.edu/~gorr/classes/cs449/Momentum/deltabardelta.html</p>\n",
    "<p style=\"line-height: 1.2;\">[3] http://cs.stanford.edu/people/karpathy/cnnembed/</p>\n",
    "<p style=\"line-height: 1.2;\">[4] How to Use t-SNE Effectively, with examples.\n",
    " https://distill.pub/2016/misread-tsne</p>"
   ]
  },
  {
   "cell_type": "code",
   "execution_count": 6,
   "metadata": {},
   "outputs": [],
   "source": [
    "from utils.train_funcs import train, test\n",
    "from utils.classifiers.mlp import MLP\n",
    "from utils.features.tsne import tsne"
   ]
  },
  {
   "cell_type": "code",
   "execution_count": 7,
   "metadata": {
    "tags": []
   },
   "outputs": [
    {
     "name": "stdout",
     "output_type": "stream",
     "text": [
      "(58000, 784) (2000, 784) (10000, 784) (100, 784)\n",
      "Train data shape:  (58000, 784)\n",
      "Train labels shape:  (58000,)\n",
      "Validation data shape:  (2000, 784)\n",
      "Validation labels shape:  (2000,)\n",
      "Test data shape:  (10000, 784)\n",
      "Test labels shape:  (10000,)\n",
      "Development data shape: (100, 784)\n",
      "Development data shape (100,)\n"
     ]
    }
   ],
   "source": [
    "# Load the raw Fashion-MNIST data.\n",
    "train_data, test_data = fashion_mnist.load_data()\n",
    "\n",
    "X_train_raw, y_train = train_data\n",
    "X_test_raw, y_test = test_data\n",
    "\n",
    "X_train = X_train_raw.reshape((X_train_raw.shape[0], X_train_raw.shape[1]**2))\n",
    "X_test = X_test_raw.reshape((X_test_raw.shape[0], X_test_raw.shape[1]**2))\n",
    "\n",
    "# Data organizations:\n",
    "# Train data: 58000 samples from original training set of 60,000\n",
    "# Validation data: 2000 samples from original training set: 58,000~60,000\n",
    "# Test data: 10000 samples from original test set\n",
    "# Development data (for gradient check): 100 from the training set\n",
    "num_training = 58000\n",
    "num_validation = 2000\n",
    "num_dev = 100\n",
    "\n",
    "X_val = X_train[-num_validation:, :]\n",
    "y_val = y_train[-num_validation:]\n",
    "\n",
    "mask = np.random.choice(num_training, num_dev, replace=False)\n",
    "X_dev = X_train[mask]\n",
    "y_dev = y_train[mask]\n",
    "\n",
    "X_train = X_train[:num_training, :]\n",
    "y_train = y_train[:num_training]\n",
    "\n",
    "# Preprocessing: subtract the mean value across every dimension for training data\n",
    "mean_image = np.mean(X_train, axis=0)\n",
    "\n",
    "X_train = X_train.astype(np.float32) - mean_image.astype(np.float32)\n",
    "X_val = X_val.astype(np.float32) - mean_image\n",
    "X_test = X_test.astype(np.float32) - mean_image\n",
    "X_dev = X_dev.astype(np.float32) - mean_image\n",
    "\n",
    "print(X_train.shape, X_val.shape, X_test.shape, X_dev.shape)\n",
    "print('Train data shape: ', X_train.shape)\n",
    "print('Train labels shape: ', y_train.shape)\n",
    "print('Validation data shape: ', X_val.shape)\n",
    "print('Validation labels shape: ', y_val.shape)\n",
    "print('Test data shape: ', X_test.shape)\n",
    "print('Test labels shape: ', y_test.shape)\n",
    "print('Development data shape:', X_dev.shape)\n",
    "print('Development data shape', y_dev.shape)"
   ]
  },
  {
   "cell_type": "markdown",
   "metadata": {},
   "source": [
    "#### tSNE of original data"
   ]
  },
  {
   "cell_type": "code",
   "execution_count": 8,
   "metadata": {
    "tags": []
   },
   "outputs": [
    {
     "name": "stdout",
     "output_type": "stream",
     "text": [
      "2.7979442708439266\n",
      "The 100 th loop cost: 12.098062938737696, computation time: 1.6509387493133545\n",
      "The 200 th loop cost: 0.6057726412783171, computation time: 3.3157835006713867\n",
      "The 300 th loop cost: 0.5647899225102556, computation time: 4.974783897399902\n",
      "The 400 th loop cost: 0.5576933661851946, computation time: 6.679643630981445\n",
      "The 500 th loop cost: 0.5560836685550278, computation time: 8.369215965270996\n",
      "The 600 th loop cost: 0.555484738627642, computation time: 10.035169839859009\n",
      "The 700 th loop cost: 0.5551946571951843, computation time: 11.718954801559448\n",
      "The 800 th loop cost: 0.5550320099397845, computation time: 13.419721841812134\n",
      "The 900 th loop cost: 0.5549333517055253, computation time: 15.098404169082642\n",
      "The 1000 th loop cost: 0.5548691099686345, computation time: 16.75897717475891\n",
      "it takes 17.429158687591553 seconds\n"
     ]
    }
   ],
   "source": [
    "random_select = np.random.choice(10000, 500, replace=False)\n",
    "X = X_test_raw[random_select,:,:].reshape(500,X_train.shape[1]).astype('float')/255.0\n",
    "tic = time.time()\n",
    "Y = tsne(X, low_dim=2, perplexity=25.0)\n",
    "print(\"it takes {} seconds\".format(time.time()-tic))"
   ]
  },
  {
   "cell_type": "code",
   "execution_count": 9,
   "metadata": {},
   "outputs": [
    {
     "data": {
      "image/png": "[encoded data removed]",
      "text/plain": [
       "<Figure size 432x288 with 1 Axes>"
      ]
     },
     "metadata": {
      "needs_background": "light"
     },
     "output_type": "display_data"
    }
   ],
   "source": [
    "## visualize tSNE of original data\n",
    "labels = y_test[random_select]\n",
    "colors = np.random.rand(20,3)\n",
    "color_labels = [colors[int(i)] for i in labels.tolist()]\n",
    "plt.scatter(Y[:,0], Y[:,1], 20, color_labels)\n",
    "plt.show()"
   ]
  },
  {
   "cell_type": "markdown",
   "metadata": {},
   "source": [
    "#### tSNE of data after two hidden layers\n",
    "\n",
    "Do visualization of the tSNE of data after going through MLP. In the visualization result, you should find that in comparison with the tSNE of original data where all data points mess up with each other, tSNE of data after two-layer networks would be shown as multiple clusters in a 2D panel."
   ]
  },
  {
   "cell_type": "code",
   "execution_count": 10,
   "metadata": {
    "tags": []
   },
   "outputs": [
    {
     "name": "stdout",
     "output_type": "stream",
     "text": [
      "number of batches for training: 290\n",
      "epoch 1: valid acc = 0.807, new learning rate = 0.00095\n",
      "epoch 2: valid acc = 0.843, new learning rate = 0.0009025\n",
      "epoch 3: valid acc = 0.8545, new learning rate = 0.000857375\n",
      "epoch 4: valid acc = 0.8725, new learning rate = 0.0008145062499999999\n",
      "epoch 5: valid acc = 0.8725, new learning rate = 0.0007737809374999998\n",
      "epoch 6: valid acc = 0.866, new learning rate = 0.0007350918906249997\n",
      "epoch 7: valid acc = 0.8715, new learning rate = 0.0006983372960937497\n",
      "epoch 8: valid acc = 0.874, new learning rate = 0.0006634204312890621\n",
      "epoch 9: valid acc = 0.877, new learning rate = 0.000630249409724609\n",
      "epoch 10: valid acc = 0.878, new learning rate = 0.0005987369392383785\n",
      "test acc: 0.8694\n"
     ]
    },
    {
     "data": {
      "text/plain": [
       "0.8694"
      ]
     },
     "execution_count": 10,
     "metadata": {},
     "output_type": "execute_result"
    }
   ],
   "source": [
    "# Define MLP model\n",
    "model = MLP(input_dim=X_train.shape[1], hidden_dims=[100], num_classes=20, reg=0.1, weight_scale=1e-3)\n",
    "\n",
    "num_epoch = 10\n",
    "batch_size = 200\n",
    "lr = 1e-3\n",
    "verbose = False\n",
    "train_acc_hist, val_acc_hist = train(model, X_train, y_train, X_val, y_val, \n",
    "                  num_epoch=num_epoch, batch_size=batch_size, learning_rate=lr, verbose=verbose)\n",
    "test(model, X_test, y_test)"
   ]
  },
  {
   "cell_type": "markdown",
   "metadata": {},
   "source": [
    "<span style=\"color:red\"><strong>TODO</strong></span>: Visualize data that is passed through MLP model defined above using tSNE. "
   ]
  },
  {
   "cell_type": "code",
   "execution_count": 11,
   "metadata": {
    "tags": []
   },
   "outputs": [
    {
     "name": "stdout",
     "output_type": "stream",
     "text": [
      "0.10023665997647219\n",
      "The 100 th loop cost: 8.709797246876445, computation time: 1.7352585792541504\n",
      "The 200 th loop cost: 0.22766839954002213, computation time: 3.447017192840576\n",
      "The 300 th loop cost: 0.18862510735318133, computation time: 5.118504524230957\n",
      "The 400 th loop cost: 0.1766274060268464, computation time: 6.800467252731323\n",
      "The 500 th loop cost: 0.17215762594278022, computation time: 8.479564905166626\n",
      "The 600 th loop cost: 0.16974322963615002, computation time: 10.138876676559448\n",
      "The 700 th loop cost: 0.16819745101840913, computation time: 11.808665752410889\n",
      "The 800 th loop cost: 0.16709446841189218, computation time: 13.460225343704224\n",
      "The 900 th loop cost: 0.16627551458262393, computation time: 15.111788034439087\n",
      "The 1000 th loop cost: 0.16563271804048396, computation time: 16.7671000957489\n",
      "it takes 17.56077265739441 seconds\n",
      "it takes 17.561059713363647 seconds\n"
     ]
    }
   ],
   "source": [
    "# run tSNE\n",
    "X = X_test[random_select]\n",
    "tic = time.time()\n",
    "\n",
    "#############################################################################\n",
    "#                          START OF YOUR CODE                               #\n",
    "# Hint: Pass data through affine and dense layers (model.layers) and then   #\n",
    "# apply softmax to obtain output of the MLP model.                          #\n",
    "#############################################################################\n",
    "\n",
    "layer1_out = model.layers[0].feedforward(X)\n",
    "layer2_out = model.layers[1].feedforward(layer1_out)\n",
    "\n",
    "X = np.exp(layer2_out) / np.sum(np.exp(layer2_out), axis=1, keepdims=True)\n",
    "\n",
    "tic = time.time()\n",
    "Y = tsne(X, low_dim=2, perplexity=25.0)\n",
    "print(\"it takes {} seconds\".format(time.time()-tic))\n",
    "\n",
    "\n",
    "#############################################################################\n",
    "#                          END OF YOUR CODE                                 #\n",
    "#############################################################################\n",
    "\n",
    "print(\"it takes {} seconds\".format(time.time()-tic))"
   ]
  },
  {
   "cell_type": "code",
   "execution_count": 12,
   "metadata": {},
   "outputs": [
    {
     "data": {
      "image/png": "[encoded data removed]",
      "text/plain": [
       "<Figure size 432x288 with 1 Axes>"
      ]
     },
     "metadata": {
      "needs_background": "light"
     },
     "output_type": "display_data"
    }
   ],
   "source": [
    "# visualize tSNE 2D representation of data after two hidden layers\n",
    "#############################################################################\n",
    "#                          START OF YOUR CODE                               #\n",
    "# Hint: See tSNE visualization of original data                             #\n",
    "#############################################################################\n",
    "\n",
    "labels = y_test[random_select]\n",
    "colors = np.random.rand(20,3)\n",
    "color_labels = [colors[int(i)] for i in labels.tolist()]\n",
    "plt.scatter(Y[:,0], Y[:,1], 20, color_labels)\n",
    "plt.show()\n",
    "\n",
    "#############################################################################\n",
    "#                          END OF YOUR CODE                                 #\n",
    "#############################################################################"
   ]
  },
  {
   "cell_type": "markdown",
   "metadata": {},
   "source": [
    "<span style=\"color:red\"><strong>TODO</strong></span>: Try tuning the parameters of tSNE, do visualization of the new tSNE of data."
   ]
  },
  {
   "cell_type": "code",
   "execution_count": 13,
   "metadata": {},
   "outputs": [
    {
     "name": "stdout",
     "output_type": "stream",
     "text": [
      "0.03894469995336435\n",
      "The 100 th loop cost: 12.33478507508985, computation time: 1.7097139358520508\n",
      "The 200 th loop cost: 0.6706942895697737, computation time: 3.4093263149261475\n",
      "The 300 th loop cost: 0.452635107346044, computation time: 5.126781463623047\n",
      "The 400 th loop cost: 0.37189553133058123, computation time: 6.821353197097778\n",
      "The 500 th loop cost: 0.34206769508106655, computation time: 8.524313926696777\n",
      "The 600 th loop cost: 0.3258667430114315, computation time: 10.221276760101318\n",
      "The 700 th loop cost: 0.3154193165344918, computation time: 11.90363359451294\n",
      "The 800 th loop cost: 0.30792145714329633, computation time: 13.58789849281311\n",
      "The 900 th loop cost: 0.3021970337128842, computation time: 15.309667348861694\n",
      "The 1000 th loop cost: 0.2975918126420819, computation time: 17.04830265045166\n",
      "it takes 18.003678798675537 seconds\n",
      "it takes 18.003976106643677 seconds\n"
     ]
    }
   ],
   "source": [
    "# Tune the parameter, show the results.\n",
    "# run tSNE\n",
    "X = X_test[random_select]\n",
    "\n",
    "\n",
    "#############################################################################\n",
    "#                          START OF YOUR CODE                               #\n",
    "#############################################################################\n",
    "\n",
    "layer1_out = model.layers[0].feedforward(X)\n",
    "layer2_out = model.layers[1].feedforward(layer1_out)\n",
    "\n",
    "X = np.exp(layer2_out) / np.sum(np.exp(layer2_out), axis=1, keepdims=True)\n",
    "\n",
    "tic = time.time()\n",
    "Y = tsne(X, low_dim=2, perplexity=5.0)\n",
    "print(\"it takes {} seconds\".format(time.time()-tic))\n",
    "\n",
    "#############################################################################\n",
    "#                          END OF YOUR CODE                                 #\n",
    "#############################################################################\n",
    "\n",
    "print(\"it takes {} seconds\".format(time.time()-tic))"
   ]
  },
  {
   "cell_type": "code",
   "execution_count": 14,
   "metadata": {},
   "outputs": [
    {
     "data": {
      "image/png": "[encoded data removed]",
      "text/plain": [
       "<Figure size 432x288 with 1 Axes>"
      ]
     },
     "metadata": {
      "needs_background": "light"
     },
     "output_type": "display_data"
    }
   ],
   "source": [
    "# visualize tSNE 2D representation of data after two hidden layers\n",
    "#############################################################################\n",
    "#                          START OF YOUR CODE                               #\n",
    "#############################################################################\n",
    "\n",
    "labels = y_test[random_select]\n",
    "colors = np.random.rand(20,3)\n",
    "color_labels = [colors[int(i)] for i in labels.tolist()]\n",
    "plt.scatter(Y[:,0], Y[:,1], 20, color_labels)\n",
    "plt.show()\n",
    "\n",
    "#############################################################################\n",
    "#                          END OF YOUR CODE                                 #\n",
    "#############################################################################"
   ]
  },
  {
   "cell_type": "code",
   "execution_count": null,
   "metadata": {},
   "outputs": [],
   "source": []
  }
 ],
 "metadata": {
  "colab": {
   "name": "task2-mlp_eager.ipynb",
   "provenance": [],
   "toc_visible": true,
   "version": "0.3.2"
  },
  "kernelspec": {
   "display_name": "Python 3",
   "language": "python",
   "name": "python3"
  },
  "language_info": {
   "codemirror_mode": {
    "name": "ipython",
    "version": 3
   },
   "file_extension": ".py",
   "mimetype": "text/x-python",
   "name": "python",
   "nbconvert_exporter": "python",
   "pygments_lexer": "ipython3",
   "version": "3.6.9"
  },
  "vscode": {
   "interpreter": {
    "hash": "b0fa6594d8f4cbf19f97940f81e996739fb7646882a419484c72d19e05852a7e"
   }
  }
 },
 "nbformat": 4,
 "nbformat_minor": 4
}
