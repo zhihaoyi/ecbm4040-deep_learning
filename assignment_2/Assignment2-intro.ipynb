{
 "cells": [
  {
   "cell_type": "markdown",
   "metadata": {},
   "source": [
    "## Columbia University\n",
    "### ECBM E4040 Neural Networks and Deep Learning. Fall 2022."
   ]
  },
  {
   "cell_type": "markdown",
   "metadata": {},
   "source": [
    "# ECBM E4040 2022 Assignment 2"
   ]
  },
  {
   "cell_type": "markdown",
   "metadata": {},
   "source": [
    "## Task 1: Optimizers (15%)\n",
    "\n",
    "Complete **task1-optimization.ipynb**. Previously, we have covered the Stochastic Gradient Descent (SGD) optimization method. More complex methods are covered in this task, and you are asked to implement several optimization methods on your own. "
   ]
  },
  {
   "cell_type": "markdown",
   "metadata": {},
   "source": [
    "## Task 2: Regularization (20%)\n",
    "\n",
    "Complete **task2-regularization.ipynb**. To efficiently train a good neural network, a suitable optimizer is important but not enough. Another important consideration is the selection of good initialization values for ANN parameters, which may help the model to not overfit. This task addresses some of the regularization methods. You will implement them two methods in NumPy."
   ]
  },
  {
   "cell_type": "markdown",
   "metadata": {},
   "source": [
    "## Task 3: Convolutional Neural Network (CNN) (30%)\n",
    "\n",
    "Complete **task3-cnn.ipynb**. In contrast to the Multi-Layer Perceptron (ML) or fully-connected (FC) nets, Convolutional Neural Networks are a more powerful tool often used in the field of computer vision. In this task, you are going to get familiar with CNN and create a simple network using the NumPy and Keras."
   ]
  },
  {
   "cell_type": "markdown",
   "metadata": {},
   "source": [
    "## Task 4: Data Augmentation (15%)\n",
    "\n",
    "Complete **task4-augmentation.ipynb**. Data augmentation is very useful for CNNs as it can enrich the current dataset by enlarging it using various operations on the original data samples. It can lead to enhanced performance in neural networks. You will write a data generator which does several data augmentations on your dataset."
   ]
  },
  {
   "cell_type": "markdown",
   "metadata": {},
   "source": [
    "## Task 5: Bottle Kaggle Competition (20%)\n",
    "\n",
    "Do the task described in the **task5-kaggle.ipynb**. This requires you to join an in-class Kaggle competition and compete with your classmates on the \"bottle classification problem\". You need to keep updating your CNN in iterations to get the best possible result. Kaggle will enable you to observe the progress made by students in the class. You can use any/all of the deep learning modelling techniques (e.g. regularization, optimization) to get the best possible performance. You have to use TensorFlow 2.4 to build your model."
   ]
  },
  {
   "cell_type": "code",
   "execution_count": 1,
   "metadata": {},
   "outputs": [
    {
     "name": "stdout",
     "output_type": "stream",
     "text": [
      "Reading package lists... Done\n",
      "The following package was automatically installed and is no longer required:\n",
      "  libnuma1\n",
      "Use 'sudo apt autoremove' to remove it.\n",
      "0 upgraded, 0 newly installed, 0 to remove and 58 not upgraded.\n"
     ]
    }
   ],
   "source": [
    "!sudo apt-get install tree\n",
    "!tree ./ >> README.md"
   ]
  },
  {
   "cell_type": "code",
   "execution_count": null,
   "metadata": {},
   "outputs": [],
   "source": []
  }
 ],
 "metadata": {
  "anaconda-cloud": {},
  "kernelspec": {
   "display_name": "Python 3",
   "language": "python",
   "name": "python3"
  },
  "language_info": {
   "codemirror_mode": {
    "name": "ipython",
    "version": 3
   },
   "file_extension": ".py",
   "mimetype": "text/x-python",
   "name": "python",
   "nbconvert_exporter": "python",
   "pygments_lexer": "ipython3",
   "version": "3.6.9"
  },
  "vscode": {
   "interpreter": {
    "hash": "b0fa6594d8f4cbf19f97940f81e996739fb7646882a419484c72d19e05852a7e"
   }
  }
 },
 "nbformat": 4,
 "nbformat_minor": 4
}
