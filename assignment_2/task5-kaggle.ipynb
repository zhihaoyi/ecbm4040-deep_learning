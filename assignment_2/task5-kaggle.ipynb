{
 "cells": [
  {
   "cell_type": "markdown",
   "metadata": {
    "jp-MarkdownHeadingCollapsed": true,
    "tags": []
   },
   "source": [
    "## Columbia University\n",
    "### ECBM E4040 Neural Networks and Deep Learning. Fall 2022."
   ]
  },
  {
   "cell_type": "markdown",
   "metadata": {
    "tags": []
   },
   "source": [
    "# ECBM E4040 - Assignment 2- Task 5: Kaggle Open-ended Competition\n",
    "\n",
    "Kaggle is a platform for predictive modelling and analytics competitions in which companies and researchers post data and statisticians and data miners compete to produce the best models for predicting and describing the data.\n",
    "\n",
    "If you don't have a Kaggle account, feel free to join at [www.kaggle.com](https://www.kaggle.com). To let the CAs do the grading more conveniently, please __use Lionmail to join Kaggle__ and __use UNI as your username__.\n",
    "\n",
    "The competition is located here: https://www.kaggle.com/t/d908ef03b7244102a1e006516a6555a6\n",
    "\n",
    "You can find detailed description about this in-class competition on the website above. Please read carefully and follow the instructions."
   ]
  },
  {
   "cell_type": "markdown",
   "metadata": {},
   "source": [
    "<span style=\"color:red\">__TODO__:</span>\n",
    "\n",
    "- Train a custom model for the bottle dataset classification problem. You are free to use any methods taught in the class or found by yourself on the Internet (ALWAYS provide reference to the source). General training methods include:\n",
    "  - Dropout\n",
    "  - Batch normalization\n",
    "  - Early stopping\n",
    "  - l1-norm & l2-norm penalization\n",
    "- You are given the test set to generate your predictions (70% public + 30% private, but you don't know which ones are public/private). Students should achieve an accuracy on the public test set of at least 70%. Two points will be deducted for each 1% below 70% accuracy threshold (i.e. 65% accuracy will have 10 points deducted). The accuracy will be shown on the public leaderboard once you submit your prediction .csv file. The private leaderboard will be released after the competition. The final ranking is based on the private leaderboard result, not the public leaderboard.\n",
    "\n",
    "\n",
    "NOTE: \n",
    "* Report your results on the Kaggle, for comparison with other students' optimal results (you can do this several times). \n",
    "* Save your best model.\n",
    "\n",
    "__Hint__: You can start from what you implemented in task 4. Students are allowed to use pretrained networks, and utilize transfer learning. "
   ]
  },
  {
   "cell_type": "markdown",
   "metadata": {},
   "source": [
    "## Useful Information: \n",
    "\n",
    "- Unzip zip files in GCP or acquire administrator permission for other application installation: When you upload your dataset to your vm instances, you may want to unzip your files. However, unzip command is not built in. To use `sudo apt install unzip` or for future applications installation, you need to: \n",
    "  - Change username to default (or just restart the vm instance)\n",
    "  - Type `sudo su` to get root\n",
    "  - You can remove sudo for the following installation commands (e.g. `apt install unzip`).\n",
    "- If you meet kernel crash (or the running never ends), you might consider using a larger memory CPU. Especially if you include large network structure like VGG, 15GB memory or more CPU is recommended\n",
    "- Some python libraries that you might need to install first: pandas, scikit-learn. there are **2 OPTIONS** that you can use to install them:\n",
    "  - In the envTF24 environment in linux interface, type: `pip install [package name]` \n",
    "  - In the jupyter notebook (i.e. this file), type `!pip install [package name]`. You’d better restart the virtual environment, even the instance to get these packages functional.\n",
    "- You might need extra pip libraries to handle dataset, include network, etc. You can follow step 3 to install them."
   ]
  },
  {
   "cell_type": "markdown",
   "metadata": {},
   "source": [
    "## HW Submission Details:\n",
    "\n",
    "There are two components to reporting the results of this task: \n",
    "\n",
    "**(A) Submission (up to 20 submissions each day) of the .csv prediction file through the Kaggle platform**. You should start doing this __VERY early__, so that students can compare their work as they are making progress with model optimization.\n",
    "\n",
    "**(B) Submitting your best CNN model through Github Classroom repo.**\n",
    "\n",
    "**Note** that assignments are submitted through github classroom only. All code for training your kaggle model should be done in this task 5 jupyter notebook, or in a user defined module (.py file) that is imported for use in the jupyter notebook."
   ]
  },
  {
   "cell_type": "markdown",
   "metadata": {},
   "source": [
    "<span style=\"color:red\">__Submission content:__</span>\n",
    "\n",
    "(i) In your Assignment 2 submission folder, create a subfolder called __KaggleModel__. Save your best model using `model.save()`. This will generate a `saved_model.pb` file, a folder called `variables`, and a folder called `checkpoints` all inside the __KaggleModel__ folder. Only upload your best model to GitHub classroom. \n",
    "\n",
    "(ii) <span style=\"color:red\">If your saved model exceeds 100 MB, do not upload it to GitHub classroom (.gitignore it or you will get an error when pushing).</span> Upload it instead to Google Drive and explicitly provide the link under the 'Save your best model' cell. \n",
    "\n",
    "(iii) Remember to delete any intermediate results, we only want your best model. Do not upload any data files. The instructors will rerun the uploaded best model and verify against the score which you reported on the Kaggle.\n",
    "\n",
    "**The top 10 final submissions of the Kaggle competition will receive up to 10 bonus points proportional to the private test accuracy.**"
   ]
  },
  {
   "cell_type": "markdown",
   "metadata": {},
   "source": [
    "## Load Data"
   ]
  },
  {
   "cell_type": "code",
   "execution_count": 1,
   "metadata": {
    "tags": []
   },
   "outputs": [
    {
     "name": "stdout",
     "output_type": "stream",
     "text": [
      "Reading folder 0\n",
      "Reading folder 1\n",
      "Reading folder 2\n",
      "Reading folder 3\n",
      "Reading folder 4\n",
      "Reading Test Images\n",
      "Training data shape:  (15000, 128, 128, 3)\n",
      "Training labels shape:  (15000,)\n",
      "Test data shape:  (3500, 128, 128, 3)\n"
     ]
    }
   ],
   "source": [
    "#Generate dataset\n",
    "import os\n",
    "import pandas as pd\n",
    "import numpy as np\n",
    "from PIL import Image\n",
    "import warnings\n",
    "\n",
    "#Load Training images and labels\n",
    "train_directory = \"C:\\\\Users\\\\highm\\\\Downloads\\\\e4040-2022fall-assign2-zy2523\\\\data\\\\kaggle_train_128\\\\train_128\" #TODO: Enter path for train128 folder (hint: use os.getcwd())\n",
    "image_list=[]\n",
    "label_list=[]\n",
    "for sub_dir in os.listdir(train_directory):\n",
    "    print(\"Reading folder {}\".format(sub_dir))\n",
    "    sub_dir_name=os.path.join(train_directory,sub_dir)\n",
    "    for file in os.listdir(sub_dir_name):\n",
    "        filename = os.fsdecode(file)\n",
    "        if filename.endswith(\".jpg\") or filename.endswith(\".png\"):\n",
    "            image_list.append(np.array(Image.open(os.path.join(sub_dir_name,file))))\n",
    "            label_list.append(int(sub_dir))\n",
    "X_train=np.array(image_list)\n",
    "y_train=np.array(label_list)\n",
    "warnings.simplefilter('ignore')\n",
    "#Load Test images\n",
    "test_directory = \"C:\\\\Users\\\\highm\\\\Downloads\\\\e4040-2022fall-assign2-zy2523\\\\data\\\\kaggle_test_128\\\\test_128\"#TODO: Enter path for test128 folder (hint: use os.getcwd())\n",
    "test_image_list=[]\n",
    "test_df = pd.DataFrame([], columns=['Id', 'X'])\n",
    "print(\"Reading Test Images\")\n",
    "for file in os.listdir(test_directory):\n",
    "    filename = os.fsdecode(file)\n",
    "    if filename.endswith(\".jpg\") or filename.endswith(\".png\"):\n",
    "        test_df = test_df.append({\n",
    "            'Id': filename,\n",
    "            'X': np.array(Image.open(os.path.join(test_directory,file)))\n",
    "        }, ignore_index=True)\n",
    "        \n",
    "test_df['s'] = [int(x.split('.')[0]) for x in test_df['Id']]\n",
    "test_df = test_df.sort_values(by=['s'])\n",
    "test_df = test_df.drop(columns=['s'])\n",
    "X_test = np.stack(test_df['X'])\n",
    "\n",
    "\n",
    "print('Training data shape: ', X_train.shape)\n",
    "print('Training labels shape: ', y_train.shape)\n",
    "print('Test data shape: ', X_test.shape)"
   ]
  },
  {
   "cell_type": "code",
   "execution_count": null,
   "metadata": {
    "scrolled": false
   },
   "outputs": [],
   "source": [
    "#import zipfile\n",
    "#import os\n",
    "#files = zipfile.ZipFile(\"ecbm-e4040fall2022-assignment-2-task-5.zip\",'r')\n",
    "#files.extractall(os.getcwd())"
   ]
  },
  {
   "cell_type": "markdown",
   "metadata": {},
   "source": [
    "## Build and Train Your Model Here"
   ]
  },
  {
   "cell_type": "code",
   "execution_count": 2,
   "metadata": {},
   "outputs": [],
   "source": [
    "import datetime\n",
    "import tensorflow as tf\n",
    "from tensorflow.keras.models import Sequential\n",
    "from tensorflow.keras.layers import Dense, Flatten, Conv2D, AveragePooling2D, MaxPooling2D\n",
    "from tensorflow.keras import Model\n",
    "from tensorflow.keras.utils import to_categorical\n",
    "from tensorflow.keras.losses import categorical_crossentropy\n",
    "import datetime\n",
    "from tensorflow.keras import regularizers"
   ]
  },
  {
   "cell_type": "code",
   "execution_count": 3,
   "metadata": {},
   "outputs": [],
   "source": [
    "#convert the images into float32 type\n",
    "X_train = np.array(X_train, dtype = np.float32)\n",
    "\n",
    "#shuffle the samples\n",
    "rand = np.arange(y_train.shape[0])\n",
    "np.random.shuffle(rand)\n",
    "X_train = X_train[rand]\n",
    "y_train = y_train[rand]\n"
   ]
  },
  {
   "cell_type": "code",
   "execution_count": 4,
   "metadata": {},
   "outputs": [
    {
     "name": "stdout",
     "output_type": "stream",
     "text": [
      "x_train:  (13500, 128, 128, 3)\n",
      "y_train:  (13500,)\n",
      "x_val:  (1500, 128, 128, 3)\n",
      "y_val:  (1500,)\n"
     ]
    }
   ],
   "source": [
    "x_train1 = X_train[:-1500]\n",
    "y_train1 = y_train[:-1500]\n",
    "x_val = X_train[-1500:]\n",
    "y_val = y_train[-1500:]\n",
    "\n",
    "print('x_train: ',x_train1.shape)\n",
    "print('y_train: ',y_train1.shape)\n",
    "print('x_val: ',x_val.shape)\n",
    "print('y_val: ',y_val.shape)"
   ]
  },
  {
   "cell_type": "code",
   "execution_count": 5,
   "metadata": {},
   "outputs": [],
   "source": [
    "# YOUR CODE HERE\n",
    "def create_model():\n",
    "    model = tf.keras.models.Sequential([\n",
    "        \n",
    "        # Conv_Layer 1\n",
    "        tf.keras.layers.Conv2D(filters=5, kernel_size=7, activation='relu', padding='same'),\n",
    "        tf.keras.layers.BatchNormalization(),\n",
    "        tf.keras.layers.AveragePooling2D(pool_size=(2,2), strides=(2,2)),\n",
    "        \n",
    "        # Conv_Layer 2\n",
    "        tf.keras.layers.Conv2D(filters=7, kernel_size=5, activation='relu', padding='same'),\n",
    "        tf.keras.layers.BatchNormalization(),\n",
    "        tf.keras.layers.AveragePooling2D(pool_size=(2,2), strides=(2,2)),\n",
    "        \n",
    "        # Fully Connected Layers\n",
    "        tf.keras.layers.Flatten(),\n",
    "        tf.keras.layers.Dense(512, activation='relu', kernel_regularizer=regularizers.l2(0.01)),\n",
    "        tf.keras.layers.Dense(128, activation='relu', kernel_regularizer=regularizers.l2(0.01)),\n",
    "        tf.keras.layers.Dense(64, activation='relu', kernel_regularizer=regularizers.l2(0.01)),\n",
    "        tf.keras.layers.Dense(5, activation='softmax')\n",
    "        \n",
    "    ])\n",
    "     \n",
    "    return model"
   ]
  },
  {
   "cell_type": "code",
   "execution_count": 6,
   "metadata": {
    "scrolled": false
   },
   "outputs": [
    {
     "name": "stdout",
     "output_type": "stream",
     "text": [
      "Epoch 1/30\n",
      "53/53 [==============================] - 60s 1s/step - loss: 8.5287 - accuracy: 0.5924 - val_loss: 4.5120 - val_accuracy: 0.5967\n",
      "Epoch 2/30\n",
      "53/53 [==============================] - 60s 1s/step - loss: 2.8141 - accuracy: 0.7881 - val_loss: 2.2511 - val_accuracy: 0.7020\n",
      "Epoch 3/30\n",
      "53/53 [==============================] - 59s 1s/step - loss: 1.6446 - accuracy: 0.8319 - val_loss: 2.1621 - val_accuracy: 0.5760\n",
      "Epoch 4/30\n",
      "53/53 [==============================] - 58s 1s/step - loss: 1.2398 - accuracy: 0.8499 - val_loss: 1.2254 - val_accuracy: 0.8207\n",
      "Epoch 5/30\n",
      "53/53 [==============================] - 58s 1s/step - loss: 1.0163 - accuracy: 0.8702 - val_loss: 1.0795 - val_accuracy: 0.8300\n",
      "Epoch 6/30\n",
      "53/53 [==============================] - 58s 1s/step - loss: 0.8809 - accuracy: 0.8817 - val_loss: 1.0698 - val_accuracy: 0.8060\n",
      "Epoch 7/30\n",
      "53/53 [==============================] - 58s 1s/step - loss: 0.7989 - accuracy: 0.8930 - val_loss: 0.9388 - val_accuracy: 0.8267\n",
      "Epoch 8/30\n",
      "53/53 [==============================] - 58s 1s/step - loss: 0.7403 - accuracy: 0.8996 - val_loss: 0.9302 - val_accuracy: 0.8280\n",
      "Epoch 9/30\n",
      "53/53 [==============================] - 60s 1s/step - loss: 0.6278 - accuracy: 0.9250 - val_loss: 0.8973 - val_accuracy: 0.8147\n",
      "Epoch 10/30\n",
      "53/53 [==============================] - 60s 1s/step - loss: 0.6104 - accuracy: 0.9210 - val_loss: 0.8876 - val_accuracy: 0.8227\n",
      "Epoch 11/30\n",
      "53/53 [==============================] - 60s 1s/step - loss: 0.5628 - accuracy: 0.9322 - val_loss: 0.9082 - val_accuracy: 0.8020\n",
      "Epoch 12/30\n",
      "53/53 [==============================] - 59s 1s/step - loss: 0.5287 - accuracy: 0.9384 - val_loss: 0.8080 - val_accuracy: 0.8407\n",
      "Epoch 13/30\n",
      "53/53 [==============================] - 60s 1s/step - loss: 0.5105 - accuracy: 0.9420 - val_loss: 0.8605 - val_accuracy: 0.8253\n",
      "Epoch 14/30\n",
      "53/53 [==============================] - 60s 1s/step - loss: 0.4658 - accuracy: 0.9520 - val_loss: 0.8242 - val_accuracy: 0.8327\n",
      "Epoch 15/30\n",
      "53/53 [==============================] - 62s 1s/step - loss: 0.4441 - accuracy: 0.9574 - val_loss: 1.2044 - val_accuracy: 0.6873\n",
      "Epoch 16/30\n",
      "53/53 [==============================] - 61s 1s/step - loss: 0.4463 - accuracy: 0.9539 - val_loss: 0.7092 - val_accuracy: 0.8647\n",
      "Epoch 17/30\n",
      "53/53 [==============================] - 60s 1s/step - loss: 0.3984 - accuracy: 0.9644 - val_loss: 0.8130 - val_accuracy: 0.8413\n",
      "Epoch 18/30\n",
      "53/53 [==============================] - 60s 1s/step - loss: 0.4026 - accuracy: 0.9607 - val_loss: 0.8405 - val_accuracy: 0.8093\n",
      "Epoch 19/30\n",
      "53/53 [==============================] - 59s 1s/step - loss: 0.3709 - accuracy: 0.9706 - val_loss: 0.7665 - val_accuracy: 0.8433\n",
      "Epoch 20/30\n",
      "53/53 [==============================] - 60s 1s/step - loss: 0.3769 - accuracy: 0.9644 - val_loss: 0.7566 - val_accuracy: 0.8413\n",
      "Epoch 21/30\n",
      "53/53 [==============================] - 60s 1s/step - loss: 0.3674 - accuracy: 0.9682 - val_loss: 0.6902 - val_accuracy: 0.8560\n",
      "Epoch 22/30\n",
      "53/53 [==============================] - 60s 1s/step - loss: 0.3346 - accuracy: 0.9761 - val_loss: 0.7315 - val_accuracy: 0.8527\n",
      "Epoch 23/30\n",
      "53/53 [==============================] - 60s 1s/step - loss: 0.3271 - accuracy: 0.9731 - val_loss: 0.6994 - val_accuracy: 0.8520\n",
      "Epoch 24/30\n",
      "53/53 [==============================] - 57s 1s/step - loss: 0.3735 - accuracy: 0.9590 - val_loss: 0.9005 - val_accuracy: 0.8013\n",
      "Epoch 25/30\n",
      "53/53 [==============================] - 57s 1s/step - loss: 0.3880 - accuracy: 0.9589 - val_loss: 0.8143 - val_accuracy: 0.8153\n",
      "Epoch 26/30\n",
      "53/53 [==============================] - 57s 1s/step - loss: 0.3002 - accuracy: 0.9821 - val_loss: 0.6890 - val_accuracy: 0.8513\n",
      "Epoch 27/30\n",
      "53/53 [==============================] - 57s 1s/step - loss: 0.2661 - accuracy: 0.9852 - val_loss: 0.6456 - val_accuracy: 0.8620\n",
      "Epoch 28/30\n",
      "53/53 [==============================] - 58s 1s/step - loss: 0.2534 - accuracy: 0.9866 - val_loss: 0.7299 - val_accuracy: 0.8447\n",
      "Epoch 29/30\n",
      "53/53 [==============================] - 57s 1s/step - loss: 0.5816 - accuracy: 0.9073 - val_loss: 1.3697 - val_accuracy: 0.7660\n",
      "Epoch 30/30\n",
      "53/53 [==============================] - 57s 1s/step - loss: 0.5075 - accuracy: 0.9353 - val_loss: 0.7074 - val_accuracy: 0.8647\n"
     ]
    },
    {
     "data": {
      "text/plain": [
       "<keras.callbacks.History at 0x1b814840310>"
      ]
     },
     "execution_count": 6,
     "metadata": {},
     "output_type": "execute_result"
    }
   ],
   "source": [
    "#Create the model, compile the model, and fit it\n",
    "model_test = create_model()\n",
    "model_test.compile(optimizer='Nadam',\n",
    "                   loss='sparse_categorical_crossentropy',\n",
    "                   metrics=['accuracy'])\n",
    "log_dir = \"logs/fit/\" + datetime.datetime.now().strftime(\"%Y%m%d-%H%M%S\")\n",
    "model_test.fit(x=x_train1, \n",
    "               y=y_train1, \n",
    "               batch_size=256, \n",
    "               epochs=30, \n",
    "               validation_data=(x_val, y_val))"
   ]
  },
  {
   "cell_type": "markdown",
   "metadata": {},
   "source": [
    "## Save your best model\n",
    "\n",
    "**Link to large model on Google Drive: [insert link here]** (if model exceeds 100 MB, else upload to GitHub classroom)"
   ]
  },
  {
   "cell_type": "code",
   "execution_count": 9,
   "metadata": {},
   "outputs": [
    {
     "name": "stderr",
     "output_type": "stream",
     "text": [
      "WARNING:absl:Found untraced functions such as _jit_compiled_convolution_op, _jit_compiled_convolution_op while saving (showing 2 of 2). These functions will not be directly callable after loading.\n"
     ]
    },
    {
     "name": "stdout",
     "output_type": "stream",
     "text": [
      "INFO:tensorflow:Assets written to: best_model\\assets\n"
     ]
    },
    {
     "name": "stderr",
     "output_type": "stream",
     "text": [
      "INFO:tensorflow:Assets written to: best_model\\assets\n"
     ]
    }
   ],
   "source": [
    "# YOUR CODE HERE\n",
    "model_test.save('best_model')"
   ]
  },
  {
   "cell_type": "markdown",
   "metadata": {},
   "source": [
    "## Generate .csv file for Kaggle\n",
    "\n",
    "The following code snippet can be an example used to generate your prediction .csv file.\n",
    "\n",
    "NOTE: If your Kaggle results are indicating random performance, then it's likely that the indices of your csv predictions are misaligned."
   ]
  },
  {
   "cell_type": "code",
   "execution_count": 7,
   "metadata": {},
   "outputs": [
    {
     "name": "stdout",
     "output_type": "stream",
     "text": [
      "110/110 [==============================] - 3s 30ms/step\n"
     ]
    }
   ],
   "source": [
    "prediction = model_test.predict(X_test)\n",
    "ans = np.zeros([prediction.shape[0],])\n",
    "\n",
    "for i,val in enumerate(prediction):\n",
    "    max_num = np.max(val)\n",
    "    ind = np.where(val == max_num)\n",
    "    ans[i] = ind[0]\n",
    "\n",
    "ans = np.array(ans, dtype=int)"
   ]
  },
  {
   "cell_type": "code",
   "execution_count": 8,
   "metadata": {},
   "outputs": [],
   "source": [
    "import csv\n",
    "with open('predicted.csv','w',newline='') as csvfile:\n",
    "    fieldnames = ['Id','label']\n",
    "    writer = csv.DictWriter(csvfile, fieldnames=fieldnames)\n",
    "    writer.writeheader()\n",
    "    for index,l in enumerate(ans):\n",
    "        filename = str(index) + '.png'\n",
    "        label = str(l)\n",
    "        writer.writerow({'Id': filename, 'label': label})"
   ]
  },
  {
   "cell_type": "code",
   "execution_count": null,
   "metadata": {},
   "outputs": [],
   "source": []
  }
 ],
 "metadata": {
  "kernelspec": {
   "display_name": "Python 3 (ipykernel)",
   "language": "python",
   "name": "python3"
  },
  "language_info": {
   "codemirror_mode": {
    "name": "ipython",
    "version": 3
   },
   "file_extension": ".py",
   "mimetype": "text/x-python",
   "name": "python",
   "nbconvert_exporter": "python",
   "pygments_lexer": "ipython3",
   "version": "3.9.7"
  },
  "vscode": {
   "interpreter": {
    "hash": "b0fa6594d8f4cbf19f97940f81e996739fb7646882a419484c72d19e05852a7e"
   }
  }
 },
 "nbformat": 4,
 "nbformat_minor": 4
}
