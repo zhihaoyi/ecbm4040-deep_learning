{
 "cells": [
  {
   "cell_type": "markdown",
   "metadata": {},
   "source": [
    "## Columbia University\n",
    "### ECBM E4040 Neural Networks and Deep Learning. Fall 2022."
   ]
  },
  {
   "cell_type": "markdown",
   "metadata": {},
   "source": [
    "# Assignment 3 - Reccurent Neural Networks \n",
    "\n",
    "In this assignment, you will experiment with recurrent neural networks (RNN).\n",
    "\n",
    "### Task 1: XOR net (50%)\n",
    "\n",
    "Create a RNN network which can correctly compute the XOR operation.\n",
    "\n",
    "### Task 2: RNN Application - Tweet Sentiment Analysis (50%)\n",
    "\n",
    "Create a Neural Network Model using a LSTM cell, for classifying sentiment from tweets.\n"
   ]
  },
  {
   "cell_type": "markdown",
   "metadata": {},
   "source": [
    "### Submission requirements\n",
    "\n",
    "Follow the instructions from prior assignments, or README files in the github.\n"
   ]
  },
  {
   "cell_type": "code",
   "execution_count": 1,
   "metadata": {},
   "outputs": [
    {
     "name": "stdout",
     "output_type": "stream",
     "text": [
      "Reading package lists... Done\n",
      "Building dependency tree       \n",
      "Reading state information... Done\n",
      "tree is already the newest version (1.7.0-5).\n",
      "The following package was automatically installed and is no longer required:\n",
      "  libnuma1\n",
      "Use 'sudo apt autoremove' to remove it.\n",
      "0 upgraded, 0 newly installed, 0 to remove and 56 not upgraded.\n"
     ]
    }
   ],
   "source": [
    "!sudo apt-get install tree\n",
    "!tree ./ >> README.md"
   ]
  },
  {
   "cell_type": "code",
   "execution_count": null,
   "metadata": {},
   "outputs": [],
   "source": []
  }
 ],
 "metadata": {
  "anaconda-cloud": {},
  "kernelspec": {
   "display_name": "Python 3",
   "language": "python",
   "name": "python3"
  },
  "language_info": {
   "codemirror_mode": {
    "name": "ipython",
    "version": 3
   },
   "file_extension": ".py",
   "mimetype": "text/x-python",
   "name": "python",
   "nbconvert_exporter": "python",
   "pygments_lexer": "ipython3",
   "version": "3.6.9"
  },
  "vscode": {
   "interpreter": {
    "hash": "b0fa6594d8f4cbf19f97940f81e996739fb7646882a419484c72d19e05852a7e"
   }
  }
 },
 "nbformat": 4,
 "nbformat_minor": 4
}
