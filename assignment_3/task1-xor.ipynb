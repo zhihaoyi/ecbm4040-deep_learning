{
 "cells": [
  {
   "cell_type": "markdown",
   "metadata": {},
   "source": [
    "## Columbia University\n",
    "### ECBM E4040 Neural Networks and Deep Learning. Fall 2022."
   ]
  },
  {
   "cell_type": "markdown",
   "metadata": {},
   "source": [
    "## **Task 1: XOR** (50%)"
   ]
  },
  {
   "cell_type": "code",
   "execution_count": 1,
   "metadata": {},
   "outputs": [
    {
     "name": "stdout",
     "output_type": "stream",
     "text": [
      "Using GPU(0): PhysicalDevice(name='/physical_device:GPU:0', device_type='GPU')\n",
      "2.4.0\n"
     ]
    }
   ],
   "source": [
    "# Import modules\n",
    "from __future__ import print_function\n",
    "import tensorflow as tf\n",
    "\n",
    "physical_devices = tf.config.experimental.list_physical_devices('GPU')\n",
    "if len(physical_devices) > 0:\n",
    "    print('Using GPU(0):', physical_devices[0])\n",
    "    tf.config.experimental.set_memory_growth(physical_devices[0], enable=True)\n",
    "else:\n",
    "    print('Using CPU')\n",
    "\n",
    "import numpy as np\n",
    "from numpy.random import shuffle\n",
    "import time\n",
    "import matplotlib.pyplot as plt\n",
    "\n",
    "# Plot configurations\n",
    "%matplotlib inline\n",
    "\n",
    "# Notebook auto reloads code. (Ref: http://stackoverflow.com/questions/1907993/autoreload-of-modules-in-ipython)\n",
    "%load_ext autoreload\n",
    "%autoreload 2\n",
    "print(tf.__version__)"
   ]
  },
  {
   "cell_type": "markdown",
   "metadata": {},
   "source": [
    "##  Part 1: Backpropagation through time (10%)"
   ]
  },
  {
   "cell_type": "markdown",
   "metadata": {},
   "source": [
    "**Question:** Consider some input data $x_1, x_2$ and groud truth $p_1, p_2$ (the indices denote different time steps), a simple RNN network is shown in the following figure. \n",
    "\n",
    "![bptt](./img/bptt2.jpg)\n",
    "\n",
    "Here, $w_x, w_h, b_1, w, b_2 \\in R$ are scalar parameters. Loss function is **mean squared error (MSE)**. "
   ]
  },
  {
   "cell_type": "markdown",
   "metadata": {},
   "source": [
    "<font color=\"red\"><strong>TODO:</strong></font>\n",
    "\n",
    "Assume the input $(x_1, x_2) = (1, -1)$, ground truth $(p_1, p_2) = (0, 1)$, $h_0 = 0$, and $(w_x, w_h, b_1, w, b_2) = (1, -2, 3, 2, 1)$, derive both the forward and backward pass (keep $4$ digits after the decimal). "
   ]
  },
  {
   "cell_type": "markdown",
   "metadata": {},
   "source": [
    "<font color=\"red\"><strong>Hint:</strong></font> The sigmoid function and its derivative\n",
    "\n",
    "$$\n",
    "\\sigma (x) = \\frac{1}{1 + e^{-x}}, \\quad\n",
    "\\nabla_x \\sigma (x) = \\frac{e^{-x}}{1 + e^{-x}} = \\sigma (x) (1 - \\sigma (x))\n",
    "$$\n",
    "\n",
    "- Derive the equations and intermediate variables first before plugging in values, don't just fill in the answers\n",
    "- Use latex style equations\n",
    "- You derivations don't need to be wrapped with special color :)"
   ]
  },
  {
   "cell_type": "markdown",
   "metadata": {},
   "source": [
    "<font color=\"red\"><strong>Asnwer:</strong></font>\n",
    "\n",
    "$$L = MSE = \\frac{1}{2}[(y_1-p_1)^2+(y_2-p_2)^2]$$\n",
    "\n",
    "$$h_1=\\sigma(w_x*x_1+w_h*h_0+b_1)=\\sigma(1*1+0+3)=\\sigma(4)=0.9820$$\n",
    "$$h_2=\\sigma(w_x*x_2+w_h*h_1+b_1)=\\sigma(-1-2*0.9820+3)=\\sigma(0.036)=0.5090$$\n",
    "\n",
    "$$y_1=\\sigma(w*h_1+b_2)=\\sigma(2*0.9820+1)=\\sigma(2.964)=0.9509$$\n",
    "$$y_2=\\sigma(w*h_2+b_2)=\\sigma(2*0.5090+1)=\\sigma(2.018)=0.8827$$\n",
    "\n",
    "- The gradients\n",
    "\n",
    "$$\n",
    "\\begin{cases}\n",
    "\\nabla_{w_x} L = \\frac{\\partial L}{\\partial y_1}\\frac{\\partial y_1}{\\partial h_1}\\frac{\\partial h_1}{\\partial w_x}+\\frac{\\partial L}{\\partial y_2}\\frac{\\partial y_2}{\\partial h_2}\\frac{\\partial h_2}{\\partial w_x}+\\frac{\\partial L}{\\partial y_2}\\frac{\\partial y_2}{\\partial h_2}\\frac{\\partial h_2}{\\partial h_1}\\frac{\\partial h_1}{\\partial w_x}=(y_1-p_1)*w*y_1*(1-y_1)*h_1(1-h_1)*x_1+(y_2-p_2)*w*y_2*(1-y_2)*h_2(1-h_2)*x_2+(y_2-p_2)*w_h*y_2*(1-y_2)*h_2(1-h_2)*h_1(1-h_1)*x_1=0.0079\\\\\n",
    "\\nabla_{w_h} L = \\frac{\\partial L}{\\partial y_1}\\frac{\\partial y_1}{\\partial h_1}\\frac{\\partial h_1}{\\partial w_h}+\\frac{\\partial L}{\\partial y_2}\\frac{\\partial y_2}{\\partial h_2}\\frac{\\partial h_2}{\\partial w_h}+\\frac{\\partial L}{\\partial y_2}\\frac{\\partial y_2}{\\partial h_2}\\frac{\\partial h_2}{\\partial h_1}\\frac{\\partial h_1}{\\partial w_h}=\\frac{\\partial L}{\\partial y_2}\\frac{\\partial y_2}{\\partial h_2}\\frac{\\partial h_2}{\\partial w_x}=(y_2-p_2)*w*y_2*(1-y_2)*h_1*h_2*(1-h_2)=-0.0060\\\\\n",
    "\\nabla_{b_1} L = \\frac{\\partial L}{\\partial y_1}\\frac{\\partial y_1}{\\partial h_1}\\frac{\\partial h_1}{\\partial b_1}+\\frac{\\partial L}{\\partial y_2}\\frac{\\partial y_2}{\\partial h_2}\\frac{\\partial h_2}{\\partial b_1}+\\frac{\\partial L}{\\partial y_2}\\frac{\\partial y_2}{\\partial h_2}\\frac{\\partial h_2}{\\partial h_1}\\frac{\\partial h_1}{\\partial b_1}=\\frac{\\partial L}{\\partial y_1}\\frac{\\partial y_1}{\\partial h_1}+\\frac{\\partial L}{\\partial y_2}\\frac{\\partial y_2}{\\partial h_2}+\\frac{\\partial L}{\\partial y_2}\\frac{\\partial y_2}{\\partial h_2}\\frac{\\partial h_2}{\\partial h_1}=(y_1-p_1)*y_1*w*(1-y_1)*h_1(1-h_1)+(y_2-p_2)*y_2*w*(1-y_2)*h_2(1-h_2)+(y_2-p_2)*y_2*w_h*(1-y_2)*h_2(1-h_2)*h_1(1-h_1)=-0.0043\\\\\n",
    "\\nabla_{w} L = \\frac{\\partial L}{\\partial y_1}\\frac{\\partial y_1}{\\partial w}+\\frac{\\partial L}{\\partial y_2}\\frac{\\partial y_2}{\\partial w}=h_1*(y_1-p_1)*y_1*(1-y_1)+h_2*(y_2-p_2)*y_2*(1-y_2)=0.0374\\\\\n",
    "\\nabla_{b_2} L = \\frac{\\partial L}{\\partial y_1}\\frac{\\partial y_1}{\\partial b_2}+\\frac{\\partial L}{\\partial y_2}\\frac{\\partial y_2}{\\partial b_2}=\\frac{\\partial L}{\\partial y_1}+\\frac{\\partial L}{\\partial y_2}=(y_1-p_1)*y_1*(1-y_1)+(y_2-p_2)*y_2*(1-y_2)=0.0322\n",
    "\\end{cases}\n",
    "$$"
   ]
  },
  {
   "cell_type": "code",
   "execution_count": 2,
   "metadata": {},
   "outputs": [
    {
     "name": "stdout",
     "output_type": "stream",
     "text": [
      "Verified by tensorflow (TODO compare values with your hand-written calculations):\n",
      "dwx = 0.0079, dwh = -0.0060, db1 = -0.0043, dw = 0.0374, db2 = 0.0322\n"
     ]
    }
   ],
   "source": [
    "# use tensorflow to verify the answer.\n",
    "with tf.GradientTape() as G:\n",
    "    wx = tf.Variable(1.0, dtype=tf.float64)\n",
    "    wh = tf.Variable(-2.0, dtype=tf.float64)\n",
    "    b1 = tf.Variable(3.0, dtype=tf.float64)\n",
    "    w = tf.Variable(2.0, dtype=tf.float64)\n",
    "    b2 = tf.Variable(1.0, dtype=tf.float64)\n",
    "\n",
    "    h0 = tf.Variable(0.0, dtype=tf.float64)\n",
    "    x = tf.Variable((1.0, -1.0), dtype=tf.float64)\n",
    "    p = tf.Variable((0.0, 1.0), dtype=tf.float64)\n",
    "\n",
    "    y = []\n",
    "    h1 = tf.sigmoid(wx*x[0] + wh*h0 + b1)\n",
    "    y.append(tf.sigmoid(w*h1 + b2))\n",
    "    h2 = tf.sigmoid(wx*x[1] + wh*h1 + b1)\n",
    "    y.append(tf.sigmoid(w*h2 + b2))\n",
    "\n",
    "    loss = 0.5*(tf.square(p[0]-y[0]) + tf.square(p[1]-y[1]))\n",
    "\n",
    "    dw_t, db2_t, dwx_t, dwh_t, db1_t = G.gradient(loss, [w, b2, wx, wh, b1])\n",
    "\n",
    "\n",
    "print(\"Verified by tensorflow (TODO compare values with your hand-written calculations):\")\n",
    "print(\"dwx = {:.4f}, dwh = {:.4f}, db1 = {:.4f}, dw = {:.4f}, db2 = {:.4f}\".format(dwx_t, dwh_t, db1_t, dw_t, db2_t))"
   ]
  },
  {
   "cell_type": "markdown",
   "metadata": {},
   "source": [
    "## Part 2: Use TensorFlow modules to create XOR network (15%)\n",
    "\n",
    "In this part, you need to build and train an XOR network that can learn the XOR function. It is a very simple implementation of RNN and will give you an idea how RNN is built and how to train it."
   ]
  },
  {
   "cell_type": "markdown",
   "metadata": {},
   "source": [
    "### XOR network\n",
    "\n",
    "![xnor_net](./img/xnor.png)\n",
    "\n",
    "XOR network can learn the XOR ($\\oplus$) function. If input \n",
    "\n",
    "$$\n",
    "(x_0, ..., x_7) = (0, 0, 1, 1, 1, 1, 1, 0)\n",
    "$$\n",
    "\n",
    "Then output should be\n",
    "\n",
    "$$\n",
    "(y_0, ..., y_7) = (0, 0, 1, 0, 1, 0, 1, 1)\n",
    "$$\n",
    "\n",
    "That is, \n",
    "\n",
    "$$\n",
    "y_n = x_0 \\oplus x_1 \\oplus ... \\oplus x_{n-1} \\oplus x_{n}\n",
    "$$\n",
    "\n",
    "It is also interesting to realize that the equation effectively equivalates to \n",
    "\n",
    "$$\n",
    "y_i = \\sum_{j = 0}^i x_j \\mod 2\n",
    "$$"
   ]
  },
  {
   "cell_type": "markdown",
   "metadata": {},
   "source": [
    "### Create a data set\n",
    "This function provides a way to generate the data which is needed for the training process. You should utilize it when building your training function for the GRU. Read the source code for more information."
   ]
  },
  {
   "cell_type": "code",
   "execution_count": 3,
   "metadata": {},
   "outputs": [],
   "source": [
    "from utils.dataset import create_xor_dataset"
   ]
  },
  {
   "cell_type": "code",
   "execution_count": 4,
   "metadata": {},
   "outputs": [
    {
     "data": {
      "text/plain": [
       "(array([[[1],\n",
       "         [0],\n",
       "         [0],\n",
       "         [1],\n",
       "         [0],\n",
       "         [1],\n",
       "         [1],\n",
       "         [0]]]),\n",
       " array([[1, 1, 1, 0, 0, 1, 0, 0]]))"
      ]
     },
     "execution_count": 4,
     "metadata": {},
     "output_type": "execute_result"
    }
   ],
   "source": [
    "create_xor_dataset(1)"
   ]
  },
  {
   "cell_type": "markdown",
   "metadata": {},
   "source": [
    "### Build a network using a TensorFlow LSTMCell and GRUCell\n",
    "\n",
    "In this section, you are asked to build a XOR net using a TensorFlow LSTMCell and a GRUCell. In TensorFlow 2, these two cells are supported by Keras. Please check online documents below.\n",
    "\n",
    "Use TensorFlow to build and train your XOR net. The dataset is already provided. You will do the following:\n",
    "- Learn how to use `tf.keras.layers.LSTM` and `tf.keras.layers.GRU` in TensorFlow(Keras). \n",
    "- Choose appropriate parameters to build a model (Sequential Model in Keras is suggested). \n",
    "- Compile your model with appropriate loss function, optimizer, metrics, etc.\n",
    "- Train your model and see the loss history.\n",
    "\n",
    "Tips: \n",
    "1. Make sure that the shape of your data is corrrect after every step.\n",
    "2. Choose your loss function according to your network design.\n",
    "3. Choose 'accuracy' as your metrics when compiling your model.\n",
    "4. Make sure that names of history for the network with LSTMCell and GRUCell (which you used while training) are the same as the ones in the plotting functions.\n",
    "4. Feel free to ask TAs if you get stuck somewhere.\n",
    "\n",
    "Reference: \n",
    "1. [TensorFlow(Keras): Working with RNNs](https://keras.io/guides/working_with_rnns/)\n",
    "2. [TensorFlow: Recurrent Neural Networks (RNN) with Keras](https://www.tensorflow.org/guide/keras/rnn)\n",
    "3. [TensorFlow LSTM Cell](https://www.tensorflow.org/api_docs/python/tf/keras/layers/LSTM)\n",
    "4. [TensorFlow GRU Cell](https://www.tensorflow.org/api_docs/python/tf/keras/layers/GRU)\n",
    "5. [TensorFlow: Sequential Model](https://www.tensorflow.org/guide/keras/sequential_model)\n"
   ]
  },
  {
   "cell_type": "markdown",
   "metadata": {},
   "source": [
    "### Build a network with LSTM"
   ]
  },
  {
   "cell_type": "code",
   "execution_count": 5,
   "metadata": {
    "pycharm": {
     "is_executing": true
    }
   },
   "outputs": [
    {
     "name": "stdout",
     "output_type": "stream",
     "text": [
      "Input data: (1000, 8, 1) int64\n",
      "Labels: (1000, 8) int64\n"
     ]
    }
   ],
   "source": [
    "in_data, out_data = create_xor_dataset(1000) # create a dataset with a batch size of 1000\n",
    "print('Input data:', in_data.shape, in_data.dtype)\n",
    "print('Labels:', out_data.shape, out_data.dtype)"
   ]
  },
  {
   "cell_type": "markdown",
   "metadata": {},
   "source": [
    "#### Interpreting RNN Inputs\n",
    "\n",
    "Typically, the input data of an RNN has form of\n",
    "\n",
    "$$\n",
    "X \\in R^{T \\times N \\times D}\n",
    "$$\n",
    "\n",
    "where $T$ is ***the number of time steps***, $N$ is the batch size and $D$ is the dimension of each input. \n",
    "\n",
    "At each time step $t$, we feed \n",
    "\n",
    "$$\n",
    "X_t \\in R^{N \\times D}\n",
    "$$\n",
    "\n",
    "into the RNN to generate an output (i.e. the hidden state) $h_t \\in R^{N \\times K}$. \n",
    "\n",
    "Some tasks only take interest in the final output $h_T$, while others need the output from all of the time steps as \n",
    "\n",
    "$$\n",
    "H = [h_1, \\dots, h_T] \\in R^{T \\times N \\times K}\n",
    "$$"
   ]
  },
  {
   "cell_type": "markdown",
   "metadata": {},
   "source": [
    "<font color=\"red\"><strong>NOTE:</strong></font>\n",
    "\n",
    "In real-life RNN models, the orders of $T$ and $N$ are actually exchangable by specifying certain model parameters, which is `time_major` in Tensorflow and `batch_first` in Pytorch. \n",
    "\n",
    "Use whatever you like in your implementations, but make sure to have a consistent input shape. "
   ]
  },
  {
   "cell_type": "markdown",
   "metadata": {},
   "source": [
    "<span style=\"color:red\">__TODO:__</span> Answer the question: \n",
    "\n",
    "We talked about two usages of RNN model: \n",
    "\n",
    "- Return only $h_T$\n",
    "- Return all $H = [h_1, \\dots, h_T]$\n",
    "\n",
    "In the context of our XOR function, which one should we use? "
   ]
  },
  {
   "cell_type": "markdown",
   "metadata": {},
   "source": [
    "We will return all $H = [h_1, \\dots, h_T]$ since $y_n = x_0 \\oplus x_1 \\oplus ... \\oplus x_{n-1} \\oplus x_{n}$."
   ]
  },
  {
   "cell_type": "markdown",
   "metadata": {},
   "source": [
    "<font color=\"red\"><strong>HINT:</strong></font>\n",
    "\n",
    "Upon answering the question above, think about how this is done with Tensorflow. Please reference [`LSTM` documents](https://www.tensorflow.org/api_docs/python/tf/keras/layers/LSTM). "
   ]
  },
  {
   "cell_type": "markdown",
   "metadata": {},
   "source": [
    "#### Hint for creating a model with LSTM\n",
    "\n",
    "```\n",
    "model = tf.keras.Sequential() \n",
    "model.add([LAYER1])\n",
    "model.add([LAYER2])\n",
    "model.add([...])\n",
    "model.add([OUTPUT_LAYER])\n",
    "\n",
    "model.summary() \n",
    "model.compile(loss=[LOSS_FUNCTION], optimizer=[OPTIMIZER], metrics=['accuracy'])\n",
    "\n",
    "history_LSTM = model.fit(in_data, out_data, batch_size=64, epochs=15) \n",
    "```"
   ]
  },
  {
   "cell_type": "markdown",
   "metadata": {},
   "source": [
    "<span style=\"color:red\">__TODO:__</span> Build a LSTM Network"
   ]
  },
  {
   "cell_type": "code",
   "execution_count": 6,
   "metadata": {
    "pycharm": {
     "is_executing": true
    }
   },
   "outputs": [
    {
     "name": "stdout",
     "output_type": "stream",
     "text": [
      "Model: \"sequential\"\n",
      "_________________________________________________________________\n",
      "Layer (type)                 Output Shape              Param #   \n",
      "=================================================================\n",
      "embedding (Embedding)        (None, 8, 2)              8         \n",
      "_________________________________________________________________\n",
      "lstm (LSTM)                  (None, 8, 128)            67072     \n",
      "_________________________________________________________________\n",
      "dense (Dense)                (None, 8, 1)              129       \n",
      "=================================================================\n",
      "Total params: 67,209\n",
      "Trainable params: 67,209\n",
      "Non-trainable params: 0\n",
      "_________________________________________________________________\n",
      "Epoch 1/15\n",
      "27/27 [==============================] - 10s 26ms/step - loss: 0.6930 - accuracy: 0.5130 - val_loss: 0.6925 - val_accuracy: 0.5258\n",
      "Epoch 2/15\n",
      "27/27 [==============================] - 0s 5ms/step - loss: 0.6922 - accuracy: 0.5389 - val_loss: 0.6907 - val_accuracy: 0.5375\n",
      "Epoch 3/15\n",
      "27/27 [==============================] - 0s 5ms/step - loss: 0.6903 - accuracy: 0.5470 - val_loss: 0.6888 - val_accuracy: 0.5683\n",
      "Epoch 4/15\n",
      "27/27 [==============================] - 0s 5ms/step - loss: 0.6879 - accuracy: 0.5663 - val_loss: 0.6850 - val_accuracy: 0.5683\n",
      "Epoch 5/15\n",
      "27/27 [==============================] - 0s 5ms/step - loss: 0.6847 - accuracy: 0.5680 - val_loss: 0.6832 - val_accuracy: 0.5683\n",
      "Epoch 6/15\n",
      "27/27 [==============================] - 0s 5ms/step - loss: 0.6820 - accuracy: 0.5693 - val_loss: 0.6819 - val_accuracy: 0.5683\n",
      "Epoch 7/15\n",
      "27/27 [==============================] - 0s 5ms/step - loss: 0.6812 - accuracy: 0.5658 - val_loss: 0.6765 - val_accuracy: 0.5683\n",
      "Epoch 8/15\n",
      "27/27 [==============================] - 0s 5ms/step - loss: 0.6715 - accuracy: 0.5683 - val_loss: 0.6508 - val_accuracy: 0.5733\n",
      "Epoch 9/15\n",
      "27/27 [==============================] - 0s 5ms/step - loss: 0.6355 - accuracy: 0.5486 - val_loss: 0.6054 - val_accuracy: 0.5883\n",
      "Epoch 10/15\n",
      "27/27 [==============================] - 0s 5ms/step - loss: 0.5902 - accuracy: 0.5596 - val_loss: 0.5598 - val_accuracy: 0.6158\n",
      "Epoch 11/15\n",
      "27/27 [==============================] - 0s 5ms/step - loss: 0.5445 - accuracy: 0.6418 - val_loss: 0.5390 - val_accuracy: 0.5875\n",
      "Epoch 12/15\n",
      "27/27 [==============================] - 0s 5ms/step - loss: 0.5219 - accuracy: 0.6483 - val_loss: 0.5288 - val_accuracy: 0.6450\n",
      "Epoch 13/15\n",
      "27/27 [==============================] - 0s 5ms/step - loss: 0.5107 - accuracy: 0.6822 - val_loss: 0.4961 - val_accuracy: 0.7092\n",
      "Epoch 14/15\n",
      "27/27 [==============================] - 0s 5ms/step - loss: 0.4664 - accuracy: 0.7613 - val_loss: 0.3626 - val_accuracy: 0.8442\n",
      "Epoch 15/15\n",
      "27/27 [==============================] - 0s 5ms/step - loss: 0.2676 - accuracy: 0.9291 - val_loss: 0.0705 - val_accuracy: 0.9967\n"
     ]
    }
   ],
   "source": [
    "###################################################\n",
    "# TODO: build a network with LSTM and train it    #\n",
    "#                                                 #\n",
    "###################################################\n",
    "\n",
    "from tensorflow.keras import layers\n",
    "\n",
    "train_in = in_data[:850]\n",
    "train_out = out_data[:850]\n",
    "val_in = in_data[850:]\n",
    "val_out = out_data[850:]\n",
    "\n",
    "model = tf.keras.Sequential()\n",
    "model.add(layers.Embedding(input_dim=4, output_dim=2, input_length=8))\n",
    "model.add(layers.LSTM(128, return_sequences=True))\n",
    "model.add(layers.Dense(1, activation='sigmoid'))\n",
    "\n",
    "model.summary() \n",
    "model.compile(loss='binary_crossentropy', optimizer='Adam', metrics=['accuracy'])\n",
    "history_LSTM = model.fit(train_in, train_out, batch_size=32, epochs=15, validation_data=(val_in,val_out)) \n",
    "\n",
    "\n",
    "###################################################\n",
    "# END TODO                                        #\n",
    "###################################################"
   ]
  },
  {
   "cell_type": "markdown",
   "metadata": {},
   "source": [
    "### Build a network with GRU"
   ]
  },
  {
   "cell_type": "code",
   "execution_count": 7,
   "metadata": {
    "pycharm": {
     "is_executing": true
    }
   },
   "outputs": [
    {
     "name": "stdout",
     "output_type": "stream",
     "text": [
      "Input data: (1000, 8, 1) int64\n",
      "Labels: (1000, 8) int64\n"
     ]
    }
   ],
   "source": [
    "in_data, out_data = create_xor_dataset(1000) # create a dataset with a batch size of 1000\n",
    "print('Input data:', in_data.shape, in_data.dtype)\n",
    "print('Labels:', out_data.shape, out_data.dtype)"
   ]
  },
  {
   "cell_type": "markdown",
   "metadata": {},
   "source": [
    "<span style=\"color:red\">__TODO:__</span> Build a GRU Network"
   ]
  },
  {
   "cell_type": "code",
   "execution_count": 8,
   "metadata": {},
   "outputs": [
    {
     "name": "stdout",
     "output_type": "stream",
     "text": [
      "Model: \"sequential_1\"\n",
      "_________________________________________________________________\n",
      "Layer (type)                 Output Shape              Param #   \n",
      "=================================================================\n",
      "embedding_1 (Embedding)      (None, 8, 2)              4         \n",
      "_________________________________________________________________\n",
      "gru (GRU)                    (None, 8, 128)            50688     \n",
      "_________________________________________________________________\n",
      "dense_1 (Dense)              (None, 8, 1)              129       \n",
      "=================================================================\n",
      "Total params: 50,821\n",
      "Trainable params: 50,821\n",
      "Non-trainable params: 0\n",
      "_________________________________________________________________\n",
      "Epoch 1/15\n",
      "27/27 [==============================] - 2s 17ms/step - loss: 0.6931 - accuracy: 0.4946 - val_loss: 0.6921 - val_accuracy: 0.5692\n",
      "Epoch 2/15\n",
      "27/27 [==============================] - 0s 5ms/step - loss: 0.6916 - accuracy: 0.5327 - val_loss: 0.6894 - val_accuracy: 0.5683\n",
      "Epoch 3/15\n",
      "27/27 [==============================] - 0s 5ms/step - loss: 0.6886 - accuracy: 0.5695 - val_loss: 0.6853 - val_accuracy: 0.5683\n",
      "Epoch 4/15\n",
      "27/27 [==============================] - 0s 5ms/step - loss: 0.6860 - accuracy: 0.5614 - val_loss: 0.6837 - val_accuracy: 0.5683\n",
      "Epoch 5/15\n",
      "27/27 [==============================] - 0s 5ms/step - loss: 0.6856 - accuracy: 0.5600 - val_loss: 0.6827 - val_accuracy: 0.5683\n",
      "Epoch 6/15\n",
      "27/27 [==============================] - 0s 5ms/step - loss: 0.6838 - accuracy: 0.5630 - val_loss: 0.6799 - val_accuracy: 0.5683\n",
      "Epoch 7/15\n",
      "27/27 [==============================] - 0s 5ms/step - loss: 0.6771 - accuracy: 0.5701 - val_loss: 0.6667 - val_accuracy: 0.5742\n",
      "Epoch 8/15\n",
      "27/27 [==============================] - 0s 5ms/step - loss: 0.6566 - accuracy: 0.5806 - val_loss: 0.6189 - val_accuracy: 0.6150\n",
      "Epoch 9/15\n",
      "27/27 [==============================] - 0s 5ms/step - loss: 0.6054 - accuracy: 0.6130 - val_loss: 0.5535 - val_accuracy: 0.6333\n",
      "Epoch 10/15\n",
      "27/27 [==============================] - 0s 5ms/step - loss: 0.5424 - accuracy: 0.6462 - val_loss: 0.5220 - val_accuracy: 0.6900\n",
      "Epoch 11/15\n",
      "27/27 [==============================] - 0s 5ms/step - loss: 0.5079 - accuracy: 0.6945 - val_loss: 0.4968 - val_accuracy: 0.6850\n",
      "Epoch 12/15\n",
      "27/27 [==============================] - 0s 5ms/step - loss: 0.4729 - accuracy: 0.7331 - val_loss: 0.4120 - val_accuracy: 0.8475\n",
      "Epoch 13/15\n",
      "27/27 [==============================] - 0s 5ms/step - loss: 0.3842 - accuracy: 0.8369 - val_loss: 0.2572 - val_accuracy: 0.9408\n",
      "Epoch 14/15\n",
      "27/27 [==============================] - 0s 5ms/step - loss: 0.1898 - accuracy: 0.9554 - val_loss: 0.0668 - val_accuracy: 0.9892\n",
      "Epoch 15/15\n",
      "27/27 [==============================] - 0s 5ms/step - loss: 0.0495 - accuracy: 0.9942 - val_loss: 0.0230 - val_accuracy: 0.9975\n"
     ]
    }
   ],
   "source": [
    "###################################################\n",
    "# TODO: build a model with GRU and train it.      #\n",
    "#                                                 #\n",
    "###################################################\n",
    "\n",
    "model = tf.keras.Sequential()\n",
    "model.add(layers.Embedding(input_dim=2, output_dim=2, input_length=8))\n",
    "model.add(layers.GRU(128, return_sequences=True))\n",
    "model.add(layers.Dense(1, activation='sigmoid'))\n",
    "\n",
    "model.summary() \n",
    "model.compile(loss='binary_crossentropy', optimizer='Adam', metrics=['accuracy'])\n",
    "\n",
    "history_GRU = model.fit(train_in, train_out, batch_size=32, epochs=15, validation_data=(val_in,val_out)) \n",
    "\n",
    "###################################################\n",
    "# END TODO                                        #\n",
    "###################################################"
   ]
  },
  {
   "cell_type": "markdown",
   "metadata": {},
   "source": [
    "### Visualize loss and accuracy"
   ]
  },
  {
   "cell_type": "code",
   "execution_count": 9,
   "metadata": {},
   "outputs": [
    {
     "data": {
      "image/png": "[encoded data removed]",
      "text/plain": [
       "<Figure size 432x288 with 1 Axes>"
      ]
     },
     "metadata": {
      "needs_background": "light"
     },
     "output_type": "display_data"
    }
   ],
   "source": [
    "plt.plot(history_LSTM.history['loss'], label='LSTM')\n",
    "plt.plot(history_GRU.history['loss'], label='GRU')\n",
    "plt.title('LSTM/GRU loss')\n",
    "plt.ylabel('loss')\n",
    "plt.xlabel('No. epoch')\n",
    "plt.legend(loc=\"upper left\")\n",
    "plt.show()"
   ]
  },
  {
   "cell_type": "code",
   "execution_count": 10,
   "metadata": {},
   "outputs": [
    {
     "data": {
      "image/png": "[encoded data removed]",
      "text/plain": [
       "<Figure size 432x288 with 1 Axes>"
      ]
     },
     "metadata": {
      "needs_background": "light"
     },
     "output_type": "display_data"
    }
   ],
   "source": [
    "plt.plot(history_LSTM.history['accuracy'], label='LSTM')\n",
    "plt.plot(history_GRU.history['accuracy'], label='GRU')\n",
    "plt.title('LSTM/GRU accuracy')\n",
    "plt.ylabel('accuracy')\n",
    "plt.xlabel('No. epoch')\n",
    "plt.legend(loc=\"upper left\")\n",
    "plt.show()"
   ]
  },
  {
   "cell_type": "markdown",
   "metadata": {},
   "source": [
    "<span style=\"color:red\">__TODO:__</span> Answer the question:\n",
    "\n",
    "Which part of this task have you been struggling with most of the  time? Describe how you resolved it.s"
   ]
  },
  {
   "cell_type": "markdown",
   "metadata": {},
   "source": [
    "The gradients calculation part from part 1 I have been struggling with most of the time. To slove this issue, I did look up on the internet and check the result several times."
   ]
  },
  {
   "cell_type": "markdown",
   "metadata": {},
   "source": [
    "<span style=\"color:red\">__TODO:__</span> Answer the question:\n",
    "\n",
    "Which loss function did you use? Why?"
   ]
  },
  {
   "cell_type": "markdown",
   "metadata": {},
   "source": [
    " I used binary_crossentropy as the loss function since it is a binary classification problem."
   ]
  },
  {
   "cell_type": "markdown",
   "metadata": {},
   "source": [
    "## Part 3 :  Build your own LSTMCell (25%)\n",
    "\n",
    "In this part, you need to build your own LSTM Cell to achieve the LSTM functionality (including different types of gates that constitute the cell).\n",
    "\n",
    "It is recommanded to see the course slides and [`LSTM` source code](https://github.com/keras-team/keras/blob/v2.10.0/keras/layers/rnn/lstm.py). [This link](https://colah.github.io/posts/2015-08-Understanding-LSTMs) also provides a good intuition. \n",
    "\n",
    "![](./img/lstm_cell.png)\n",
    "\n",
    "**Note that this is a simplified figure and not all operations are illustrated.** Please refer to the lectures and follow the equations. "
   ]
  },
  {
   "cell_type": "markdown",
   "metadata": {},
   "source": [
    "Assume some **old** carry state $c_{t-1}$ and hidden state $h_{t-1}$, we try to compute the **new states** given some input $X_t$ using the ideas of LSTM. \n",
    "\n",
    "Remember that for an LSTM cell, we actually have (yellow boxes from left to right) a **forget gate**, an **input gate**, a **cell** and an **output gate**, whose output can be denoted by $f_{t-1}$, $i_{t-1}$, $\\tilde{c}_{t-1}$ and $o_{t-1}$. Each yellow box in the graph denotes a linear projection followed by a particular activation (`sigmoid` or `tanh`). \n",
    "\n",
    "Then for some input $X_t \\in R^{N \\times D}$ and a target output dimension $K$ (also called \"units\"), let's first combine the inputs with the old hidden state $h_{t-1} \\in R^{N \\times K}$ by projecting them into the same dimension \n",
    "\n",
    "$$\n",
    "Z_t = X_t + h_{t-1} W_h\n",
    "$$\n",
    "\n",
    "where $W_h \\in R^{K \\times D}$. Then all new states can be computed one by one as \n",
    "\n",
    "$$\n",
    "\\begin{cases}\n",
    "f_t = \\sigma (Z_t W_f) \\\\\n",
    "i_t = \\sigma (Z_t W_i) \\\\\n",
    "\\tilde{c}_t = \\tanh (Z_t W_c) \\\\\n",
    "o_t = \\sigma (Z_t W_o)\n",
    "\\end{cases}\n",
    "$$\n",
    "\n",
    "where the weights (also called kernels)\n",
    "\n",
    "$$\n",
    "W_f, W_i, W_c, W_o \\in R^{D \\times K}\n",
    "$$\n",
    "\n",
    "Then the **new** carry state is given by the **old carry state** passing through the forget gate and combining with the input\n",
    "\n",
    "$$\n",
    "c_t = f_t \\odot c_{t-1} + i_t \\odot \\tilde{c}_t\n",
    "$$\n",
    "\n",
    "And the hidden state is given by the **new carry state** passing through the output gate\n",
    "\n",
    "$$\n",
    "h_t = o_t \\odot \\tanh (c_t)\n",
    "$$"
   ]
  },
  {
   "cell_type": "markdown",
   "metadata": {},
   "source": [
    "Note that when computing each state, we are actually computing the four linear projections on $Z_t$, which is **four** projections on $X_t$ and **eight** (becuase of the $W_h$) projections on $h_{t-1}$. This doesn't look smart enough, so let's rewrite the equations. \n",
    "\n",
    "First define a kernel $W \\in R^{D \\times 4 K}$, which can be thought of as\n",
    "\n",
    "$$\n",
    "W \\gets [W_f, W_i, W_c, W_o]\n",
    "$$\n",
    "\n",
    "Similarly define a recurrent kernel $W_r \\in R^{K \\times 4 K}$, which is equivalent to \n",
    "\n",
    "$$\n",
    "W_r \\gets W_h W = [W_h W_f, W_h W_i, W_h W_c, W_h W_o]\n",
    "$$\n",
    "\n",
    "\n",
    "We can, of course, also add a bias $b \\in R^{4 K}$, and now all the projections simplifies to \n",
    "\n",
    "$$\n",
    "Z_t = X_t W + h_{t-1} W_r + \\mathbb{1} b^T \\in R^{N \\times 4 K}\n",
    "$$\n",
    "\n",
    "We do exactly **one** projection on $X_t$ and **one** on $h_{t-1}$. Then we partition $Z_t$ into \n",
    "\n",
    "$$\n",
    "[z_t^f, z_t^i, z_t^c, z_t^o] \\gets Z_t, \\quad\n",
    "z_t^* \\in R^{N \\times K}\n",
    "$$\n",
    "\n",
    "Easily, \n",
    "\n",
    "$$\n",
    "\\begin{cases}\n",
    "f_t = \\sigma (z_t^f) \\\\\n",
    "i_t = \\sigma (z_t^i) \\\\\n",
    "\\tilde{c}_t = \\tanh (z_t^c) \\\\\n",
    "o_t = \\sigma (z_t^o)\n",
    "\\end{cases}\n",
    "$$\n",
    "\n",
    "And the rest stays the same. "
   ]
  },
  {
   "cell_type": "markdown",
   "metadata": {},
   "source": [
    "<span style=\"color:red\">__TODO:__</span> \n",
    "\n",
    "1. Complete the model `LSTMCell` in **utils/LSTM.py**\n",
    "2. Verify the function with Tensorflow by running the provided code"
   ]
  },
  {
   "cell_type": "markdown",
   "metadata": {},
   "source": [
    "<span style=\"color:red\">__NOTE:__</span> \n",
    "\n",
    "You should use the \"simplified\" (second) set of equations as tensorflow does. "
   ]
  },
  {
   "cell_type": "code",
   "execution_count": 11,
   "metadata": {
    "scrolled": false
   },
   "outputs": [
    {
     "name": "stdout",
     "output_type": "stream",
     "text": [
      "Simple verification:\n",
      "Is h correct? True\n",
      "Is c correct? True\n"
     ]
    }
   ],
   "source": [
    "# Veirification Code\n",
    "# Please don't change anything\n",
    "\n",
    "from utils.LSTM import LSTMCell\n",
    "\n",
    "batch_size = 4\n",
    "input_dim = 8\n",
    "units = 64\n",
    "\n",
    "inputs = tf.random.normal((batch_size, input_dim))\n",
    "states = [tf.random.normal((batch_size, units)), tf.zeros((batch_size, units))]\n",
    "\n",
    "# By default, the weights will be initialized randomly (as is specified in the code). \n",
    "# Here we try to enforce deterministic (non-random) initializers \n",
    "# so that the two results can be correctly compared. \n",
    "# NOTE: You should NOT do this and leave them to default during actual training\n",
    "\n",
    "lstm_cell = LSTMCell(\n",
    "    units, \n",
    "    kernel_initializer=tf.keras.initializers.Ones, \n",
    "    recurrent_initializer=tf.keras.initializers.Ones, \n",
    "    bias_initializer=tf.keras.initializers.Zeros\n",
    ")\n",
    "h, (_, c) = lstm_cell(inputs, states)\n",
    "\n",
    "lstm_cell_tf = tf.keras.layers.LSTMCell(\n",
    "    units, \n",
    "    kernel_initializer='ones', \n",
    "    recurrent_initializer='ones', \n",
    "    bias_initializer='zeros'\n",
    ")\n",
    "h_tf, (_, c_tf) = lstm_cell_tf(inputs, states)\n",
    "print('Simple verification:')\n",
    "print('Is h correct?', np.allclose(h.numpy(), h_tf.numpy()))\n",
    "print('Is c correct?', np.allclose(c.numpy(), c_tf.numpy()))"
   ]
  },
  {
   "cell_type": "code",
   "execution_count": 12,
   "metadata": {},
   "outputs": [],
   "source": [
    "in_data, out_data = create_xor_dataset(1024)# create a dataset with a batch size of 1000"
   ]
  },
  {
   "cell_type": "markdown",
   "metadata": {},
   "source": [
    "#### Hint on building a model with your own LSTMCell\n",
    "\n",
    "When creating an RNN with your own custom cell, you can just plug in your `LSTMCell` as a building block into a basic `RNN` layer, specify other parameters (e.g. input_shape) as needed, and add it into your model as you did with other layers before. \n",
    "\n",
    "```\n",
    "self.rnn = tf.keras.layers.RNN([YOUR_CELL], **OTHER_ARGS)\n",
    "```\n",
    "\n",
    "For details, please refer to https://www.tensorflow.org/guide/keras/rnn. "
   ]
  },
  {
   "cell_type": "markdown",
   "metadata": {},
   "source": [
    "<span style=\"color:red\">__TODO:__</span> Complete the model `LSTMModel` in **utils/LSTM.py**"
   ]
  },
  {
   "cell_type": "markdown",
   "metadata": {},
   "source": [
    "<span style=\"color:red\">__NOTE:__</span> \n",
    "\n",
    "We are trying to use a custom layer (our `LSTMCell`) with multiple `call` arguments (\"inputs\" and \"states\"). The pre-building of these types of models is currently NOT allowed in tensorflow. \n",
    "\n",
    "So be sure NOT to call `model.summary()`. Compile and fit it directly and the building will be automatically done in runtime. "
   ]
  },
  {
   "cell_type": "markdown",
   "metadata": {},
   "source": [
    "<span style=\"color:red\">__TODO:__</span> Train your `LSTMModel`"
   ]
  },
  {
   "cell_type": "code",
   "execution_count": 13,
   "metadata": {},
   "outputs": [
    {
     "name": "stdout",
     "output_type": "stream",
     "text": [
      "Epoch 1/20\n",
      "27/27 [==============================] - 2s 30ms/step - loss: 0.6936 - accuracy: 0.4582 - val_loss: 0.6917 - val_accuracy: 0.5223\n",
      "Epoch 2/20\n",
      "27/27 [==============================] - 1s 21ms/step - loss: 0.6912 - accuracy: 0.5326 - val_loss: 0.6890 - val_accuracy: 0.5805\n",
      "Epoch 3/20\n",
      "27/27 [==============================] - 1s 21ms/step - loss: 0.6895 - accuracy: 0.5586 - val_loss: 0.6865 - val_accuracy: 0.5776\n",
      "Epoch 4/20\n",
      "27/27 [==============================] - 1s 26ms/step - loss: 0.6873 - accuracy: 0.5503 - val_loss: 0.6831 - val_accuracy: 0.5819\n",
      "Epoch 5/20\n",
      "27/27 [==============================] - 1s 21ms/step - loss: 0.6842 - accuracy: 0.5528 - val_loss: 0.6791 - val_accuracy: 0.5797\n",
      "Epoch 6/20\n",
      "27/27 [==============================] - 1s 22ms/step - loss: 0.6797 - accuracy: 0.5628 - val_loss: 0.6730 - val_accuracy: 0.5754\n",
      "Epoch 7/20\n",
      "27/27 [==============================] - 1s 21ms/step - loss: 0.6720 - accuracy: 0.5684 - val_loss: 0.6631 - val_accuracy: 0.5783\n",
      "Epoch 8/20\n",
      "27/27 [==============================] - 1s 22ms/step - loss: 0.6619 - accuracy: 0.5710 - val_loss: 0.6461 - val_accuracy: 0.5948\n",
      "Epoch 9/20\n",
      "27/27 [==============================] - 1s 21ms/step - loss: 0.6422 - accuracy: 0.5866 - val_loss: 0.6161 - val_accuracy: 0.5841\n",
      "Epoch 10/20\n",
      "27/27 [==============================] - 1s 22ms/step - loss: 0.6096 - accuracy: 0.5739 - val_loss: 0.5840 - val_accuracy: 0.6193\n",
      "Epoch 11/20\n",
      "27/27 [==============================] - 1s 22ms/step - loss: 0.5804 - accuracy: 0.6012 - val_loss: 0.5612 - val_accuracy: 0.5912\n",
      "Epoch 12/20\n",
      "27/27 [==============================] - 1s 22ms/step - loss: 0.5579 - accuracy: 0.6101 - val_loss: 0.5453 - val_accuracy: 0.6236\n",
      "Epoch 13/20\n",
      "27/27 [==============================] - 1s 21ms/step - loss: 0.5503 - accuracy: 0.6452 - val_loss: 0.5310 - val_accuracy: 0.6703\n",
      "Epoch 14/20\n",
      "27/27 [==============================] - 1s 21ms/step - loss: 0.5290 - accuracy: 0.6807 - val_loss: 0.5157 - val_accuracy: 0.6940\n",
      "Epoch 15/20\n",
      "27/27 [==============================] - 1s 22ms/step - loss: 0.5218 - accuracy: 0.6997 - val_loss: 0.4954 - val_accuracy: 0.7234\n",
      "Epoch 16/20\n",
      "27/27 [==============================] - 1s 21ms/step - loss: 0.4950 - accuracy: 0.7168 - val_loss: 0.4641 - val_accuracy: 0.7464\n",
      "Epoch 17/20\n",
      "27/27 [==============================] - 1s 21ms/step - loss: 0.4667 - accuracy: 0.7469 - val_loss: 0.3796 - val_accuracy: 0.7960\n",
      "Epoch 18/20\n",
      "27/27 [==============================] - 1s 21ms/step - loss: 0.3754 - accuracy: 0.8281 - val_loss: 0.2373 - val_accuracy: 0.9418\n",
      "Epoch 19/20\n",
      "27/27 [==============================] - 1s 22ms/step - loss: 0.2152 - accuracy: 0.9642 - val_loss: 0.1017 - val_accuracy: 0.9928\n",
      "Epoch 20/20\n",
      "27/27 [==============================] - 1s 21ms/step - loss: 0.0915 - accuracy: 0.9988 - val_loss: 0.0581 - val_accuracy: 1.0000\n"
     ]
    }
   ],
   "source": [
    "from utils.LSTM import LSTMModel\n",
    "\n",
    "###################################################\n",
    "# TODO: Instantiate your own model and train it.  #\n",
    "###################################################\n",
    "\n",
    "train_in = in_data[:850]\n",
    "train_out = out_data[:850]\n",
    "val_in = in_data[850:]\n",
    "val_out = out_data[850:]\n",
    "\n",
    "\n",
    "model = tf.keras.Sequential()\n",
    "model.add(LSTMModel(units=64, output_dim=8, activation='sigmoid', input_shape=(32,8,1)))\n",
    "model.compile(loss='binary_crossentropy', optimizer='Adam', metrics=['accuracy'])\n",
    "\n",
    "history = model.fit(train_in, train_out, batch_size=32, epochs=20, validation_data=(val_in,val_out)) \n",
    "\n",
    "\n",
    "###################################################\n",
    "# END TODO                                        #\n",
    "###################################################"
   ]
  },
  {
   "cell_type": "markdown",
   "metadata": {},
   "source": [
    "### Visualize loss and accuracy"
   ]
  },
  {
   "cell_type": "code",
   "execution_count": 14,
   "metadata": {},
   "outputs": [
    {
     "data": {
      "image/png": "[encoded data removed]",
      "text/plain": [
       "<Figure size 432x288 with 1 Axes>"
      ]
     },
     "metadata": {
      "needs_background": "light"
     },
     "output_type": "display_data"
    }
   ],
   "source": [
    "plt.plot(history.history['loss'], label='loss')\n",
    "plt.plot(history.history['accuracy'], label='accuracy')\n",
    "plt.title('Training history')\n",
    "plt.ylabel('value')\n",
    "plt.xlabel('No. epoch')\n",
    "plt.legend(loc=\"upper left\")\n",
    "plt.show()"
   ]
  },
  {
   "cell_type": "code",
   "execution_count": null,
   "metadata": {},
   "outputs": [],
   "source": []
  }
 ],
 "metadata": {
  "kernelspec": {
   "display_name": "Python 3",
   "language": "python",
   "name": "python3"
  },
  "language_info": {
   "codemirror_mode": {
    "name": "ipython",
    "version": 3
   },
   "file_extension": ".py",
   "mimetype": "text/x-python",
   "name": "python",
   "nbconvert_exporter": "python",
   "pygments_lexer": "ipython3",
   "version": "3.6.9"
  },
  "vscode": {
   "interpreter": {
    "hash": "36142657f443a869bd2c1b509e6f1df9b014ad48aa206cdd00d27f8f22cb37ba"
   }
  }
 },
 "nbformat": 4,
 "nbformat_minor": 4
}
