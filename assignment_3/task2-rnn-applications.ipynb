{
 "cells": [
  {
   "cell_type": "markdown",
   "metadata": {},
   "source": [
    "## Columbia University\n",
    "### ECBM E4040 Neural Networks and Deep Learning. Fall 2022."
   ]
  },
  {
   "cell_type": "markdown",
   "metadata": {
    "id": "JJCMCx6ISZZw"
   },
   "source": [
    "## **Task 2: RNN application -- Tweet Sentiment Analysis** (50%)"
   ]
  },
  {
   "cell_type": "markdown",
   "metadata": {
    "id": "u8wjQhNtSffW"
   },
   "source": [
    "In this task, you are going to classify the sentiment in tweets into positive and negative using an LSTM model. The code to load the data and see its characteristics has been provided to you. \n",
    "\n",
    "In the first task, you will encode the data using one hot encoding and train an LSTM network to classify the sentiment. In the second task, you will replace the one hot encoding with an embedding layer and train another LSTM model. You will then extract the trained embeddings and visualize the word embeddings in 2 dimensions by using TSNE for dimensionality reduction. "
   ]
  },
  {
   "cell_type": "code",
   "execution_count": 1,
   "metadata": {
    "id": "UZ_G4XdfP7GK",
    "scrolled": false
   },
   "outputs": [],
   "source": [
    "# Import modules\n",
    "from __future__ import print_function\n",
    "import tensorflow as tf\n",
    "import numpy as np\n",
    "import json\n",
    "import time\n",
    "import matplotlib.pyplot as plt\n",
    "import pickle\n",
    "\n",
    "%matplotlib inline\n",
    "\n",
    "%load_ext autoreload\n",
    "%autoreload 2"
   ]
  },
  {
   "cell_type": "markdown",
   "metadata": {
    "id": "6MjTYqMoN8fh"
   },
   "source": [
    "## Load Data\n"
   ]
  },
  {
   "cell_type": "code",
   "execution_count": 2,
   "metadata": {
    "colab": {
     "base_uri": "https://localhost:8080/"
    },
    "id": "F55EwI6RQl1A",
    "outputId": "1e087591-3dad-4471-97df-d9af9214dddb"
   },
   "outputs": [
    {
     "name": "stdout",
     "output_type": "stream",
     "text": [
      "size of original train set: 60000\n",
      "size of original test set: 20000\n",
      "****************************************************************************************************\n",
      "size of train set: 60000, #positive: 30055, #negative: 29945\n",
      "size of test set: 1000, #positive: 510, #negative: 490\n",
      "['it', 'will', 'help', 'relieve', 'your', 'stress', 'padtoken', 'padtoken', 'padtoken', 'padtoken', 'padtoken', 'padtoken', 'padtoken', 'padtoken', 'padtoken', 'padtoken', 'padtoken', 'padtoken', 'padtoken', 'padtoken']\n",
      "sentiment: positive\n"
     ]
    }
   ],
   "source": [
    "with open(\"./tweets_data/vocabulary.pkl\", \"rb\") as f:\n",
    "    vocabulary = pickle.load(f)\n",
    "\n",
    "# load our data and separate it into tweets and labels\n",
    "train_data = json.load(open('tweets_data/trainTweets_preprocessed.json', 'r'))\n",
    "train_data = list(map(lambda row:(np.array(row[0],dtype=np.int32),str(row[1])),train_data))\n",
    "train_tweets = np.array([t[0] for t in train_data])\n",
    "train_labels = np.array([int(t[1]) for t in train_data])\n",
    "\n",
    "test_data = json.load(open('tweets_data/testTweets_preprocessed.json', 'r'))\n",
    "test_data = list(map(lambda row:(np.array(row[0],dtype=np.int32),str(row[1])),test_data))\n",
    "test_tweets = np.array([t[0] for t in test_data])\n",
    "test_labels = np.array([int(t[1]) for t in test_data])\n",
    "\n",
    "print(\"size of original train set: {}\".format(len(train_tweets)))\n",
    "print(\"size of original test set: {}\".format(len(test_tweets)))\n",
    "\n",
    "# only select first 1000 test sample for test\n",
    "test_tweets = test_tweets[:1000]\n",
    "test_labels = test_labels[:1000]\n",
    "\n",
    "print(\"*\"*100)\n",
    "print(\"size of train set: {}, #positive: {}, #negative: {}\".format(len(train_tweets), np.sum(train_labels), len(train_tweets)-np.sum(train_labels)))\n",
    "print(\"size of test set: {}, #positive: {}, #negative: {}\".format(len(test_tweets), np.sum(test_labels), len(test_tweets)-np.sum(test_labels)))\n",
    "\n",
    "# show text of the idx-th train tweet\n",
    "# The 'padtoken' is used to ensure each tweet has the same length\n",
    "idx = 100\n",
    "train_text = [vocabulary[x] for x in train_tweets[idx]]\n",
    "print(train_text)\n",
    "sentiment_label = [\"negative\", \"positive\"]\n",
    "print(\"sentiment: {}\".format(sentiment_label[train_labels[idx]]))"
   ]
  },
  {
   "cell_type": "markdown",
   "metadata": {
    "id": "dmjy9sPDOCnY"
   },
   "source": [
    "## Part 1 LSTM Encoder (15%)\n",
    "\n",
    "<font color=\"red\"><strong>TODO:</strong></font> Create a single-layer LSTM network to classify tweets.\n",
    "- Use one hot encoding to represent each word in the tweet.\n",
    "- Set LSTM units to 128.\n",
    "- Use Adam optimizer and set batch size to 32.\n",
    "\n",
    "With these settings, what accuracy could you get? You can try to change some stuff in the network to see if you could get a better accuracy. \n",
    "\n",
    "<font color=\"red\"><strong>Hint:</strong></font> tf.one_hot and Keras functional API may be useful.\n",
    "<br>https://www.tensorflow.org/api_docs/python/tf/keras/layers/LSTM"
   ]
  },
  {
   "cell_type": "code",
   "execution_count": 3,
   "metadata": {
    "id": "-Mx6WgMBVI3T",
    "scrolled": false
   },
   "outputs": [
    {
     "name": "stdout",
     "output_type": "stream",
     "text": [
      "Epoch 1/10\n",
      "1875/1875 [==============================] - 241s 127ms/step - loss: 0.5340 - accuracy: 0.7337\n",
      "Epoch 2/10\n",
      "1875/1875 [==============================] - 239s 127ms/step - loss: 0.4673 - accuracy: 0.7805\n",
      "Epoch 3/10\n",
      "1875/1875 [==============================] - 236s 126ms/step - loss: 0.4296 - accuracy: 0.8020\n",
      "Epoch 4/10\n",
      "1875/1875 [==============================] - 235s 125ms/step - loss: 0.3839 - accuracy: 0.8271\n",
      "Epoch 5/10\n",
      "1875/1875 [==============================] - 237s 126ms/step - loss: 0.3377 - accuracy: 0.8498\n",
      "Epoch 6/10\n",
      "1875/1875 [==============================] - 235s 125ms/step - loss: 0.2942 - accuracy: 0.8710\n",
      "Epoch 7/10\n",
      "1875/1875 [==============================] - 235s 125ms/step - loss: 0.2549 - accuracy: 0.8877\n",
      "Epoch 8/10\n",
      "1875/1875 [==============================] - 237s 126ms/step - loss: 0.2205 - accuracy: 0.9046\n",
      "Epoch 9/10\n",
      "1875/1875 [==============================] - 237s 126ms/step - loss: 0.1939 - accuracy: 0.9164\n",
      "Epoch 10/10\n",
      "1875/1875 [==============================] - 236s 126ms/step - loss: 0.1688 - accuracy: 0.9277\n"
     ]
    }
   ],
   "source": [
    "###################################################\n",
    "# TODO: Create a single-layer LSTM network.       #\n",
    "#                                                 #\n",
    "###################################################\n",
    "from tensorflow.keras import layers\n",
    "from keras.layers import Dropout\n",
    "\n",
    "shape_unique = np.unique(train_tweets).shape\n",
    "depth = shape_unique[0]\n",
    "hot_1 = tf.one_hot(train_tweets, depth, dtype='float16') # (60000, 20, 6507)\n",
    "\n",
    "model = tf.keras.Sequential()\n",
    "model.add(layers.LSTM(128))\n",
    "model.add(Dropout(0.3))\n",
    "model.add(layers.Dense(1, activation='sigmoid'))\n",
    "model.compile(loss='binary_crossentropy', optimizer='adam', metrics=['accuracy'])\n",
    "history_LSTM = model.fit(hot_1, train_labels, batch_size=32, epochs=10) \n",
    "\n",
    "###################################################\n",
    "# END TODO                                        #\n",
    "###################################################"
   ]
  },
  {
   "cell_type": "markdown",
   "metadata": {
    "id": "IBiLRGc7RL-g"
   },
   "source": [
    "## Part 2: Embedding Lookup layer (20%)\n",
    "\n",
    "### Define an embedding layer\n",
    "\n",
    "It's not hard to imagine that in the previous practices, the input we fed in are very sparse because each word was represented as a one-hot vector. This makes it difficult for the network to understand what story the input data is telling. A useful technique is *Word Embedding*.\n",
    "\n",
    "*Word Embedding*: instead of using a one-hot vector to represent each word, we can add a word embedding matrix in which each word is represented as a low-dimensional vector. Note that this representation is not sparse any more, because we're working in a continuous vector space now. Words that share similar/related semantic meaning should be 'close to each other' in this vector space (we could define a distance measure to estimate the closeness).\n",
    "\n",
    "<font color=\"red\"><strong>TODO:</strong></font> Define a similar model as above with some improvements.\n",
    "- Use an Embedding layer instead of one hot embedding.\n",
    "- Write a custom training loop to train the model instead of using model.fit().\n",
    "- Write a custom loop gives you complete control over how the model is trained.\n",
    "- Report loss and accuracy for training and validation after each epoch.\n",
    "- Display the loss value after every 500 steps. \n",
    "\n",
    "Do you see any difference in accuracy? What about training time? What inference can you draw?\n",
    "\n",
    "**Hints**: Refer to the link below.\n",
    "<br>https://www.tensorflow.org/guide/keras/writing_a_training_loop_from_scratch\n"
   ]
  },
  {
   "cell_type": "code",
   "execution_count": 4,
   "metadata": {
    "scrolled": false
   },
   "outputs": [
    {
     "name": "stdout",
     "output_type": "stream",
     "text": [
      "\n",
      "Start of Epoch 1\n"
     ]
    },
    {
     "name": "stderr",
     "output_type": "stream",
     "text": [
      "C:\\Users\\highm\\AppData\\Roaming\\Python\\Python39\\site-packages\\keras\\backend.py:5673: UserWarning: \"`binary_crossentropy` received `from_logits=True`, but the `output` argument was produced by a Sigmoid activation and thus does not represent logits. Was this intended?\n",
      "  output, from_logits = _get_logits(\n"
     ]
    },
    {
     "name": "stdout",
     "output_type": "stream",
     "text": [
      "\n",
      "Training loss at step 0 is 0.6917340755462646.\n",
      "\n",
      "Training loss at step 500 is 0.5859501361846924.\n",
      "\n",
      "Training loss at step 1000 is 0.556178867816925.\n",
      "\n",
      "Training loss at step 1500 is 0.5401691198348999.\n",
      "\n",
      "Training acc over epoch is 0.7340333461761475.\n",
      "\n",
      "Training loss over epoch is 0.5321410894393921.\n",
      "\n",
      "Validation acc over epoch is 0.7570000290870667.\n",
      "\n",
      "Validation loss over epoch is 0.5038433074951172.\n",
      "\n",
      "Time taken:120.91229343414307 seconds.\n",
      "\n",
      "Start of Epoch 2\n",
      "\n",
      "Training loss at step 0 is 0.44365525245666504.\n",
      "\n",
      "Training loss at step 500 is 0.4681914746761322.\n",
      "\n",
      "Training loss at step 1000 is 0.4686826169490814.\n",
      "\n",
      "Training loss at step 1500 is 0.46658384799957275.\n",
      "\n",
      "Training acc over epoch is 0.7821166515350342.\n",
      "\n",
      "Training loss over epoch is 0.46570146083831787.\n",
      "\n",
      "Validation acc over epoch is 0.7559999823570251.\n",
      "\n",
      "Validation loss over epoch is 0.5052955746650696.\n",
      "\n",
      "Time taken:120.53020596504211 seconds.\n",
      "\n",
      "Start of Epoch 3\n",
      "\n",
      "Training loss at step 0 is 0.37661212682724.\n",
      "\n",
      "Training loss at step 500 is 0.44347822666168213.\n",
      "\n",
      "Training loss at step 1000 is 0.4449866712093353.\n",
      "\n",
      "Training loss at step 1500 is 0.44316089153289795.\n",
      "\n",
      "Training acc over epoch is 0.7961833477020264.\n",
      "\n",
      "Training loss over epoch is 0.4416206181049347.\n",
      "\n",
      "Validation acc over epoch is 0.7630000114440918.\n",
      "\n",
      "Validation loss over epoch is 0.517973005771637.\n",
      "\n",
      "Time taken:120.41249895095825 seconds.\n",
      "\n",
      "Start of Epoch 4\n",
      "\n",
      "Training loss at step 0 is 0.35638487339019775.\n",
      "\n",
      "Training loss at step 500 is 0.42311516404151917.\n",
      "\n",
      "Training loss at step 1000 is 0.42479658126831055.\n",
      "\n",
      "Training loss at step 1500 is 0.4225734770298004.\n",
      "\n",
      "Training acc over epoch is 0.8071500062942505.\n",
      "\n",
      "Training loss over epoch is 0.41956809163093567.\n",
      "\n",
      "Validation acc over epoch is 0.753000020980835.\n",
      "\n",
      "Validation loss over epoch is 0.556368887424469.\n",
      "\n",
      "Time taken:121.86873579025269 seconds.\n",
      "\n",
      "Start of Epoch 5\n",
      "\n",
      "Training loss at step 0 is 0.3521925210952759.\n",
      "\n",
      "Training loss at step 500 is 0.401054322719574.\n",
      "\n",
      "Training loss at step 1000 is 0.40219664573669434.\n",
      "\n",
      "Training loss at step 1500 is 0.39981746673583984.\n",
      "\n",
      "Training acc over epoch is 0.8180166482925415.\n",
      "\n",
      "Training loss over epoch is 0.3966900408267975.\n",
      "\n",
      "Validation acc over epoch is 0.7459999918937683.\n",
      "\n",
      "Validation loss over epoch is 0.6021967530250549.\n",
      "\n",
      "Time taken:120.4927749633789 seconds.\n",
      "\n",
      "Start of Epoch 6\n",
      "\n",
      "Training loss at step 0 is 0.29726916551589966.\n",
      "\n",
      "Training loss at step 500 is 0.3743513226509094.\n",
      "\n",
      "Training loss at step 1000 is 0.37755197286605835.\n",
      "\n",
      "Training loss at step 1500 is 0.37487635016441345.\n",
      "\n",
      "Training acc over epoch is 0.831166684627533.\n",
      "\n",
      "Training loss over epoch is 0.37035226821899414.\n",
      "\n",
      "Validation acc over epoch is 0.7360000014305115.\n",
      "\n",
      "Validation loss over epoch is 0.6684628129005432.\n",
      "\n",
      "Time taken:120.4157497882843 seconds.\n",
      "\n",
      "Start of Epoch 7\n",
      "\n",
      "Training loss at step 0 is 0.2327379733324051.\n",
      "\n",
      "Training loss at step 500 is 0.34749460220336914.\n",
      "\n",
      "Training loss at step 1000 is 0.3535705804824829.\n",
      "\n",
      "Training loss at step 1500 is 0.35038644075393677.\n",
      "\n",
      "Training acc over epoch is 0.8440333604812622.\n",
      "\n",
      "Training loss over epoch is 0.34667715430259705.\n",
      "\n",
      "Validation acc over epoch is 0.7059999704360962.\n",
      "\n",
      "Validation loss over epoch is 0.8154224753379822.\n",
      "\n",
      "Time taken:120.55247163772583 seconds.\n",
      "\n",
      "Start of Epoch 8\n",
      "\n",
      "Training loss at step 0 is 0.14268991351127625.\n",
      "\n",
      "Training loss at step 500 is 0.32882213592529297.\n",
      "\n",
      "Training loss at step 1000 is 0.3304089903831482.\n",
      "\n",
      "Training loss at step 1500 is 0.32772350311279297.\n",
      "\n",
      "Training acc over epoch is 0.8533333539962769.\n",
      "\n",
      "Training loss over epoch is 0.32435768842697144.\n",
      "\n",
      "Validation acc over epoch is 0.7020000219345093.\n",
      "\n",
      "Validation loss over epoch is 0.8994724750518799.\n",
      "\n",
      "Time taken:120.31301522254944 seconds.\n",
      "\n",
      "Start of Epoch 9\n",
      "\n",
      "Training loss at step 0 is 0.13090479373931885.\n",
      "\n",
      "Training loss at step 500 is 0.30806559324264526.\n",
      "\n",
      "Training loss at step 1000 is 0.31260719895362854.\n",
      "\n",
      "Training loss at step 1500 is 0.3104749917984009.\n",
      "\n",
      "Training acc over epoch is 0.8639500141143799.\n",
      "\n",
      "Training loss over epoch is 0.30505120754241943.\n",
      "\n",
      "Validation acc over epoch is 0.7149999737739563.\n",
      "\n",
      "Validation loss over epoch is 0.9001359939575195.\n",
      "\n",
      "Time taken:120.68024468421936 seconds.\n",
      "\n",
      "Start of Epoch 10\n",
      "\n",
      "Training loss at step 0 is 0.1368502676486969.\n",
      "\n",
      "Training loss at step 500 is 0.29081806540489197.\n",
      "\n",
      "Training loss at step 1000 is 0.29303205013275146.\n",
      "\n",
      "Training loss at step 1500 is 0.2920202910900116.\n",
      "\n",
      "Training acc over epoch is 0.8733833432197571.\n",
      "\n",
      "Training loss over epoch is 0.28734949231147766.\n",
      "\n",
      "Validation acc over epoch is 0.6930000185966492.\n",
      "\n",
      "Validation loss over epoch is 0.9748557806015015.\n",
      "\n",
      "Time taken:120.51103687286377 seconds.\n"
     ]
    }
   ],
   "source": [
    "###################################################\n",
    "# TODO: Create a single-layer LSTM network        #\n",
    "#       using Embedding layer                     #\n",
    "###################################################\n",
    "\n",
    "import time\n",
    "# embedding layer hyperparams\n",
    "vocab_size = 10000\n",
    "embeded_vector_size = 20\n",
    "\n",
    "# model build up\n",
    "model = tf.keras.Sequential()\n",
    "model.add(layers.Embedding(vocab_size, embeded_vector_size, input_length=20))\n",
    "model.add(layers.LSTM(128))\n",
    "model.add(Dropout(0.3))\n",
    "model.add(layers.Dense(1, activation='sigmoid'))\n",
    "\n",
    "# compiler build up\n",
    "optimizer = tf.keras.optimizers.Adam()\n",
    "loss_fn = tf.keras.losses.binary_crossentropy\n",
    "\n",
    "# acc and loss metrics\n",
    "train_loss_metric = tf.keras.metrics.BinaryCrossentropy()\n",
    "val_loss_metric = tf.keras.metrics.BinaryCrossentropy()\n",
    "train_acc_metric = tf.keras.metrics.BinaryAccuracy()\n",
    "val_acc_metric = tf.keras.metrics.BinaryAccuracy()\n",
    "\n",
    "# input and output data preprocessing\n",
    "batch_size = train_labels.shape[0] // 32\n",
    "train_tweets_batch = np.split(train_tweets,batch_size)\n",
    "train_labels_batch = np.split(train_labels,batch_size)\n",
    "train_labels_batch = np.array(train_labels_batch, dtype=np.float32)\n",
    "\n",
    "batch_size_test = test_labels.shape[0] // 20\n",
    "test_tweets_batch = np.split(test_tweets,batch_size_test)\n",
    "test_labels_batch = np.split(test_labels,batch_size_test)\n",
    "test_labels_batch = np.array(test_labels_batch, dtype=np.float32)\n",
    "\n",
    "\n",
    "\n",
    "epoch_num = 10\n",
    "\n",
    "for epoch in range(epoch_num):\n",
    "    start_time = time.time()\n",
    "    print(f'\\nStart of Epoch {epoch+1}')\n",
    "    \n",
    "    # computing training set\n",
    "    for step, tweets in enumerate(train_tweets_batch):\n",
    "        labels = train_labels_batch[step]\n",
    "        labels = np.reshape(labels,(labels.shape[0],1))\n",
    "        with tf.GradientTape() as tape:\n",
    "            label_pred = model(tweets, training=True)\n",
    "            loss = loss_fn(labels, label_pred, from_logits=True)\n",
    "          \n",
    "        grads = tape.gradient(loss, model.trainable_weights)\n",
    "        optimizer.apply_gradients(zip(grads, model.trainable_weights))\n",
    "        \n",
    "        # save the training acc and loss every batch\n",
    "        train_acc_metric.update_state(labels, label_pred)\n",
    "        train_loss_metric.update_state(labels, label_pred)\n",
    "        \n",
    "        # report loss every 500 sample\n",
    "        if step % 500 == 0:\n",
    "            train_loss = train_loss_metric.result()\n",
    "            print(f'\\nTraining loss at step {step} is {train_loss}.')\n",
    "    \n",
    "    # return epoch acc\n",
    "    train_acc = train_acc_metric.result()\n",
    "    print(f'\\nTraining acc over epoch is {train_acc}.')\n",
    "    train_acc_metric.reset_states()\n",
    "    \n",
    "    # return epoch loss\n",
    "    train_loss = train_loss_metric.result()\n",
    "    print(f'\\nTraining loss over epoch is {train_loss}.')\n",
    "    train_loss_metric.reset_states()\n",
    "    \n",
    "    # computing validation set\n",
    "    for step_v, tweets_val in enumerate(test_tweets_batch):\n",
    "        labels_val = test_labels_batch[step_v]\n",
    "        labels_val = np.reshape(labels_val,(labels_val.shape[0],1))\n",
    "        \n",
    "        labels_v_pred = model(tweets_val, training=False)\n",
    "        \n",
    "        # save the validation acc and loss every batch\n",
    "        val_acc_metric.update_state(labels_val, labels_v_pred)\n",
    "        val_loss_metric.update_state(labels_val, labels_v_pred)\n",
    "    \n",
    "    # return validation acc\n",
    "    val_acc = val_acc_metric.result()\n",
    "    print(f'\\nValidation acc over epoch is {val_acc}.')\n",
    "    val_acc_metric.reset_states()\n",
    "    \n",
    "    # return validation loss\n",
    "    val_loss = val_loss_metric.result()\n",
    "    print(f'\\nValidation loss over epoch is {val_loss}.')\n",
    "    val_loss_metric.reset_states()\n",
    "    \n",
    "    print(f'\\nTime taken:{time.time() - start_time} seconds.')\n",
    "    \n",
    "###################################################\n",
    "# END TODO                                        #\n",
    "###################################################"
   ]
  },
  {
   "cell_type": "markdown",
   "metadata": {
    "id": "o9WYOKJtUwe5"
   },
   "source": [
    "## Part 3: Visualize word vectors via tSNE (15%)\n",
    "\n",
    "<font color=\"red\"><strong>TODO:</strong></font>\n",
    "- First, you need to retrieve embedding matrix from the network.\n",
    "- Then use tSNE to reduce each low-dimensional word vector into a 2D vector.\n",
    "- And then, you should visualize some interesting word pairs in 2D panel. (You may find scatter function in matplotlib.pyplot useful.)\n",
    "\n",
    "<font color=\"red\"><strong>Hint:</strong></font> You can use TSNE tool provided in scikit-learn. And if you encounter dead kernel problem caused by \"Intel MKL FATAL ERROR: Cannot load libmkl_avx.so or libmkl_def.so\", please reinstall scikit-learn without MKL, ie., conda install nomkl numpy scipy scikit-learn numexpr.\n",
    "\n",
    "Here we provide some word pairs for you, like female-male or country-capital. And you can observe that these word-pair will look parallel with each other in a 2D tSNE panel. And you can find some other words and explore their relationship.\n"
   ]
  },
  {
   "cell_type": "code",
   "execution_count": 11,
   "metadata": {
    "id": "aVZwhreIVlk0"
   },
   "outputs": [
    {
     "name": "stderr",
     "output_type": "stream",
     "text": [
      "C:\\Users\\highm\\AppData\\Roaming\\Python\\Python39\\site-packages\\sklearn\\manifold\\_t_sne.py:800: FutureWarning: The default initialization in TSNE will change from 'random' to 'pca' in 1.2.\n",
      "  warnings.warn(\n",
      "C:\\Users\\highm\\AppData\\Roaming\\Python\\Python39\\site-packages\\sklearn\\manifold\\_t_sne.py:810: FutureWarning: The default learning rate in TSNE will change from 200.0 to 'auto' in 1.2.\n",
      "  warnings.warn(\n"
     ]
    },
    {
     "data": {
      "text/plain": [
       "Text(0.5, 1.0, '2D Visualization of Male Female')"
      ]
     },
     "execution_count": 11,
     "metadata": {},
     "output_type": "execute_result"
    },
    {
     "data": {
      "image/png": "[encoded data removed]",
      "text/plain": [
       "<Figure size 640x480 with 1 Axes>"
      ]
     },
     "metadata": {},
     "output_type": "display_data"
    },
    {
     "data": {
      "image/png": "[encoded data removed]",
      "text/plain": [
       "<Figure size 640x480 with 1 Axes>"
      ]
     },
     "metadata": {},
     "output_type": "display_data"
    }
   ],
   "source": [
    "# word pairs provided\n",
    "female_male = [\"men\", \"king\", \"women\", \"queen\"]\n",
    "country_capital = [\"spain\", \"madrid\", \"italy\", \"rome\", \"japan\", \"tokyo\"]\n",
    "#you may try some other words as well\n",
    "\n",
    "###################################################\n",
    "# TODO: Visualize word vectors using TSNE.        #\n",
    "#                                                 #\n",
    "###################################################\n",
    "\n",
    "from sklearn.manifold import TSNE\n",
    "embeddings = model.layers[0].get_weights()[0]\n",
    "emb_tsne = TSNE(n_components=2).fit_transform(embeddings)\n",
    "\n",
    "vocab_list = list(vocabulary)\n",
    "indices =[]\n",
    "points=[]\n",
    "\n",
    "for word in country_capital:\n",
    "    indices.append(vocab_list.index(word))\n",
    "\n",
    "points = emb_tsne[indices]\n",
    "plt.scatter(points[:, 0], points[:, 1], 20)    \n",
    "\n",
    "# Country Capital Plot\n",
    "plt.clf()\n",
    "pair = 0\n",
    "for text, pts in zip(country_capital, points):\n",
    "    now = (int(pts[0]), int(pts[1]))\n",
    "    pair += 1    \n",
    "   \n",
    "    if pair == 2:\n",
    "        plt.plot(temp, now, label=temp_text+'-'+text)        \n",
    "        plt.legend()\n",
    "        pair = 0\n",
    "    else:\n",
    "        temp_text = text\n",
    "        temp = now\n",
    "plt.title('2D Visualization of Country Capital')\n",
    "\n",
    "# Male Female Plot\n",
    "plt.subplots(1)\n",
    "pair = 0\n",
    "for text, pts in zip(female_male, points):\n",
    "    now = (int(pts[0]), int(pts[1]))\n",
    "    pair += 1    \n",
    "   \n",
    "    if pair == 2:\n",
    "        plt.plot(temp, now, label=temp_text+'-'+text)        \n",
    "        plt.legend()\n",
    "        pair = 0\n",
    "    else:\n",
    "        temp_text = text\n",
    "        temp = now\n",
    "plt.title('2D Visualization of Male Female')\n",
    "\n",
    "\n",
    "###################################################\n",
    "# END TODO                                        #\n",
    "###################################################"
   ]
  },
  {
   "cell_type": "markdown",
   "metadata": {},
   "source": [
    "<font color=\"red\"><strong>Note:</strong></font> Install **sklearn** if you haven't already. \n",
    "\n",
    "```\n",
    "> pip install sklearn\n",
    "```"
   ]
  },
  {
   "cell_type": "code",
   "execution_count": 9,
   "metadata": {
    "id": "htUwuPmxWT9Q"
   },
   "outputs": [
    {
     "name": "stderr",
     "output_type": "stream",
     "text": [
      "C:\\Users\\highm\\AppData\\Roaming\\Python\\Python39\\site-packages\\sklearn\\manifold\\_t_sne.py:800: FutureWarning: The default initialization in TSNE will change from 'random' to 'pca' in 1.2.\n",
      "  warnings.warn(\n",
      "C:\\Users\\highm\\AppData\\Roaming\\Python\\Python39\\site-packages\\sklearn\\manifold\\_t_sne.py:810: FutureWarning: The default learning rate in TSNE will change from 200.0 to 'auto' in 1.2.\n",
      "  warnings.warn(\n"
     ]
    }
   ],
   "source": [
    "##Solution\n",
    "\n",
    "from sklearn.manifold import TSNE\n",
    "embeddings = model.layers[0].get_weights()[0]\n",
    "emb_tsne = TSNE(n_components=2).fit_transform(embeddings)"
   ]
  },
  {
   "cell_type": "code",
   "execution_count": 10,
   "metadata": {
    "colab": {
     "base_uri": "https://localhost:8080/",
     "height": 267
    },
    "id": "rzrHjQbnWL6S",
    "outputId": "e2a57dd1-88f1-4a9e-926d-4a031e6f17ac"
   },
   "outputs": [
    {
     "data": {
      "image/png": "[encoded data removed]",
      "text/plain": [
       "<Figure size 640x480 with 1 Axes>"
      ]
     },
     "metadata": {},
     "output_type": "display_data"
    }
   ],
   "source": [
    "##Solution\n",
    "\n",
    "vocab_list = list(vocabulary)\n",
    "sample_words = female_male #[\"master\", \"teacher\", \"student\", \"graduate\", \"learning\", \"teach\", \"college\", \"campus\"]\n",
    "indices =[]\n",
    "points = []\n",
    "\n",
    "for word in sample_words:\n",
    "    indices.append(vocab_list.index(word))\n",
    "    \n",
    "points = emb_tsne[indices]\n",
    "plt.scatter(points[:, 0], points[:, 1], 20)\n",
    "\n",
    "for text, pts in zip(sample_words, points):\n",
    "    #plt.annotate(text, (X_tsne[idx,0],X_tsne[idx,1]), fontsize=20)\n",
    "    plt.annotate(text, (int(pts[0]), int(pts[1])))\n",
    "    "
   ]
  },
  {
   "cell_type": "code",
   "execution_count": null,
   "metadata": {},
   "outputs": [],
   "source": []
  }
 ],
 "metadata": {
  "accelerator": "GPU",
  "colab": {
   "name": "Assignment_3_task_2_final.ipynb",
   "provenance": []
  },
  "kernelspec": {
   "display_name": "Python 3 (ipykernel)",
   "language": "python",
   "name": "python3"
  },
  "language_info": {
   "codemirror_mode": {
    "name": "ipython",
    "version": 3
   },
   "file_extension": ".py",
   "mimetype": "text/x-python",
   "name": "python",
   "nbconvert_exporter": "python",
   "pygments_lexer": "ipython3",
   "version": "3.9.13"
  },
  "vscode": {
   "interpreter": {
    "hash": "36142657f443a869bd2c1b509e6f1df9b014ad48aa206cdd00d27f8f22cb37ba"
   }
  }
 },
 "nbformat": 4,
 "nbformat_minor": 4
}
